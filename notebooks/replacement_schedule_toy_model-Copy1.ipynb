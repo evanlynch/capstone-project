{
 "cells": [
  {
   "cell_type": "markdown",
   "metadata": {},
   "source": [
    "### Todo:\n",
    "- ~~Get all possible permutations of a replacement schedule (with 1 replacement, 2, 3)\n",
    "- make replacement schedules flexible with more than 15 year timelines (i.e. more than 3 replacements)\n",
    "- ~~vehicle age matrix~~\n",
    "- ~~vehicle_mileage matrix\n",
    "- ~~odometer matrix\n",
    "- ~~acquisition_cost matrix\n",
    "    - (pct change factor)\n",
    "- ~~consumables_cost matrix\n",
    "- ~~maintenance_cost matrix\n",
    "- ~~figure out how to flag infeasible schedules\n",
    "- ~~make toy example with two vehicles\n",
    "\n",
    "# goals tonight \n",
    "- ~~figure out how to remove infeasible schedules b4 model\n",
    "- start using indexes\n",
    "- ~~add penalty for going over budget or under emissions\n",
    "- add number of charging stations to build and number of charging stations to operate as vars\n",
    "- Do a whole round of scrutiny to make this code much more flexible. \n",
    "- ~~type up formulation\n",
    "- start pulling in real data"
   ]
  },
  {
   "cell_type": "code",
   "execution_count": 1,
   "metadata": {},
   "outputs": [],
   "source": [
    "import numpy as np\n",
    "from sympy.utilities.iterables import multiset_permutations\n",
    "import time\n",
    "import pandas as pd\n",
    "np.set_printoptions(edgeitems=15,linewidth=600)\n",
    "# np.core.arrayprint._line_width = 400"
   ]
  },
  {
   "cell_type": "code",
   "execution_count": 2,
   "metadata": {},
   "outputs": [],
   "source": [
    "start = time.time()"
   ]
  },
  {
   "cell_type": "code",
   "execution_count": 3,
   "metadata": {},
   "outputs": [],
   "source": [
    "numVehicles = 20"
   ]
  },
  {
   "cell_type": "markdown",
   "metadata": {},
   "source": [
    "### Schedules "
   ]
  },
  {
   "cell_type": "code",
   "execution_count": 4,
   "metadata": {},
   "outputs": [],
   "source": [
    "#todo: will likely need a generalizable method for computing the maximum number of replacements possible\n",
    "oneReplacement = np.array([1,0,0,0,0,0,0,0,0,0,0,0,0,0,0])\n",
    "twoReplacements = np.array([1,1,0,0,0,0,0,0,0,0,0,0,0,0,0])\n",
    "threeReplacements = np.array([1,1,1,0,0,0,0,0,0,0,0,0,0,0,0])\n",
    "\n",
    "oneReplacement = list(multiset_permutations(oneReplacement))\n",
    "twoReplacements = list(multiset_permutations(twoReplacements))\n",
    "threeReplacements = list(multiset_permutations(threeReplacements))\n",
    "\n",
    "replacementSchedules = np.array(oneReplacement+twoReplacements+threeReplacements)\n",
    "# replacementSchedules = np.array(twoReplacements+threeReplacements)"
   ]
  },
  {
   "cell_type": "code",
   "execution_count": 5,
   "metadata": {},
   "outputs": [
    {
     "data": {
      "text/plain": [
       "(575, 15)"
      ]
     },
     "execution_count": 5,
     "metadata": {},
     "output_type": "execute_result"
    }
   ],
   "source": [
    "replacementSchedules.shape"
   ]
  },
  {
   "cell_type": "code",
   "execution_count": 6,
   "metadata": {},
   "outputs": [],
   "source": [
    "numSchedules,_ = replacementSchedules.shape"
   ]
  },
  {
   "cell_type": "code",
   "execution_count": 7,
   "metadata": {},
   "outputs": [],
   "source": [
    "replacementSchedules = np.repeat(replacementSchedules[np.newaxis,:, :], numVehicles, axis=0)"
   ]
  },
  {
   "cell_type": "raw",
   "metadata": {},
   "source": [
    "replacementSchedules#[50:80]"
   ]
  },
  {
   "cell_type": "code",
   "execution_count": 8,
   "metadata": {
    "scrolled": true
   },
   "outputs": [],
   "source": [
    "#opposite of replacement -- may want to use this at some point\n",
    "keepSchedules = (replacementSchedules-1)*-1\n",
    "# keepSchedules#[50:80]"
   ]
  },
  {
   "cell_type": "markdown",
   "metadata": {},
   "source": [
    "### Age"
   ]
  },
  {
   "cell_type": "code",
   "execution_count": 9,
   "metadata": {},
   "outputs": [],
   "source": [
    "def initialize_vehicle_age(keepSchedules,startingAge=0):\n",
    "    \"\"\"Gets the vehicle age building process started. Produces a matrix for the age of the vehicle according to the replacement schedule, which is later fixed by get_vehicle_age\"\"\"\n",
    "    age = startingAge+np.cumsum(keepSchedules,axis=2)*keepSchedules\n",
    "    age[age==startingAge] = 0 #fixes the fact that replaced vehicles start at 0 (if this wasn't here they would start at the starting age)\n",
    "    return age\n",
    "\n",
    "\n",
    "def get_vehicle_age(age=None,k=1,startingAge=0):\n",
    "    if k==1:\n",
    "        age = initialize_vehicle_age(keepSchedules,startingAge)\n",
    "\n",
    "    diff = np.diff(age,axis=2)\n",
    "    diffMask = np.append(np.ones(shape=(numVehicles,numSchedules,1)),diff,axis=2)>1\n",
    "    age[diffMask]=k\n",
    "\n",
    "    if age[diffMask].size==0:\n",
    "        return age\n",
    "    else:\n",
    "        return get_vehicle_age(age,k=k+1)\n",
    "\n",
    "age = get_vehicle_age(startingAge=0)#[50:80]"
   ]
  },
  {
   "cell_type": "code",
   "execution_count": 10,
   "metadata": {},
   "outputs": [
    {
     "data": {
      "text/plain": [
       "(20, 575, 15)"
      ]
     },
     "execution_count": 10,
     "metadata": {},
     "output_type": "execute_result"
    }
   ],
   "source": [
    "age.shape"
   ]
  },
  {
   "cell_type": "markdown",
   "metadata": {},
   "source": [
    "### Mileage"
   ]
  },
  {
   "cell_type": "code",
   "execution_count": 11,
   "metadata": {},
   "outputs": [],
   "source": [
    "#vehicle_mileage matrix \n",
    "# vehicle_mileage = np.repeat(np.round(np.random.normal(loc=10000,scale=2000,size=(1, 15))),numSchedules,axis=0)\n",
    "annual_mileage = np.ones(shape=(numVehicles,numSchedules,15))\n",
    "annual_mileage[0,:,:]*=np.round(np.random.normal(loc=10000,scale=2000))\n",
    "annual_mileage[1,:,:]*=np.round(np.random.normal(loc=11000,scale=2000))"
   ]
  },
  {
   "cell_type": "code",
   "execution_count": 12,
   "metadata": {},
   "outputs": [],
   "source": [
    "#matrix showing what the odometer reading will be under each schedule\n",
    "odometer = annual_mileage*age"
   ]
  },
  {
   "cell_type": "markdown",
   "metadata": {},
   "source": [
    "### Acquisition"
   ]
  },
  {
   "cell_type": "code",
   "execution_count": 13,
   "metadata": {},
   "outputs": [],
   "source": [
    "#Todo: need to look up acquisitoin cost for each vehicle\n",
    "def get_acquisition_cost(replacementSchedules):\n",
    "    acquisition = replacementSchedules.copy()\n",
    "    for v in range(numVehicles):\n",
    "        acquisition[v,:,:]*=np.random.randint(20000,40000)\n",
    "    return acquisition\n",
    "\n",
    "acquisition = get_acquisition_cost(replacementSchedules)"
   ]
  },
  {
   "cell_type": "markdown",
   "metadata": {},
   "source": [
    "### Consumables"
   ]
  },
  {
   "cell_type": "code",
   "execution_count": 14,
   "metadata": {},
   "outputs": [],
   "source": [
    "def get_vehicle_type_trackers(replacementSchedules):\n",
    "    \"\"\"Returns two matrices. One that tracks if in a givemn year a schedule implies the vehicle is still an ice, and then the opposite: whether or not in a given year a vehicle is now an EV\"\"\"\n",
    "    firstReplacements = np.argmax(replacementSchedules[0]==1,axis=1) #gets index of year the vehicle is first replaced (ie it transitions from ICE to EV)\n",
    "    is_ice = replacementSchedules.copy()\n",
    "    is_ev = replacementSchedules.copy()\n",
    "    \n",
    "    for i in range(0,numSchedules): #there is most definitely a better way to do this in numpy but I took way too long researching\n",
    "        is_ice[:,i,firstReplacements[i]:] = 0\n",
    "        is_ice[:,i,:firstReplacements[i]] = 1\n",
    "\n",
    "        is_ev[:,i,firstReplacements[i]:] = 1\n",
    "        is_ev[:,i,:firstReplacements[i]] = 0\n",
    "    return is_ice,is_ev\n",
    "\n",
    "is_ice,is_ev = get_vehicle_type_trackers(replacementSchedules)"
   ]
  },
  {
   "cell_type": "code",
   "execution_count": 15,
   "metadata": {},
   "outputs": [],
   "source": [
    "def get_consumables(is_ice,is_ev):\n",
    "    \"\"\"Will make this function more flexible later. Calculates fuel cost as if always ICE and always EV. And then applies to the schedules based on when the initial transition from ICE to EV occurs. \"\"\"   \n",
    "    #ICE\n",
    "    #fuel $ = mileage/mpg*cpg\n",
    "    cpg = 2.25\n",
    "    mpg = 22\n",
    "    fuel = annual_mileage/mpg*cpg\n",
    "\n",
    "        #EV\n",
    "    #fuel $ = mileage/mpeg * cpeg\n",
    "    cpeg = 1.2\n",
    "    mpeg = 100\n",
    "    electricity = annual_mileage/mpeg*cpeg\n",
    "\n",
    "    consumables = np.round(fuel*is_ice+(electricity*is_ev))\n",
    "    return consumables\n",
    "\n",
    "consumables = get_consumables(is_ice,is_ev)"
   ]
  },
  {
   "cell_type": "markdown",
   "metadata": {},
   "source": [
    "### Maintenance cost"
   ]
  },
  {
   "cell_type": "code",
   "execution_count": 16,
   "metadata": {},
   "outputs": [],
   "source": [
    "def get_maintenance_cost(age,annual_mileage,odometer):\n",
    "    \"\"\"- ! because this is likely to change. For now I'm just going to treat as a linear regression with made up coeffs.\"\"\"\n",
    "    age_coef = .01\n",
    "    mileage_coef = .2\n",
    "    odometer_coef = .1\n",
    "    maintenance = (age_coef*age)+(mileage_coef*annual_mileage)+(odometer_coef*odometer)\n",
    "    return maintenance\n",
    "\n",
    "maintenance = get_maintenance_cost(age,annual_mileage,odometer)"
   ]
  },
  {
   "cell_type": "markdown",
   "metadata": {},
   "source": [
    "### Emissons"
   ]
  },
  {
   "cell_type": "code",
   "execution_count": 17,
   "metadata": {},
   "outputs": [],
   "source": [
    "def get_emissions(is_ice,is_ev):\n",
    "    \"\"\"Will make this function more flexible later. Calculates fuel cost as if always ICE and always EV. And then applies to the schedules based on when the initial transition from ICE to EV occurs. \"\"\"   \n",
    "    #calc: kg CO2/gallon * mileage/mpg\n",
    "    \n",
    "    ice_emission_factor = 2.421\n",
    "    mpg = 22\n",
    "    ice_emissions = ice_emission_factor*annual_mileage/mpg\n",
    "\n",
    "    ev_emission_factor = 0\n",
    "    mpge = 100\n",
    "    ev_emissions = ev_emission_factor*annual_mileage/mpge\n",
    "\n",
    "    emissions = np.round((ice_emissions*is_ice)+(ev_emissions*is_ev))\n",
    "    return emissions\n",
    "\n",
    "emissions = get_emissions(is_ice,is_ev)"
   ]
  },
  {
   "cell_type": "markdown",
   "metadata": {},
   "source": [
    "### Find and filter out infeasible schedules\n",
    "- infeasible in the sense that they have a replacement happening in years where the vehicle is both under 6 years old and doesn't yet have 150k miles on it"
   ]
  },
  {
   "cell_type": "code",
   "execution_count": 18,
   "metadata": {},
   "outputs": [],
   "source": [
    "odometer_diff = np.diff(odometer)\n",
    "odometer_check = (odometer_diff>-150000) & (odometer_diff<=0)"
   ]
  },
  {
   "cell_type": "code",
   "execution_count": 19,
   "metadata": {},
   "outputs": [],
   "source": [
    "age_diff = np.diff(age)\n",
    "age_check = (age_diff>-6) & (age_diff<=0)#.any()\n"
   ]
  },
  {
   "cell_type": "code",
   "execution_count": 20,
   "metadata": {},
   "outputs": [],
   "source": [
    "both_check = odometer_check*age_check"
   ]
  },
  {
   "cell_type": "code",
   "execution_count": 21,
   "metadata": {},
   "outputs": [],
   "source": [
    "infeasible_filter = both_check.any(axis=2)"
   ]
  },
  {
   "cell_type": "code",
   "execution_count": 22,
   "metadata": {},
   "outputs": [],
   "source": [
    "# replacementSchedules[~infeasible_filter]"
   ]
  },
  {
   "cell_type": "code",
   "execution_count": 23,
   "metadata": {},
   "outputs": [],
   "source": [
    "#!I feel like there should be more feasible schedules. Will need to come back to this. \n",
    "def find_infeasible_schedules(odometer,age):\n",
    "    \"\"\"Generates a mask that is True for any schedule that is infeasible. These can be filtered out before running the model.\"\"\"\n",
    "    odometer_diff = np.diff(odometer)\n",
    "    odometer_check = (odometer_diff>-150000) & (odometer_diff<=0)\n",
    "\n",
    "    age_diff = np.diff(age)\n",
    "    age_check = (age_diff>-6) & (age_diff<=0)#.any()\n",
    "\n",
    "    both_check = odometer_check*age_check\n",
    "    is_infeasible = both_check.any(axis=2)\n",
    "    return is_infeasible\n",
    "\n",
    "infeasible_filter = find_infeasible_schedules(odometer,age)\n",
    "# replacementSchedules[~infeasible_filter]"
   ]
  },
  {
   "cell_type": "raw",
   "metadata": {},
   "source": [
    "infeasible_filter[2][0:20] = True"
   ]
  },
  {
   "cell_type": "raw",
   "metadata": {},
   "source": [
    "infeasible_filter.shape"
   ]
  },
  {
   "cell_type": "raw",
   "metadata": {},
   "source": [
    "c = []\n",
    "for v in vehicles:\n",
    "    c.append(np.take(consumables,np.where(~infeasible_filter[v,:])[0],axis=1))\n",
    "    print(np.take(consumables,np.where(~infeasible_filter[v,:])[0],axis=1).shape)"
   ]
  },
  {
   "cell_type": "raw",
   "metadata": {},
   "source": [
    "for i in c:\n",
    "    print(i.shape)"
   ]
  },
  {
   "cell_type": "raw",
   "metadata": {},
   "source": [
    "np.stack(c)"
   ]
  },
  {
   "cell_type": "raw",
   "metadata": {},
   "source": [
    "ii = np.take(consumables,np.where(~infeasible_filter)[0],axis=1)"
   ]
  },
  {
   "cell_type": "raw",
   "metadata": {},
   "source": [
    "infeasible_filter"
   ]
  },
  {
   "cell_type": "raw",
   "metadata": {},
   "source": [
    "ii.shape"
   ]
  },
  {
   "cell_type": "raw",
   "metadata": {},
   "source": [
    "ii"
   ]
  },
  {
   "cell_type": "raw",
   "metadata": {},
   "source": [
    "ii[0].shape"
   ]
  },
  {
   "cell_type": "raw",
   "metadata": {},
   "source": [
    "consumables.shape"
   ]
  },
  {
   "cell_type": "raw",
   "metadata": {},
   "source": [
    "infeasible_filter"
   ]
  },
  {
   "cell_type": "code",
   "execution_count": 24,
   "metadata": {},
   "outputs": [
    {
     "data": {
      "text/plain": [
       "(20, 575)"
      ]
     },
     "execution_count": 24,
     "metadata": {},
     "output_type": "execute_result"
    }
   ],
   "source": [
    "infeasible_filter.shape"
   ]
  },
  {
   "cell_type": "raw",
   "metadata": {},
   "source": [
    "consumables[~infeasible_filter]"
   ]
  },
  {
   "cell_type": "markdown",
   "metadata": {},
   "source": [
    "### Toy Model "
   ]
  },
  {
   "cell_type": "code",
   "execution_count": 25,
   "metadata": {},
   "outputs": [],
   "source": [
    "import gurobipy as grb"
   ]
  },
  {
   "cell_type": "code",
   "execution_count": 26,
   "metadata": {},
   "outputs": [],
   "source": [
    "num_vehicles,num_schedules,num_years = replacementSchedules.shape"
   ]
  },
  {
   "cell_type": "code",
   "execution_count": 27,
   "metadata": {},
   "outputs": [],
   "source": [
    "vehicles = [v for v in range(0,num_vehicles)]\n",
    "schedules = [s for s in range(0,num_schedules)]\n",
    "years = [t for t in range(0,num_years)]\n",
    "finalYear = max(years)"
   ]
  },
  {
   "cell_type": "code",
   "execution_count": 28,
   "metadata": {
    "scrolled": true
   },
   "outputs": [],
   "source": [
    "c = {}\n",
    "a = {}\n",
    "m = {}\n",
    "e = {}\n",
    "for v in vehicles:\n",
    "    for s in schedules:\n",
    "        if not infeasible_filter[v,s]:\n",
    "            c[v,s] = consumables[v,s]\n",
    "            a[v,s] = acquisition[v,s]\n",
    "            m[v,s] = maintenance[v,s]\n",
    "            e[v,s] = emissions[v,s]"
   ]
  },
  {
   "cell_type": "code",
   "execution_count": 29,
   "metadata": {},
   "outputs": [],
   "source": [
    "consumables = c.copy()\n",
    "acquisition = a.copy()\n",
    "maintenance = m.copy()\n",
    "emissions = e.copy()"
   ]
  },
  {
   "cell_type": "code",
   "execution_count": 30,
   "metadata": {},
   "outputs": [],
   "source": [
    "#! I think I can pull the code I used in modelinputsgen\n",
    "budget_acquisition = 1300000*np.ones(shape=(15)) \n",
    "budget_operations = 1000000*np.ones(shape=(15))\n",
    "\n",
    "emissions_goal = 40000\n",
    "\n",
    "numDesiredSolutions = 3"
   ]
  },
  {
   "cell_type": "code",
   "execution_count": 31,
   "metadata": {},
   "outputs": [
    {
     "name": "stdout",
     "output_type": "stream",
     "text": [
      "Using license file C:\\Users\\elynch\\gurobi.lic\n",
      "Academic license - for non-commercial use only\n"
     ]
    }
   ],
   "source": [
    "try: \n",
    "    m.reset()\n",
    "    del m    \n",
    "except:\n",
    "    None\n",
    "    \n",
    "m = grb.Model('carnet')"
   ]
  },
  {
   "cell_type": "code",
   "execution_count": 32,
   "metadata": {},
   "outputs": [
    {
     "name": "stdout",
     "output_type": "stream",
     "text": [
      "Changed value of parameter PoolSearchMode to 2\n",
      "   Prev: 0  Min: 0  Max: 2  Default: 0\n",
      "Changed value of parameter PoolSolutions to 3\n",
      "   Prev: 10  Min: 1  Max: 2000000000  Default: 10\n",
      "Changed value of parameter TimeLimit to 30.0\n",
      "   Prev: inf  Min: 0.0  Max: inf  Default: inf\n"
     ]
    }
   ],
   "source": [
    "m.setParam('PoolSearchMode',2) #tell gurobi I want multiple solutions\n",
    "m.setParam('PoolSolutions',numDesiredSolutions) #number of solutions I want\n",
    "m.setParam('TimeLimit',30)"
   ]
  },
  {
   "cell_type": "code",
   "execution_count": 33,
   "metadata": {},
   "outputs": [],
   "source": [
    "x = m.addVars(vehicles,schedules,vtype=grb.GRB.BINARY,name='x')\n",
    "penalty_budget = m.addVar(vtype=grb.GRB.CONTINUOUS,name='penalty_budget')\n",
    "penalty_emissions = m.addVar(vtype=grb.GRB.CONTINUOUS,name='penalty_emissions')\n",
    "# y = m.addVars(years,)"
   ]
  },
  {
   "cell_type": "raw",
   "metadata": {},
   "source": [
    "x = m.addMVar((numVehicles,numSchedules),vtype=grb.GRB.BINARY)"
   ]
  },
  {
   "cell_type": "code",
   "execution_count": 34,
   "metadata": {},
   "outputs": [],
   "source": [
    "w = {'cost':0.70,'emissions':0.30}"
   ]
  },
  {
   "cell_type": "code",
   "execution_count": 35,
   "metadata": {},
   "outputs": [],
   "source": [
    "# total_cost = np.sum(consumables+acquisition+maintenance,axis=2)\n",
    "# total_acquisition_cost = np.sum(acquisition,axis=2)\n",
    "# total_operations_cost = np.sum(consumables+maintenance,axis=2)"
   ]
  },
  {
   "cell_type": "raw",
   "metadata": {},
   "source": [
    "x = np.array(list(x.items()))"
   ]
  },
  {
   "cell_type": "code",
   "execution_count": 36,
   "metadata": {},
   "outputs": [],
   "source": [
    "validSchedules = list(consumables.keys())"
   ]
  },
  {
   "cell_type": "code",
   "execution_count": 37,
   "metadata": {},
   "outputs": [],
   "source": [
    "obj = m.setObjective(grb.quicksum(w['cost']*consumables[v,s][t]*x[v,s] for v,s in validSchedules for t in years) + \n",
    "                     grb.quicksum(w['emissions']*emissions[v,s][finalYear]*x[v,s] for v,s in validSchedules) +\n",
    "                     1000000*(penalty_budget+penalty_emissions),grb.GRB.MINIMIZE)\n",
    "# obj = m.setObjective(grb.quicksum(w['cost']*(consumables[v,s,t]+acquisition[v,s,t]+maintenance[v,s,t])*x[v,s] + \n",
    "#                                   w['emissions']*emissions[v,s,finalYear]*x[v,s] for v in vehicles for s in schedules for t in years),grb.GRB.MINIMIZE)"
   ]
  },
  {
   "cell_type": "raw",
   "metadata": {},
   "source": [
    "obj = m.setObjective(grb.quicksum(w['cost']*total_cost[v,s]*x[v,s] for v in vehicles for s in schedules) + \n",
    "                     grb.quicksum(w['emissions']*emissions[v,s,finalYear]*x[v,s] for v in vehicles for s in schedules) +\n",
    "                     1000000*(penalty_budget+penalty_emissions),grb.GRB.MINIMIZE)\n",
    "# obj = m.setObjective(grb.quicksum(w['cost']*(consumables[v,s,t]+acquisition[v,s,t]+maintenance[v,s,t])*x[v,s] + \n",
    "#                                   w['emissions']*emissions[v,s,finalYear]*x[v,s] for v in vehicles for s in schedules for t in years),grb.GRB.MINIMIZE)"
   ]
  },
  {
   "cell_type": "code",
   "execution_count": 38,
   "metadata": {},
   "outputs": [],
   "source": [
    "import pandas as pd\n",
    "validSchedulesPerVehicle = pd.DataFrame(validSchedules).groupby(0)[1].unique().to_dict()"
   ]
  },
  {
   "cell_type": "code",
   "execution_count": 39,
   "metadata": {},
   "outputs": [],
   "source": [
    "c1 = m.addConstrs((grb.quicksum(x[v,s] for s in validSchedulesPerVehicle[v])==1 for v in vehicles),'one_schedule_per_vehicle')"
   ]
  },
  {
   "cell_type": "code",
   "execution_count": 40,
   "metadata": {},
   "outputs": [],
   "source": [
    "c2 = m.addConstrs((grb.quicksum((consumables[v,s][t]+maintenance[v,s][t])*x[v,s] for v,s in validSchedules) <= budget_operations[t]+penalty_budget for t in years),'operations_budget')\n",
    "c3 = m.addConstrs((grb.quicksum(acquisition[v,s][t]*x[v,s] for v,s in validSchedules) <= budget_operations[t]+penalty_budget for t in years),'acquisition_budget')"
   ]
  },
  {
   "cell_type": "code",
   "execution_count": 41,
   "metadata": {},
   "outputs": [],
   "source": [
    "c4 = m.addConstr((grb.quicksum(emissions[v,s][finalYear]*x[v,s] for v,s in validSchedules) <= emissions_goal+penalty_emissions),'emissions_goal')"
   ]
  },
  {
   "cell_type": "code",
   "execution_count": 42,
   "metadata": {},
   "outputs": [],
   "source": [
    "# c5 = m.addConstrs((infeasible_filter[v,s]*x[v,s] <= 0 for v in vehicles for s in schedules),'infeasible_schedules')"
   ]
  },
  {
   "cell_type": "raw",
   "metadata": {},
   "source": [
    "c1 = m.addConstrs((grb.quicksum(x[v,s] for s in schedules)==1 for v in vehicles),'one_schedule_per_vehicle')\n",
    "\n",
    "c2 = m.addConstrs((grb.quicksum((consumables[v,s,t]+maintenance[v,s,t])*x[v,s] for v in vehicles \n",
    "                                for s in schedules) <= budget_operations[t]+penalty_budget for t in years),'operations_budget')\n",
    "c3 = m.addConstrs((grb.quicksum(acquisition[v,s,t]*x[v,s] for v in vehicles for s in schedules) <= budget_operations[t]+penalty_budget for t in years),'acquisition_budget')\n",
    "\n",
    "c4 = m.addConstr((grb.quicksum(emissions[v,s,finalYear]*x[v,s] for v in vehicles for s in schedules) <= emissions_goal+penalty_emissions),'emissions_goal')\n",
    "\n",
    "# c5 = m.addConstrs((infeasible_filter[v,s]*x[v,s] <= 0 for v in vehicles for s in schedules),'infeasible_schedules')"
   ]
  },
  {
   "cell_type": "code",
   "execution_count": 43,
   "metadata": {},
   "outputs": [
    {
     "name": "stdout",
     "output_type": "stream",
     "text": [
      "Gurobi Optimizer version 9.0.3 build v9.0.3rc0 (win64)\n",
      "Optimize a model with 51 rows, 11502 columns and 7771 nonzeros\n",
      "Model fingerprint: 0x8de1fb7b\n",
      "Variable types: 2 continuous, 11500 integer (11500 binary)\n",
      "Coefficient statistics:\n",
      "  Matrix range     [2e-01, 4e+04]\n",
      "  Objective range  [1e+03, 1e+06]\n",
      "  Bounds range     [1e+00, 1e+00]\n",
      "  RHS range        [1e+00, 1e+06]\n",
      "Found heuristic solution: objective 6295.8000000\n",
      "Presolve removed 31 rows and 0 columns\n",
      "Presolve time: 0.00s\n",
      "Presolved: 20 rows, 11502 columns, 440 nonzeros\n",
      "Variable types: 2 continuous, 11500 integer (11500 binary)\n",
      "Found heuristic solution: objective 2541.0000000\n",
      "\n",
      "Root relaxation: objective 2.541000e+03, 20 iterations, 0.00 seconds\n",
      "\n",
      "    Nodes    |    Current Node    |     Objective Bounds      |     Work\n",
      " Expl Unexpl |  Obj  Depth IntInf | Incumbent    BestBd   Gap | It/Node Time\n",
      "\n",
      "     0     0          -    0      2541.00000 2541.00000  0.00%     -    0s\n",
      "\n",
      "Optimal solution found at node 0 - now completing solution pool...\n",
      "\n",
      "    Nodes    |    Current Node    |      Pool Obj. Bounds     |     Work\n",
      "             |                    |   Worst                   |\n",
      " Expl Unexpl |  Obj  Depth IntInf | Incumbent    BestBd   Gap | It/Node Time\n",
      "\n",
      "     0     0          -    0      6295.80000 2541.00000  59.6%     -    0s\n",
      "     0     0          -    0      6295.80000 2541.00000  59.6%     -    0s\n",
      "     0     2          -    0      6295.80000 2541.00000  59.6%     -    0s\n",
      "\n",
      "Explored 21 nodes (20 simplex iterations) in 0.05 seconds\n",
      "Thread count was 12 (of 12 available processors)\n",
      "\n",
      "Solution count 3: 2541 2541 2541 \n",
      "\n",
      "Optimal solution found (tolerance 1.00e-04)\n",
      "Best objective 2.541000000000e+03, best bound 2.541000000000e+03, gap 0.0000%\n"
     ]
    }
   ],
   "source": [
    "m.optimize()"
   ]
  },
  {
   "cell_type": "raw",
   "metadata": {},
   "source": [
    "m.computeIIS()\n",
    "m.write(\"model.ilp\")"
   ]
  },
  {
   "cell_type": "code",
   "execution_count": 44,
   "metadata": {},
   "outputs": [
    {
     "name": "stdout",
     "output_type": "stream",
     "text": [
      "--- 1.0826854705810547 seconds ---\n"
     ]
    }
   ],
   "source": [
    "end = time.time()\n",
    "print(\"--- %s seconds ---\" % (time.time() - start))\n"
   ]
  },
  {
   "cell_type": "code",
   "execution_count": 46,
   "metadata": {
    "scrolled": true
   },
   "outputs": [
    {
     "name": "stdout",
     "output_type": "stream",
     "text": [
      "\n",
      "0\n",
      "   Vehicle: 1 Schedule: 505 [1 0 0 0 0 0 0 1 0 0 0 0 0 0 1]\n",
      "   Vehicle: 2 Schedule: 505 [1 0 0 0 0 0 0 1 0 0 0 0 0 0 1]\n",
      "   Vehicle: 3 Schedule: 505 [1 0 0 0 0 0 0 1 0 0 0 0 0 0 1]\n",
      "   Vehicle: 4 Schedule: 505 [1 0 0 0 0 0 0 1 0 0 0 0 0 0 1]\n",
      "   Vehicle: 5 Schedule: 505 [1 0 0 0 0 0 0 1 0 0 0 0 0 0 1]\n",
      "   Vehicle: 6 Schedule: 505 [1 0 0 0 0 0 0 1 0 0 0 0 0 0 1]\n",
      "   Vehicle: 7 Schedule: 505 [1 0 0 0 0 0 0 1 0 0 0 0 0 0 1]\n",
      "   Vehicle: 8 Schedule: 505 [1 0 0 0 0 0 0 1 0 0 0 0 0 0 1]\n",
      "   Vehicle: 9 Schedule: 505 [1 0 0 0 0 0 0 1 0 0 0 0 0 0 1]\n",
      "   Vehicle: 10 Schedule: 505 [1 0 0 0 0 0 0 1 0 0 0 0 0 0 1]\n",
      "   Vehicle: 11 Schedule: 505 [1 0 0 0 0 0 0 1 0 0 0 0 0 0 1]\n",
      "   Vehicle: 12 Schedule: 505 [1 0 0 0 0 0 0 1 0 0 0 0 0 0 1]\n",
      "   Vehicle: 13 Schedule: 505 [1 0 0 0 0 0 0 1 0 0 0 0 0 0 1]\n",
      "   Vehicle: 14 Schedule: 505 [1 0 0 0 0 0 0 1 0 0 0 0 0 0 1]\n",
      "   Vehicle: 15 Schedule: 505 [1 0 0 0 0 0 0 1 0 0 0 0 0 0 1]\n",
      "   Vehicle: 16 Schedule: 505 [1 0 0 0 0 0 0 1 0 0 0 0 0 0 1]\n",
      "   Vehicle: 17 Schedule: 505 [1 0 0 0 0 0 0 1 0 0 0 0 0 0 1]\n",
      "   Vehicle: 18 Schedule: 505 [1 0 0 0 0 0 0 1 0 0 0 0 0 0 1]\n",
      "   Vehicle: 19 Schedule: 505 [1 0 0 0 0 0 0 1 0 0 0 0 0 0 1]\n",
      "   Vehicle: 20 Schedule: 505 [1 0 0 0 0 0 0 1 0 0 0 0 0 0 1]\n",
      "\n",
      "1\n",
      "   Vehicle: 1 Schedule: 14 [1 0 0 0 0 0 0 0 0 0 0 0 0 0 0]\n",
      "   Vehicle: 2 Schedule: 14 [1 0 0 0 0 0 0 0 0 0 0 0 0 0 0]\n",
      "   Vehicle: 3 Schedule: 0 [0 0 0 0 0 0 0 0 0 0 0 0 0 0 1]\n",
      "   Vehicle: 4 Schedule: 0 [0 0 0 0 0 0 0 0 0 0 0 0 0 0 1]\n",
      "   Vehicle: 5 Schedule: 0 [0 0 0 0 0 0 0 0 0 0 0 0 0 0 1]\n",
      "   Vehicle: 6 Schedule: 0 [0 0 0 0 0 0 0 0 0 0 0 0 0 0 1]\n",
      "   Vehicle: 7 Schedule: 0 [0 0 0 0 0 0 0 0 0 0 0 0 0 0 1]\n",
      "   Vehicle: 8 Schedule: 0 [0 0 0 0 0 0 0 0 0 0 0 0 0 0 1]\n",
      "   Vehicle: 9 Schedule: 0 [0 0 0 0 0 0 0 0 0 0 0 0 0 0 1]\n",
      "   Vehicle: 10 Schedule: 0 [0 0 0 0 0 0 0 0 0 0 0 0 0 0 1]\n",
      "   Vehicle: 11 Schedule: 0 [0 0 0 0 0 0 0 0 0 0 0 0 0 0 1]\n",
      "   Vehicle: 12 Schedule: 0 [0 0 0 0 0 0 0 0 0 0 0 0 0 0 1]\n",
      "   Vehicle: 13 Schedule: 0 [0 0 0 0 0 0 0 0 0 0 0 0 0 0 1]\n",
      "   Vehicle: 14 Schedule: 0 [0 0 0 0 0 0 0 0 0 0 0 0 0 0 1]\n",
      "   Vehicle: 15 Schedule: 0 [0 0 0 0 0 0 0 0 0 0 0 0 0 0 1]\n",
      "   Vehicle: 16 Schedule: 0 [0 0 0 0 0 0 0 0 0 0 0 0 0 0 1]\n",
      "   Vehicle: 17 Schedule: 0 [0 0 0 0 0 0 0 0 0 0 0 0 0 0 1]\n",
      "   Vehicle: 18 Schedule: 0 [0 0 0 0 0 0 0 0 0 0 0 0 0 0 1]\n",
      "   Vehicle: 19 Schedule: 0 [0 0 0 0 0 0 0 0 0 0 0 0 0 0 1]\n",
      "   Vehicle: 20 Schedule: 0 [0 0 0 0 0 0 0 0 0 0 0 0 0 0 1]\n",
      "\n",
      "2\n",
      "   Vehicle: 1 Schedule: 9 [0 0 0 0 0 1 0 0 0 0 0 0 0 0 0]\n",
      "   Vehicle: 1 Schedule: 14 [1 0 0 0 0 0 0 0 0 0 0 0 0 0 0]\n",
      "   Vehicle: 2 Schedule: 14 [1 0 0 0 0 0 0 0 0 0 0 0 0 0 0]\n",
      "   Vehicle: 3 Schedule: 0 [0 0 0 0 0 0 0 0 0 0 0 0 0 0 1]\n",
      "   Vehicle: 4 Schedule: 0 [0 0 0 0 0 0 0 0 0 0 0 0 0 0 1]\n",
      "   Vehicle: 5 Schedule: 0 [0 0 0 0 0 0 0 0 0 0 0 0 0 0 1]\n",
      "   Vehicle: 6 Schedule: 0 [0 0 0 0 0 0 0 0 0 0 0 0 0 0 1]\n",
      "   Vehicle: 7 Schedule: 0 [0 0 0 0 0 0 0 0 0 0 0 0 0 0 1]\n",
      "   Vehicle: 8 Schedule: 0 [0 0 0 0 0 0 0 0 0 0 0 0 0 0 1]\n",
      "   Vehicle: 9 Schedule: 0 [0 0 0 0 0 0 0 0 0 0 0 0 0 0 1]\n",
      "   Vehicle: 10 Schedule: 0 [0 0 0 0 0 0 0 0 0 0 0 0 0 0 1]\n",
      "   Vehicle: 11 Schedule: 0 [0 0 0 0 0 0 0 0 0 0 0 0 0 0 1]\n",
      "   Vehicle: 12 Schedule: 0 [0 0 0 0 0 0 0 0 0 0 0 0 0 0 1]\n",
      "   Vehicle: 13 Schedule: 0 [0 0 0 0 0 0 0 0 0 0 0 0 0 0 1]\n",
      "   Vehicle: 14 Schedule: 0 [0 0 0 0 0 0 0 0 0 0 0 0 0 0 1]\n",
      "   Vehicle: 15 Schedule: 0 [0 0 0 0 0 0 0 0 0 0 0 0 0 0 1]\n",
      "   Vehicle: 16 Schedule: 0 [0 0 0 0 0 0 0 0 0 0 0 0 0 0 1]\n",
      "   Vehicle: 17 Schedule: 0 [0 0 0 0 0 0 0 0 0 0 0 0 0 0 1]\n",
      "   Vehicle: 18 Schedule: 0 [0 0 0 0 0 0 0 0 0 0 0 0 0 0 1]\n",
      "   Vehicle: 19 Schedule: 0 [0 0 0 0 0 0 0 0 0 0 0 0 0 0 1]\n",
      "   Vehicle: 20 Schedule: 0 [0 0 0 0 0 0 0 0 0 0 0 0 0 0 1]\n",
      "\n",
      "3\n"
     ]
    },
    {
     "ename": "AttributeError",
     "evalue": "Unable to retrieve attribute 'xn'",
     "output_type": "error",
     "traceback": [
      "\u001b[1;31m---------------------------------------------------------------------------\u001b[0m",
      "\u001b[1;31mAttributeError\u001b[0m                            Traceback (most recent call last)",
      "\u001b[1;32m<ipython-input-46-b687986304cb>\u001b[0m in \u001b[0;36m<module>\u001b[1;34m\u001b[0m\n\u001b[0;32m      9\u001b[0m     \u001b[1;32mfor\u001b[0m \u001b[0mv\u001b[0m \u001b[1;32min\u001b[0m \u001b[0mvehicles\u001b[0m\u001b[1;33m:\u001b[0m\u001b[1;33m\u001b[0m\u001b[1;33m\u001b[0m\u001b[0m\n\u001b[0;32m     10\u001b[0m         \u001b[1;32mfor\u001b[0m \u001b[0ms\u001b[0m \u001b[1;32min\u001b[0m \u001b[0mschedules\u001b[0m\u001b[1;33m:\u001b[0m\u001b[1;33m\u001b[0m\u001b[1;33m\u001b[0m\u001b[0m\n\u001b[1;32m---> 11\u001b[1;33m             \u001b[1;32mif\u001b[0m \u001b[0mx\u001b[0m\u001b[1;33m[\u001b[0m\u001b[0mv\u001b[0m\u001b[1;33m,\u001b[0m\u001b[0ms\u001b[0m\u001b[1;33m]\u001b[0m\u001b[1;33m.\u001b[0m\u001b[0mxn\u001b[0m\u001b[1;33m==\u001b[0m\u001b[1;36m1\u001b[0m\u001b[1;33m:\u001b[0m\u001b[1;33m\u001b[0m\u001b[1;33m\u001b[0m\u001b[0m\n\u001b[0m\u001b[0;32m     12\u001b[0m                 \u001b[0mprint\u001b[0m\u001b[1;33m(\u001b[0m\u001b[1;34mf'   Vehicle: {v+1} Schedule: {s} {replacementSchedules[v,s]}'\u001b[0m\u001b[1;33m)\u001b[0m\u001b[1;33m\u001b[0m\u001b[1;33m\u001b[0m\u001b[0m\n",
      "\u001b[1;32mvar.pxi\u001b[0m in \u001b[0;36mgurobipy.Var.__getattr__\u001b[1;34m()\u001b[0m\n",
      "\u001b[1;32mvar.pxi\u001b[0m in \u001b[0;36mgurobipy.Var.getAttr\u001b[1;34m()\u001b[0m\n",
      "\u001b[1;32mattrutil.pxi\u001b[0m in \u001b[0;36mgurobipy.__getattr\u001b[1;34m()\u001b[0m\n",
      "\u001b[1;31mAttributeError\u001b[0m: Unable to retrieve attribute 'xn'"
     ]
    }
   ],
   "source": [
    "#multiple solutions\n",
    "solution = []\n",
    "options = ['A','B','C']\n",
    "for solution in range(0,299):\n",
    "    print()\n",
    "    print(solution)\n",
    "#     print(f'Option: {options[solution]}')\n",
    "    m.setParam('SolutionNumber',solution)\n",
    "    for v in vehicles:\n",
    "        for s in schedules:\n",
    "            if x[v,s].xn==1:\n",
    "                print(f'   Vehicle: {v+1} Schedule: {s} {replacementSchedules[v,s]}')     "
   ]
  },
  {
   "cell_type": "code",
   "execution_count": 52,
   "metadata": {},
   "outputs": [
    {
     "name": "stdout",
     "output_type": "stream",
     "text": [
      "age: [0 1 2 3 4 5 6 0 1 2 3 4 5 6 0]\n",
      "\n",
      "age: [0 1 2 3 4 5 6 0 1 2 3 4 5 6 0]\n",
      "\n",
      "annual_mileage: [9906. 9906. 9906. 9906. 9906. 9906. 9906. 9906. 9906. 9906. 9906. 9906. 9906. 9906. 9906.]\n",
      "\n",
      "odometer: [    0.  9906. 19812. 29718. 39624. 49530. 59436.     0.  9906. 19812. 29718. 39624. 49530. 59436.     0.]\n",
      "\n",
      "acquisition cost: [25360     0     0     0     0     0     0 25360     0     0     0     0     0     0 25360]\n",
      "\n",
      "maintenance cost: [1981.2  2971.81 3962.42 4953.03 5943.64 6934.25 7924.86 1981.2  2971.81 3962.42 4953.03 5943.64 6934.25 7924.86 1981.2 ]\n",
      "\n",
      "consumables cost: [119. 119. 119. 119. 119. 119. 119. 119. 119. 119. 119. 119. 119. 119. 119.]\n",
      "\n",
      "emissions: [0. 0. 0. 0. 0. 0. 0. 0. 0. 0. 0. 0. 0. 0. 0.]\n"
     ]
    }
   ],
   "source": [
    "print(f'age: {age[0,505]}')\n",
    "print()\n",
    "print(f'age: {age[0,505]}')\n",
    "print()\n",
    "print(f'annual_mileage: {annual_mileage[0,505]}')\n",
    "print()\n",
    "print(f'odometer: {odometer[0,505]}')\n",
    "print()\n",
    "print(f'acquisition cost: {acquisition[0,505]}')\n",
    "print()\n",
    "print(f'maintenance cost: {maintenance[0,505]}')\n",
    "print()\n",
    "print(f'consumables cost: {consumables[0,505]}')\n",
    "print()\n",
    "print(f'emissions: {emissions[0,505]}')"
   ]
  },
  {
   "cell_type": "code",
   "execution_count": null,
   "metadata": {},
   "outputs": [],
   "source": [
    "len(m.x)"
   ]
  },
  {
   "cell_type": "code",
   "execution_count": null,
   "metadata": {},
   "outputs": [],
   "source": [
    "emissions[7]"
   ]
  },
  {
   "cell_type": "code",
   "execution_count": null,
   "metadata": {},
   "outputs": [],
   "source": [
    "consumables[7]"
   ]
  },
  {
   "cell_type": "code",
   "execution_count": null,
   "metadata": {},
   "outputs": [],
   "source": [
    "maintenance[7]"
   ]
  },
  {
   "cell_type": "markdown",
   "metadata": {},
   "source": [
    "### Old stuff from vehicle age recursion "
   ]
  },
  {
   "cell_type": "raw",
   "metadata": {},
   "source": [
    "u = np.diff(x)\n",
    "x[np.append(np.ones(shape=(1,)),u,axis=0)>1]=1"
   ]
  },
  {
   "cell_type": "raw",
   "metadata": {},
   "source": [
    "startingAge = 0\n",
    "x = startingAge+np.cumsum(keepSchedules,axis=1)*keepSchedules\n",
    "x[x==startingAge] = 0 #fixes the fact that replaced vehicles start at 0 (if this wasn't here they would start at the starting age)\n",
    "x"
   ]
  },
  {
   "cell_type": "raw",
   "metadata": {},
   "source": []
  },
  {
   "cell_type": "raw",
   "metadata": {},
   "source": [
    "#vehicle_age matrix tracks the age of the vehicle throughout each schedule\n",
    "# vehicle_age = \n",
    "\n",
    "x = 3+np.cumsum(keepSchedules,axis=1)*keepSchedules #3+ would be the age of the vehicle currently\n",
    "x[x==3] = 0\n",
    "u = np.diff(x,axis=1)\n",
    "x[np.append(np.ones(shape=(numSchedules,1)),u,axis=1)>1]=1\n"
   ]
  },
  {
   "cell_type": "raw",
   "metadata": {},
   "source": [
    "x"
   ]
  },
  {
   "cell_type": "raw",
   "metadata": {},
   "source": [
    "u = np.diff(x,axis=1)\n",
    "x[np.append(np.ones(shape=(numSchedules,1)),u,axis=1)>1]=2"
   ]
  },
  {
   "cell_type": "raw",
   "metadata": {},
   "source": [
    "u = np.diff(x,axis=1)\n",
    "x[np.append(np.ones(shape=(575,1)),u,axis=1)>1]=3"
   ]
  },
  {
   "cell_type": "raw",
   "metadata": {},
   "source": [
    "u = np.diff(x,axis=1)\n",
    "x[np.append(np.ones(shape=(575,1)),u,axis=1)>1] = 4"
   ]
  },
  {
   "cell_type": "raw",
   "metadata": {},
   "source": [
    "u = np.diff(x,axis=1)\n",
    "x[np.append(np.ones(shape=(575,1)),u,axis=1)>1] = 5"
   ]
  },
  {
   "cell_type": "raw",
   "metadata": {},
   "source": [
    "u = np.diff(x,axis=1)\n",
    "x[np.append(np.ones(shape=(575,1)),u,axis=1)>1] = 6"
   ]
  },
  {
   "cell_type": "raw",
   "metadata": {},
   "source": [
    "u = np.diff(x,axis=1)\n",
    "x[np.append(np.ones(shape=(575,1)),u,axis=1)>1] = 7"
   ]
  },
  {
   "cell_type": "raw",
   "metadata": {},
   "source": [
    "u = np.diff(x,axis=1)\n",
    "x[np.append(np.ones(shape=(575,1)),u,axis=1)>1] = 8"
   ]
  },
  {
   "cell_type": "raw",
   "metadata": {},
   "source": [
    "u = np.diff(x,axis=1)\n",
    "x[np.append(np.ones(shape=(575,1)),u,axis=1)>1] = 9"
   ]
  },
  {
   "cell_type": "raw",
   "metadata": {},
   "source": [
    "u = np.diff(x,axis=1)\n",
    "x[np.append(np.ones(shape=(575,1)),u,axis=1)>1] = 10"
   ]
  },
  {
   "cell_type": "raw",
   "metadata": {},
   "source": [
    "u = np.diff(x,axis=1)\n",
    "x[np.append(np.ones(shape=(575,1)),u,axis=1)>1] = 11"
   ]
  },
  {
   "cell_type": "raw",
   "metadata": {},
   "source": [
    "u = np.diff(x,axis=1)\n",
    "x[np.append(np.ones(shape=(575,1)),u,axis=1)>1] = 12"
   ]
  },
  {
   "cell_type": "raw",
   "metadata": {},
   "source": [
    "u = np.diff(x,axis=1)\n",
    "x[np.append(np.ones(shape=(575,1)),u,axis=1)>1] = 13"
   ]
  },
  {
   "cell_type": "raw",
   "metadata": {},
   "source": [
    "u = np.diff(x,axis=1)\n",
    "x[np.append(np.ones(shape=(575,1)),u,axis=1)>1] = 14"
   ]
  },
  {
   "cell_type": "raw",
   "metadata": {},
   "source": [
    "u = np.diff(x,axis=1)\n",
    "x[np.append(np.ones(shape=(575,1)),u,axis=1)>1]"
   ]
  },
  {
   "cell_type": "raw",
   "metadata": {},
   "source": [
    "x"
   ]
  },
  {
   "cell_type": "raw",
   "metadata": {},
   "source": [
    "u = np.diff(x)\n",
    "x[np.append(np.ones(shape=(1,)),u,axis=0)>1] = 2"
   ]
  },
  {
   "cell_type": "raw",
   "metadata": {},
   "source": [
    "x"
   ]
  },
  {
   "cell_type": "raw",
   "metadata": {},
   "source": [
    "u = np.diff(x)\n",
    "x[np.append(np.ones(shape=(1,)),u,axis=0)>1] = 3"
   ]
  },
  {
   "cell_type": "raw",
   "metadata": {},
   "source": [
    "x"
   ]
  },
  {
   "cell_type": "raw",
   "metadata": {},
   "source": [
    "u = np.diff(x)\n",
    "x[np.append(np.ones(shape=(1,)),u,axis=0)>1] = 4"
   ]
  },
  {
   "cell_type": "raw",
   "metadata": {},
   "source": [
    "x"
   ]
  },
  {
   "cell_type": "raw",
   "metadata": {},
   "source": [
    "u = np.diff(x)\n",
    "x[np.append(np.ones(shape=(1,)),u,axis=0)>1] = 5"
   ]
  },
  {
   "cell_type": "raw",
   "metadata": {},
   "source": [
    "x"
   ]
  },
  {
   "cell_type": "raw",
   "metadata": {},
   "source": [
    "u = np.diff(x)\n",
    "x[np.append(np.ones(shape=(1,)),u,axis=0)>1] = 6"
   ]
  },
  {
   "cell_type": "raw",
   "metadata": {},
   "source": [
    "x"
   ]
  },
  {
   "cell_type": "raw",
   "metadata": {},
   "source": [
    "acquisition_cost[45,:]"
   ]
  },
  {
   "cell_type": "raw",
   "metadata": {},
   "source": [
    "allVehiclesReplacementSchedules = np.repeat(replacementSchedules[np.newaxis,:, :], 1440, axis=0)\n",
    "print(allVehiclesReplacementSchedules.shape)\n",
    "allVehiclesReplacementSchedules"
   ]
  },
  {
   "cell_type": "raw",
   "metadata": {},
   "source": [
    "v,s,y = allVehiclesReplacementSchedules.shape\n",
    "v*s"
   ]
  },
  {
   "cell_type": "raw",
   "metadata": {},
   "source": []
  }
 ],
 "metadata": {
  "kernelspec": {
   "display_name": "Python 3",
   "language": "python",
   "name": "python3"
  },
  "language_info": {
   "codemirror_mode": {
    "name": "ipython",
    "version": 3
   },
   "file_extension": ".py",
   "mimetype": "text/x-python",
   "name": "python",
   "nbconvert_exporter": "python",
   "pygments_lexer": "ipython3",
   "version": "3.7.9"
  }
 },
 "nbformat": 4,
 "nbformat_minor": 4
}
