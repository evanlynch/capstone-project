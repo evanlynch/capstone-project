{
 "cells": [
  {
   "cell_type": "markdown",
   "metadata": {},
   "source": [
    "# Data"
   ]
  },
  {
   "cell_type": "markdown",
   "metadata": {},
   "source": [
    "$V: $ Set of all vehicles (make/model)"
   ]
  },
  {
   "cell_type": "markdown",
   "metadata": {},
   "source": [
    "$V': $ Set of all ICE vehicles (make/model)"
   ]
  },
  {
   "cell_type": "markdown",
   "metadata": {},
   "source": [
    "$V'': $ Set of all EVs (make/model)"
   ]
  },
  {
   "cell_type": "markdown",
   "metadata": {},
   "source": [
    "$D: $ Set of all departments"
   ]
  },
  {
   "cell_type": "markdown",
   "metadata": {},
   "source": [
    "$T: $ Set of all years in the planning horizon"
   ]
  },
  {
   "cell_type": "markdown",
   "metadata": {},
   "source": [
    "$I: $ starting inventory of all vehicles in each dpt  $\\it (v,d)$"
   ]
  },
  {
   "cell_type": "markdown",
   "metadata": {},
   "source": [
    "$C: $ Annualized consumables cost for each vehicle type in each dpt in each year  $\\it (v,d,t)$"
   ]
  },
  {
   "cell_type": "markdown",
   "metadata": {},
   "source": [
    "$M: $ Annualized maintenance cost for each vehicle type in each dpt in each year  $\\it (v,d,t)$"
   ]
  },
  {
   "cell_type": "markdown",
   "metadata": {},
   "source": [
    "$P: $ Procurement cost for each vehicle type in each year  $\\it (v,t)$"
   ]
  },
  {
   "cell_type": "markdown",
   "metadata": {},
   "source": [
    "$M^s: $ Maintenance cost for a charging station in each year  $\\it (t)$"
   ]
  },
  {
   "cell_type": "markdown",
   "metadata": {},
   "source": [
    "$P^s: $ Procurement cost for a charging station in each year  $\\it (t)$"
   ]
  },
  {
   "cell_type": "markdown",
   "metadata": {},
   "source": [
    "$VMT: $ Vehicle Miles Traveled for each vehicle type in each dpt in each year $\\it (v,d,t)$"
   ]
  },
  {
   "cell_type": "markdown",
   "metadata": {},
   "source": [
    "$MPG: $ MPG for each vehicle type $\\it (v)$"
   ]
  },
  {
   "cell_type": "markdown",
   "metadata": {},
   "source": [
    "$E: $ Emissions output of each vehicle type in each dpt in each year $\\it (v,d,t)$"
   ]
  },
  {
   "cell_type": "markdown",
   "metadata": {},
   "source": [
    "$N: $ Number of vehicles that must remain on hand in each dpt in each year (because they do not yet ave enough mileage on them to be replaced. $\\it (v,d,t)$"
   ]
  },
  {
   "cell_type": "markdown",
   "metadata": {},
   "source": [
    "$Q: $ Target emissions number in final year (based on % of baseline) "
   ]
  },
  {
   "cell_type": "markdown",
   "metadata": {},
   "source": [
    "$B: $ Total budget in each year $ \\it (t) $"
   ]
  },
  {
   "cell_type": "markdown",
   "metadata": {},
   "source": [
    "$G: $  Maximum number of vehicles that a single charging station can support"
   ]
  },
  {
   "cell_type": "markdown",
   "metadata": {},
   "source": [
    "$R: $  Whether or not a given EV is a suitable replacement for a given EV $ \\it (v',v'') $"
   ]
  },
  {
   "cell_type": "markdown",
   "metadata": {},
   "source": [
    "$w_c: $ Weight to apply to the min cost objective "
   ]
  },
  {
   "cell_type": "markdown",
   "metadata": {},
   "source": [
    "$w_e: $ Weight to apply to the min emissions objective "
   ]
  },
  {
   "cell_type": "markdown",
   "metadata": {},
   "source": [
    "# Decision Variables"
   ]
  },
  {
   "cell_type": "markdown",
   "metadata": {},
   "source": [
    "$ x_{vdt} :$ (Integer) number of vehicles of type v to have on hand in dpt d in year t (both ICE and EV)"
   ]
  },
  {
   "cell_type": "markdown",
   "metadata": {},
   "source": [
    "$ y_{vdt} :$ (Integer) number of vehicles of type v to purchase in dpt d in year t (both ICE and EV)"
   ]
  },
  {
   "cell_type": "markdown",
   "metadata": {},
   "source": [
    "$ z_{t} :$ (Integer) number of charging stations to have in operation in year t "
   ]
  },
  {
   "cell_type": "markdown",
   "metadata": {},
   "source": [
    "$s_{t} :$ (Integer) number of charging stations to build in year t "
   ]
  },
  {
   "cell_type": "markdown",
   "metadata": {},
   "source": [
    "$P^b :$ Penalty for going over budget in any year $ \\it (t) $"
   ]
  },
  {
   "cell_type": "markdown",
   "metadata": {},
   "source": [
    "$P^e :$ Penalty for not meeting the emissions target in the final year  $ \\it (t) $"
   ]
  },
  {
   "cell_type": "markdown",
   "metadata": {},
   "source": [
    "# Objective "
   ]
  },
  {
   "cell_type": "markdown",
   "metadata": {},
   "source": [
    "##### Minimize both total cost and emissions \n",
    "$ \\,Minimize: \\,w^c(\\displaystyle\\sum_{v \\in V} \\displaystyle\\sum_{d \\in D} \\displaystyle\\sum_{t \\in T} (C_{vdt}+M_{vdt})x_{vdt} + P_{vdt}y_{vdt} + \\displaystyle\\sum_{t \\in T} M^s_tz_t + P^s_ts_t) + w^e\\displaystyle\\sum_{v \\in V} \\displaystyle\\sum_{d \\in D} \\displaystyle\\sum_{t \\in T} E_{vdt}x_{vdt} + 10000\\displaystyle\\sum_{t \\in T} (P^b_{t}+P^e_{vdt})$ "
   ]
  },
  {
   "cell_type": "markdown",
   "metadata": {},
   "source": [
    "# Constraints"
   ]
  },
  {
   "cell_type": "markdown",
   "metadata": {},
   "source": [
    "##### Fleet emissions must be below the target in the final year\n",
    "$ \\displaystyle\\sum_{v \\in V} E_{vdT_l}x_{vdT_l} \\leq  Q + P^b_t $"
   ]
  },
  {
   "cell_type": "markdown",
   "metadata": {},
   "source": [
    "##### Annual budget cannot be exceed in any year\n",
    "$ \\displaystyle\\sum_{v \\in V} \\displaystyle\\sum_{d \\in D} (C_{vdt}+M_{vdt})x_{vdt} + P_{vdt}y_{vdt} + \\displaystyle\\sum_{t \\in T} M^s_tz_t + P^s_ts_t \\leq B_t+P^e_t \\forall t \\in T$"
   ]
  },
  {
   "cell_type": "markdown",
   "metadata": {},
   "source": [
    "##### Net number of new vehicles for any dpt between ICE and EV for any dpt and year must be equal to the required inventory of the given vehicle\n",
    "\n",
    "$ x_{v'dt}+\\displaystyle\\sum_{v'' \\in V''}x_{v''dt} = I_{v'dt} \\,\\,\\,\\, \\forall v' \\in V'  \\,\\,\\,\\, \\forall d \\in D   \\,\\,\\,\\, \\forall t \\in T $"
   ]
  },
  {
   "cell_type": "markdown",
   "metadata": {},
   "source": [
    "##### Must start first year with current inventory \n",
    "\n",
    "$ x_{vdT_f} = I_{vd} \\,\\,\\,\\,\\, \\forall v \\in V \\,\\,\\,\\,\\, \\forall d \\in D$"
   ]
  },
  {
   "cell_type": "markdown",
   "metadata": {},
   "source": [
    "##### Vehicles can only be replaced once they have driven at least some number of miles (i.e. number of x[vp] has to remain at least at the number of inelligble vehicles)\n",
    "\n",
    "$ x_{v'dt} \\geq N_{v'dt} \\,\\,\\,\\,\\, \\forall v' \\in V' \\,\\,\\,\\,\\, \\forall d \\in D \\,\\,\\,\\,\\, \\forall t \\in T$"
   ]
  },
  {
   "cell_type": "markdown",
   "metadata": {},
   "source": [
    "##### A certain number of charging stations are required per some number of vehicle\n",
    "$ \\displaystyle\\sum_{i \\in t} s_i \\geq \\dfrac{\\displaystyle\\sum_{d \\in D} \\displaystyle\\sum_{i \\in t} x_{v''dt}}{G} \\,\\,\\,\\,\\, \\forall t \\in T$"
   ]
  },
  {
   "cell_type": "markdown",
   "metadata": {},
   "source": [
    "##### Define the number of vehicles of type v procured in year t for dpt d\n",
    "\n",
    "$ x_{vdt} - x_{vd{t-1}} = y_{vdt} \\,\\,\\,\\,\\, \\forall v \\in V \\,\\,\\,\\,\\, \\forall d \\in D \\,\\,\\,\\,\\, \\forall t \\in T, t>1$"
   ]
  },
  {
   "cell_type": "markdown",
   "metadata": {},
   "source": [
    "##### Define the number of charging stations built in year t\n",
    "\n",
    "$ z_t - z_{t-1} = s_t \\,\\,\\,\\,\\, \\forall t \\in T$"
   ]
  }
 ],
 "metadata": {
  "kernelspec": {
   "display_name": "Python 3",
   "language": "python",
   "name": "python3"
  },
  "language_info": {
   "codemirror_mode": {
    "name": "ipython",
    "version": 3
   },
   "file_extension": ".py",
   "mimetype": "text/x-python",
   "name": "python",
   "nbconvert_exporter": "python",
   "pygments_lexer": "ipython3",
   "version": "3.7.9"
  }
 },
 "nbformat": 4,
 "nbformat_minor": 4
}
