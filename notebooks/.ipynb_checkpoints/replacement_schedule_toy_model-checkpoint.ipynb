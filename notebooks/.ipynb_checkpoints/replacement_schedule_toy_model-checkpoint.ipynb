{
 "cells": [
  {
   "cell_type": "markdown",
   "metadata": {},
   "source": [
    "### This version only optimizes the replacement schedule for a single vehicle"
   ]
  },
  {
   "cell_type": "markdown",
   "metadata": {},
   "source": [
    "### Todo:\n",
    "- Get all possible permutations of a replacement schedule (with 1 replacement, 2, 3)\n",
    "- make replacement schedules flexible with more than 15 year timelines (i.e. more than 3 replacements)\n",
    "- vehicle age matrix\n",
    "- vehicle_mileage matrix\n",
    "- odometer matrix\n",
    "- acquisition_cost matrix (pct change factor)\n",
    "- consumables_cost matrix\n",
    "- maintenance_cost matrix"
   ]
  },
  {
   "cell_type": "code",
   "execution_count": 202,
   "metadata": {},
   "outputs": [],
   "source": [
    "import numpy as np\n",
    "from sympy.utilities.iterables import multiset_permutations\n",
    "\n",
    "np.set_printoptions(edgeitems=15,linewidth=600)\n",
    "# np.core.arrayprint._line_width = 400"
   ]
  },
  {
   "cell_type": "code",
   "execution_count": 203,
   "metadata": {},
   "outputs": [
    {
     "data": {
      "text/plain": [
       "37500.0"
      ]
     },
     "execution_count": 203,
     "metadata": {},
     "output_type": "execute_result"
    }
   ],
   "source": [
    "150000/4"
   ]
  },
  {
   "cell_type": "code",
   "execution_count": 204,
   "metadata": {},
   "outputs": [],
   "source": [
    "#todo: will likely need a generalizable method for computing the maximum number of replacements possible\n",
    "oneReplacement = np.array([1,0,0,0,0,0,0,0,0,0,0,0,0,0,0])\n",
    "twoReplacements = np.array([1,1,0,0,0,0,0,0,0,0,0,0,0,0,0])\n",
    "threeReplacements = np.array([1,1,1,0,0,0,0,0,0,0,0,0,0,0,0])\n",
    "\n",
    "oneReplacement = list(multiset_permutations(oneReplacement))\n",
    "twoReplacements = list(multiset_permutations(twoReplacements))\n",
    "threeReplacements = list(multiset_permutations(threeReplacements))\n",
    "\n",
    "replacementSchedules = np.array(oneReplacement+twoReplacements+threeReplacements)"
   ]
  },
  {
   "cell_type": "code",
   "execution_count": 205,
   "metadata": {},
   "outputs": [
    {
     "data": {
      "text/plain": [
       "828000"
      ]
     },
     "execution_count": 205,
     "metadata": {},
     "output_type": "execute_result"
    }
   ],
   "source": [
    "len(replacementSchedules)*1440"
   ]
  },
  {
   "cell_type": "code",
   "execution_count": 206,
   "metadata": {},
   "outputs": [
    {
     "name": "stdout",
     "output_type": "stream",
     "text": [
      "[[1 2]\n",
      " [1 2]]\n"
     ]
    }
   ],
   "source": [
    "a = np.array([[1, 2], [1, 2]])\n",
    "print(a)"
   ]
  },
  {
   "cell_type": "code",
   "execution_count": 207,
   "metadata": {},
   "outputs": [
    {
     "data": {
      "text/plain": [
       "array([[[1],\n",
       "        [2]],\n",
       "\n",
       "       [[1],\n",
       "        [2]]])"
      ]
     },
     "execution_count": 207,
     "metadata": {},
     "output_type": "execute_result"
    }
   ],
   "source": [
    "a[:, :, np.newaxis]"
   ]
  },
  {
   "cell_type": "code",
   "execution_count": 208,
   "metadata": {},
   "outputs": [
    {
     "data": {
      "text/plain": [
       "array([[0, 0, 0, 0, 0, 0, 0, 0, 0, 0, 0, 0, 0, 0, 1],\n",
       "       [0, 0, 0, 0, 0, 0, 0, 0, 0, 0, 0, 0, 0, 1, 0],\n",
       "       [0, 0, 0, 0, 0, 0, 0, 0, 0, 0, 0, 0, 1, 0, 0],\n",
       "       [0, 0, 0, 0, 0, 0, 0, 0, 0, 0, 0, 1, 0, 0, 0],\n",
       "       [0, 0, 0, 0, 0, 0, 0, 0, 0, 0, 1, 0, 0, 0, 0],\n",
       "       [0, 0, 0, 0, 0, 0, 0, 0, 0, 1, 0, 0, 0, 0, 0],\n",
       "       [0, 0, 0, 0, 0, 0, 0, 0, 1, 0, 0, 0, 0, 0, 0],\n",
       "       [0, 0, 0, 0, 0, 0, 0, 1, 0, 0, 0, 0, 0, 0, 0],\n",
       "       [0, 0, 0, 0, 0, 0, 1, 0, 0, 0, 0, 0, 0, 0, 0],\n",
       "       [0, 0, 0, 0, 0, 1, 0, 0, 0, 0, 0, 0, 0, 0, 0],\n",
       "       [0, 0, 0, 0, 1, 0, 0, 0, 0, 0, 0, 0, 0, 0, 0],\n",
       "       [0, 0, 0, 1, 0, 0, 0, 0, 0, 0, 0, 0, 0, 0, 0],\n",
       "       [0, 0, 1, 0, 0, 0, 0, 0, 0, 0, 0, 0, 0, 0, 0],\n",
       "       [0, 1, 0, 0, 0, 0, 0, 0, 0, 0, 0, 0, 0, 0, 0],\n",
       "       [1, 0, 0, 0, 0, 0, 0, 0, 0, 0, 0, 0, 0, 0, 0],\n",
       "       ...,\n",
       "       [1, 0, 1, 0, 1, 0, 0, 0, 0, 0, 0, 0, 0, 0, 0],\n",
       "       [1, 0, 1, 1, 0, 0, 0, 0, 0, 0, 0, 0, 0, 0, 0],\n",
       "       [1, 1, 0, 0, 0, 0, 0, 0, 0, 0, 0, 0, 0, 0, 1],\n",
       "       [1, 1, 0, 0, 0, 0, 0, 0, 0, 0, 0, 0, 0, 1, 0],\n",
       "       [1, 1, 0, 0, 0, 0, 0, 0, 0, 0, 0, 0, 1, 0, 0],\n",
       "       [1, 1, 0, 0, 0, 0, 0, 0, 0, 0, 0, 1, 0, 0, 0],\n",
       "       [1, 1, 0, 0, 0, 0, 0, 0, 0, 0, 1, 0, 0, 0, 0],\n",
       "       [1, 1, 0, 0, 0, 0, 0, 0, 0, 1, 0, 0, 0, 0, 0],\n",
       "       [1, 1, 0, 0, 0, 0, 0, 0, 1, 0, 0, 0, 0, 0, 0],\n",
       "       [1, 1, 0, 0, 0, 0, 0, 1, 0, 0, 0, 0, 0, 0, 0],\n",
       "       [1, 1, 0, 0, 0, 0, 1, 0, 0, 0, 0, 0, 0, 0, 0],\n",
       "       [1, 1, 0, 0, 0, 1, 0, 0, 0, 0, 0, 0, 0, 0, 0],\n",
       "       [1, 1, 0, 0, 1, 0, 0, 0, 0, 0, 0, 0, 0, 0, 0],\n",
       "       [1, 1, 0, 1, 0, 0, 0, 0, 0, 0, 0, 0, 0, 0, 0],\n",
       "       [1, 1, 1, 0, 0, 0, 0, 0, 0, 0, 0, 0, 0, 0, 0]])"
      ]
     },
     "execution_count": 208,
     "metadata": {},
     "output_type": "execute_result"
    }
   ],
   "source": [
    "replacementSchedules#[50:80]"
   ]
  },
  {
   "cell_type": "code",
   "execution_count": 209,
   "metadata": {},
   "outputs": [
    {
     "data": {
      "text/plain": [
       "array([[1, 1, 1, 1, 1, 1, 1, 1, 1, 1, 1, 1, 1, 1, 0],\n",
       "       [1, 1, 1, 1, 1, 1, 1, 1, 1, 1, 1, 1, 1, 0, 1],\n",
       "       [1, 1, 1, 1, 1, 1, 1, 1, 1, 1, 1, 1, 0, 1, 1],\n",
       "       [1, 1, 1, 1, 1, 1, 1, 1, 1, 1, 1, 0, 1, 1, 1],\n",
       "       [1, 1, 1, 1, 1, 1, 1, 1, 1, 1, 0, 1, 1, 1, 1],\n",
       "       [1, 1, 1, 1, 1, 1, 1, 1, 1, 0, 1, 1, 1, 1, 1],\n",
       "       [1, 1, 1, 1, 1, 1, 1, 1, 0, 1, 1, 1, 1, 1, 1],\n",
       "       [1, 1, 1, 1, 1, 1, 1, 0, 1, 1, 1, 1, 1, 1, 1],\n",
       "       [1, 1, 1, 1, 1, 1, 0, 1, 1, 1, 1, 1, 1, 1, 1],\n",
       "       [1, 1, 1, 1, 1, 0, 1, 1, 1, 1, 1, 1, 1, 1, 1],\n",
       "       [1, 1, 1, 1, 0, 1, 1, 1, 1, 1, 1, 1, 1, 1, 1],\n",
       "       [1, 1, 1, 0, 1, 1, 1, 1, 1, 1, 1, 1, 1, 1, 1],\n",
       "       [1, 1, 0, 1, 1, 1, 1, 1, 1, 1, 1, 1, 1, 1, 1],\n",
       "       [1, 0, 1, 1, 1, 1, 1, 1, 1, 1, 1, 1, 1, 1, 1],\n",
       "       [0, 1, 1, 1, 1, 1, 1, 1, 1, 1, 1, 1, 1, 1, 1],\n",
       "       ...,\n",
       "       [0, 1, 0, 1, 0, 1, 1, 1, 1, 1, 1, 1, 1, 1, 1],\n",
       "       [0, 1, 0, 0, 1, 1, 1, 1, 1, 1, 1, 1, 1, 1, 1],\n",
       "       [0, 0, 1, 1, 1, 1, 1, 1, 1, 1, 1, 1, 1, 1, 0],\n",
       "       [0, 0, 1, 1, 1, 1, 1, 1, 1, 1, 1, 1, 1, 0, 1],\n",
       "       [0, 0, 1, 1, 1, 1, 1, 1, 1, 1, 1, 1, 0, 1, 1],\n",
       "       [0, 0, 1, 1, 1, 1, 1, 1, 1, 1, 1, 0, 1, 1, 1],\n",
       "       [0, 0, 1, 1, 1, 1, 1, 1, 1, 1, 0, 1, 1, 1, 1],\n",
       "       [0, 0, 1, 1, 1, 1, 1, 1, 1, 0, 1, 1, 1, 1, 1],\n",
       "       [0, 0, 1, 1, 1, 1, 1, 1, 0, 1, 1, 1, 1, 1, 1],\n",
       "       [0, 0, 1, 1, 1, 1, 1, 0, 1, 1, 1, 1, 1, 1, 1],\n",
       "       [0, 0, 1, 1, 1, 1, 0, 1, 1, 1, 1, 1, 1, 1, 1],\n",
       "       [0, 0, 1, 1, 1, 0, 1, 1, 1, 1, 1, 1, 1, 1, 1],\n",
       "       [0, 0, 1, 1, 0, 1, 1, 1, 1, 1, 1, 1, 1, 1, 1],\n",
       "       [0, 0, 1, 0, 1, 1, 1, 1, 1, 1, 1, 1, 1, 1, 1],\n",
       "       [0, 0, 0, 1, 1, 1, 1, 1, 1, 1, 1, 1, 1, 1, 1]])"
      ]
     },
     "execution_count": 209,
     "metadata": {},
     "output_type": "execute_result"
    }
   ],
   "source": [
    "#opposite of replacement -- may want to use this at some point\n",
    "keepSchedules = (replacementSchedules-1)*-1\n",
    "keepSchedules#[50:80]"
   ]
  },
  {
   "cell_type": "code",
   "execution_count": 210,
   "metadata": {},
   "outputs": [],
   "source": [
    "def initialize_vehicle_age(keepSchedules,startingAge=0):\n",
    "    \"\"\"Gets the vehicle age building process started. Produces a matrix for the age of the vehicle according to the replacement schedule, which is later fixed by get_vehicle_age\"\"\"\n",
    "    vehicle_age = startingAge+np.cumsum(keepSchedules,axis=1)*keepSchedules\n",
    "    vehicle_age[vehicle_age==startingAge] = 0 #fixes the fact that replaced vehicles start at 0 (if this wasn't here they would start at the starting age)\n",
    "    return vehicle_age\n",
    "\n",
    "\n",
    "def get_vehicle_age(vehicle_age=None,k=1,startingAge=0):\n",
    "    if k==1:\n",
    "        vehicle_age = initialize_vehicle_age(keepSchedules,startingAge)\n",
    "\n",
    "    diff = np.diff(vehicle_age,axis=1)\n",
    "    diffMask = np.append(np.ones(shape=(575,1)),diff,axis=1)>1\n",
    "    vehicle_age[diffMask]=k\n",
    "\n",
    "    if vehicle_age[diffMask].size==0:\n",
    "        return vehicle_age\n",
    "    else:\n",
    "        return get_vehicle_age(vehicle_age,k=k+1)\n",
    "\n",
    "vehicle_age = get_vehicle_age(startingAge=0)#[50:80]"
   ]
  },
  {
   "cell_type": "code",
   "execution_count": 211,
   "metadata": {},
   "outputs": [
    {
     "data": {
      "text/plain": [
       "array([[ 1,  2,  3,  4,  5,  6,  7,  8,  9, 10, 11, 12, 13, 14,  0],\n",
       "       [ 1,  2,  3,  4,  5,  6,  7,  8,  9, 10, 11, 12, 13,  0,  1],\n",
       "       [ 1,  2,  3,  4,  5,  6,  7,  8,  9, 10, 11, 12,  0,  1,  2],\n",
       "       [ 1,  2,  3,  4,  5,  6,  7,  8,  9, 10, 11,  0,  1,  2,  3],\n",
       "       [ 1,  2,  3,  4,  5,  6,  7,  8,  9, 10,  0,  1,  2,  3,  4],\n",
       "       [ 1,  2,  3,  4,  5,  6,  7,  8,  9,  0,  1,  2,  3,  4,  5],\n",
       "       [ 1,  2,  3,  4,  5,  6,  7,  8,  0,  1,  2,  3,  4,  5,  6],\n",
       "       [ 1,  2,  3,  4,  5,  6,  7,  0,  1,  2,  3,  4,  5,  6,  7],\n",
       "       [ 1,  2,  3,  4,  5,  6,  0,  1,  2,  3,  4,  5,  6,  7,  8],\n",
       "       [ 1,  2,  3,  4,  5,  0,  1,  2,  3,  4,  5,  6,  7,  8,  9],\n",
       "       [ 1,  2,  3,  4,  0,  1,  2,  3,  4,  5,  6,  7,  8,  9, 10],\n",
       "       [ 1,  2,  3,  0,  1,  2,  3,  4,  5,  6,  7,  8,  9, 10, 11],\n",
       "       [ 1,  2,  0,  1,  2,  3,  4,  5,  6,  7,  8,  9, 10, 11, 12],\n",
       "       [ 1,  0,  1,  2,  3,  4,  5,  6,  7,  8,  9, 10, 11, 12, 13],\n",
       "       [ 0,  1,  2,  3,  4,  5,  6,  7,  8,  9, 10, 11, 12, 13, 14],\n",
       "       ...,\n",
       "       [ 0,  1,  0,  1,  0,  1,  2,  3,  4,  5,  6,  7,  8,  9, 10],\n",
       "       [ 0,  1,  0,  0,  1,  2,  3,  4,  5,  6,  7,  8,  9, 10, 11],\n",
       "       [ 0,  0,  1,  2,  3,  4,  5,  6,  7,  8,  9, 10, 11, 12,  0],\n",
       "       [ 0,  0,  1,  2,  3,  4,  5,  6,  7,  8,  9, 10, 11,  0,  1],\n",
       "       [ 0,  0,  1,  2,  3,  4,  5,  6,  7,  8,  9, 10,  0,  1,  2],\n",
       "       [ 0,  0,  1,  2,  3,  4,  5,  6,  7,  8,  9,  0,  1,  2,  3],\n",
       "       [ 0,  0,  1,  2,  3,  4,  5,  6,  7,  8,  0,  1,  2,  3,  4],\n",
       "       [ 0,  0,  1,  2,  3,  4,  5,  6,  7,  0,  1,  2,  3,  4,  5],\n",
       "       [ 0,  0,  1,  2,  3,  4,  5,  6,  0,  1,  2,  3,  4,  5,  6],\n",
       "       [ 0,  0,  1,  2,  3,  4,  5,  0,  1,  2,  3,  4,  5,  6,  7],\n",
       "       [ 0,  0,  1,  2,  3,  4,  0,  1,  2,  3,  4,  5,  6,  7,  8],\n",
       "       [ 0,  0,  1,  2,  3,  0,  1,  2,  3,  4,  5,  6,  7,  8,  9],\n",
       "       [ 0,  0,  1,  2,  0,  1,  2,  3,  4,  5,  6,  7,  8,  9, 10],\n",
       "       [ 0,  0,  1,  0,  1,  2,  3,  4,  5,  6,  7,  8,  9, 10, 11],\n",
       "       [ 0,  0,  0,  1,  2,  3,  4,  5,  6,  7,  8,  9, 10, 11, 12]])"
      ]
     },
     "execution_count": 211,
     "metadata": {},
     "output_type": "execute_result"
    }
   ],
   "source": [
    "vehicle_age"
   ]
  },
  {
   "cell_type": "code",
   "execution_count": 212,
   "metadata": {},
   "outputs": [],
   "source": [
    "#start of something for determining infeasible schedules. will come back to this. \n",
    "x = np.transpose((vehicle_age==0).nonzero())\n",
    "x[:,1] = x[:,1]-1"
   ]
  },
  {
   "cell_type": "code",
   "execution_count": 213,
   "metadata": {},
   "outputs": [
    {
     "data": {
      "text/plain": [
       "13"
      ]
     },
     "execution_count": 213,
     "metadata": {},
     "output_type": "execute_result"
    }
   ],
   "source": [
    "vehicle_age[1,12]"
   ]
  },
  {
   "cell_type": "code",
   "execution_count": 214,
   "metadata": {},
   "outputs": [
    {
     "data": {
      "text/plain": [
       "array([[ 1,  2,  3,  4,  5,  6,  7,  8,  9, 10, 11, 12, 13, 14,  0],\n",
       "       [ 1,  2,  3,  4,  5,  6,  7,  8,  9, 10, 11, 12, 13,  0,  1],\n",
       "       [ 1,  2,  3,  4,  5,  6,  7,  8,  9, 10, 11, 12,  0,  1,  2],\n",
       "       [ 1,  2,  3,  4,  5,  6,  7,  8,  9, 10, 11,  0,  1,  2,  3],\n",
       "       [ 1,  2,  3,  4,  5,  6,  7,  8,  9, 10,  0,  1,  2,  3,  4],\n",
       "       [ 1,  2,  3,  4,  5,  6,  7,  8,  9,  0,  1,  2,  3,  4,  5],\n",
       "       [ 1,  2,  3,  4,  5,  6,  7,  8,  0,  1,  2,  3,  4,  5,  6],\n",
       "       [ 1,  2,  3,  4,  5,  6,  7,  0,  1,  2,  3,  4,  5,  6,  7],\n",
       "       [ 1,  2,  3,  4,  5,  6,  0,  1,  2,  3,  4,  5,  6,  7,  8],\n",
       "       [ 1,  2,  3,  4,  5,  0,  1,  2,  3,  4,  5,  6,  7,  8,  9],\n",
       "       [ 1,  2,  3,  4,  0,  1,  2,  3,  4,  5,  6,  7,  8,  9, 10],\n",
       "       [ 1,  2,  3,  0,  1,  2,  3,  4,  5,  6,  7,  8,  9, 10, 11],\n",
       "       [ 1,  2,  0,  1,  2,  3,  4,  5,  6,  7,  8,  9, 10, 11, 12],\n",
       "       [ 1,  0,  1,  2,  3,  4,  5,  6,  7,  8,  9, 10, 11, 12, 13],\n",
       "       [ 0,  1,  2,  3,  4,  5,  6,  7,  8,  9, 10, 11, 12, 13, 14],\n",
       "       ...,\n",
       "       [ 0,  1,  0,  1,  0,  1,  2,  3,  4,  5,  6,  7,  8,  9, 10],\n",
       "       [ 0,  1,  0,  0,  1,  2,  3,  4,  5,  6,  7,  8,  9, 10, 11],\n",
       "       [ 0,  0,  1,  2,  3,  4,  5,  6,  7,  8,  9, 10, 11, 12,  0],\n",
       "       [ 0,  0,  1,  2,  3,  4,  5,  6,  7,  8,  9, 10, 11,  0,  1],\n",
       "       [ 0,  0,  1,  2,  3,  4,  5,  6,  7,  8,  9, 10,  0,  1,  2],\n",
       "       [ 0,  0,  1,  2,  3,  4,  5,  6,  7,  8,  9,  0,  1,  2,  3],\n",
       "       [ 0,  0,  1,  2,  3,  4,  5,  6,  7,  8,  0,  1,  2,  3,  4],\n",
       "       [ 0,  0,  1,  2,  3,  4,  5,  6,  7,  0,  1,  2,  3,  4,  5],\n",
       "       [ 0,  0,  1,  2,  3,  4,  5,  6,  0,  1,  2,  3,  4,  5,  6],\n",
       "       [ 0,  0,  1,  2,  3,  4,  5,  0,  1,  2,  3,  4,  5,  6,  7],\n",
       "       [ 0,  0,  1,  2,  3,  4,  0,  1,  2,  3,  4,  5,  6,  7,  8],\n",
       "       [ 0,  0,  1,  2,  3,  0,  1,  2,  3,  4,  5,  6,  7,  8,  9],\n",
       "       [ 0,  0,  1,  2,  0,  1,  2,  3,  4,  5,  6,  7,  8,  9, 10],\n",
       "       [ 0,  0,  1,  0,  1,  2,  3,  4,  5,  6,  7,  8,  9, 10, 11],\n",
       "       [ 0,  0,  0,  1,  2,  3,  4,  5,  6,  7,  8,  9, 10, 11, 12]])"
      ]
     },
     "execution_count": 214,
     "metadata": {},
     "output_type": "execute_result"
    }
   ],
   "source": [
    "vehicle_age"
   ]
  },
  {
   "cell_type": "code",
   "execution_count": 215,
   "metadata": {},
   "outputs": [
    {
     "data": {
      "text/plain": [
       "array([[  0,  13],\n",
       "       [  1,  12],\n",
       "       [  2,  11],\n",
       "       [  3,  10],\n",
       "       [  4,   9],\n",
       "       [  5,   8],\n",
       "       [  6,   7],\n",
       "       [  7,   6],\n",
       "       [  8,   5],\n",
       "       [  9,   4],\n",
       "       [ 10,   3],\n",
       "       [ 11,   2],\n",
       "       [ 12,   1],\n",
       "       [ 13,   0],\n",
       "       [ 14,  -1],\n",
       "       ...,\n",
       "       [570,  -1],\n",
       "       [570,   0],\n",
       "       [570,   5],\n",
       "       [571,  -1],\n",
       "       [571,   0],\n",
       "       [571,   4],\n",
       "       [572,  -1],\n",
       "       [572,   0],\n",
       "       [572,   3],\n",
       "       [573,  -1],\n",
       "       [573,   0],\n",
       "       [573,   2],\n",
       "       [574,  -1],\n",
       "       [574,   0],\n",
       "       [574,   1]], dtype=int64)"
      ]
     },
     "execution_count": 215,
     "metadata": {},
     "output_type": "execute_result"
    }
   ],
   "source": [
    "x"
   ]
  },
  {
   "cell_type": "code",
   "execution_count": 216,
   "metadata": {},
   "outputs": [],
   "source": [
    "x,y = np.where(vehicle_age==0)#,axis=0)"
   ]
  },
  {
   "cell_type": "code",
   "execution_count": 217,
   "metadata": {},
   "outputs": [
    {
     "data": {
      "text/plain": [
       "(2, 1590)"
      ]
     },
     "execution_count": 217,
     "metadata": {},
     "output_type": "execute_result"
    }
   ],
   "source": [
    "np.array((x,y)).shape"
   ]
  },
  {
   "cell_type": "code",
   "execution_count": 218,
   "metadata": {},
   "outputs": [],
   "source": [
    "#vehicle_mileage matrix \n",
    "# vehicle_mileage = np.repeat(np.round(np.random.normal(loc=10000,scale=2000,size=(1, 15))),575,axis=0)\n",
    "vehicle_mileage = np.round(np.random.normal(loc=10000,scale=2000)*np.ones(shape=(575,15)))"
   ]
  },
  {
   "cell_type": "code",
   "execution_count": 219,
   "metadata": {},
   "outputs": [
    {
     "data": {
      "text/plain": [
       "array([[ 10876.,  21752.,  32628.,  43504.,  54380.,  65256.,  76132.,  87008.,  97884., 108760., 119636., 130512., 141388., 152264.,      0.],\n",
       "       [ 10876.,  21752.,  32628.,  43504.,  54380.,  65256.,  76132.,  87008.,  97884., 108760., 119636., 130512., 141388.,      0.,  10876.],\n",
       "       [ 10876.,  21752.,  32628.,  43504.,  54380.,  65256.,  76132.,  87008.,  97884., 108760., 119636., 130512.,      0.,  10876.,  21752.],\n",
       "       [ 10876.,  21752.,  32628.,  43504.,  54380.,  65256.,  76132.,  87008.,  97884., 108760., 119636.,      0.,  10876.,  21752.,  32628.],\n",
       "       [ 10876.,  21752.,  32628.,  43504.,  54380.,  65256.,  76132.,  87008.,  97884., 108760.,      0.,  10876.,  21752.,  32628.,  43504.],\n",
       "       [ 10876.,  21752.,  32628.,  43504.,  54380.,  65256.,  76132.,  87008.,  97884.,      0.,  10876.,  21752.,  32628.,  43504.,  54380.],\n",
       "       [ 10876.,  21752.,  32628.,  43504.,  54380.,  65256.,  76132.,  87008.,      0.,  10876.,  21752.,  32628.,  43504.,  54380.,  65256.],\n",
       "       [ 10876.,  21752.,  32628.,  43504.,  54380.,  65256.,  76132.,      0.,  10876.,  21752.,  32628.,  43504.,  54380.,  65256.,  76132.],\n",
       "       [ 10876.,  21752.,  32628.,  43504.,  54380.,  65256.,      0.,  10876.,  21752.,  32628.,  43504.,  54380.,  65256.,  76132.,  87008.],\n",
       "       [ 10876.,  21752.,  32628.,  43504.,  54380.,      0.,  10876.,  21752.,  32628.,  43504.,  54380.,  65256.,  76132.,  87008.,  97884.],\n",
       "       [ 10876.,  21752.,  32628.,  43504.,      0.,  10876.,  21752.,  32628.,  43504.,  54380.,  65256.,  76132.,  87008.,  97884., 108760.],\n",
       "       [ 10876.,  21752.,  32628.,      0.,  10876.,  21752.,  32628.,  43504.,  54380.,  65256.,  76132.,  87008.,  97884., 108760., 119636.],\n",
       "       [ 10876.,  21752.,      0.,  10876.,  21752.,  32628.,  43504.,  54380.,  65256.,  76132.,  87008.,  97884., 108760., 119636., 130512.],\n",
       "       [ 10876.,      0.,  10876.,  21752.,  32628.,  43504.,  54380.,  65256.,  76132.,  87008.,  97884., 108760., 119636., 130512., 141388.],\n",
       "       [     0.,  10876.,  21752.,  32628.,  43504.,  54380.,  65256.,  76132.,  87008.,  97884., 108760., 119636., 130512., 141388., 152264.],\n",
       "       ...,\n",
       "       [     0.,  10876.,      0.,  10876.,      0.,  10876.,  21752.,  32628.,  43504.,  54380.,  65256.,  76132.,  87008.,  97884., 108760.],\n",
       "       [     0.,  10876.,      0.,      0.,  10876.,  21752.,  32628.,  43504.,  54380.,  65256.,  76132.,  87008.,  97884., 108760., 119636.],\n",
       "       [     0.,      0.,  10876.,  21752.,  32628.,  43504.,  54380.,  65256.,  76132.,  87008.,  97884., 108760., 119636., 130512.,      0.],\n",
       "       [     0.,      0.,  10876.,  21752.,  32628.,  43504.,  54380.,  65256.,  76132.,  87008.,  97884., 108760., 119636.,      0.,  10876.],\n",
       "       [     0.,      0.,  10876.,  21752.,  32628.,  43504.,  54380.,  65256.,  76132.,  87008.,  97884., 108760.,      0.,  10876.,  21752.],\n",
       "       [     0.,      0.,  10876.,  21752.,  32628.,  43504.,  54380.,  65256.,  76132.,  87008.,  97884.,      0.,  10876.,  21752.,  32628.],\n",
       "       [     0.,      0.,  10876.,  21752.,  32628.,  43504.,  54380.,  65256.,  76132.,  87008.,      0.,  10876.,  21752.,  32628.,  43504.],\n",
       "       [     0.,      0.,  10876.,  21752.,  32628.,  43504.,  54380.,  65256.,  76132.,      0.,  10876.,  21752.,  32628.,  43504.,  54380.],\n",
       "       [     0.,      0.,  10876.,  21752.,  32628.,  43504.,  54380.,  65256.,      0.,  10876.,  21752.,  32628.,  43504.,  54380.,  65256.],\n",
       "       [     0.,      0.,  10876.,  21752.,  32628.,  43504.,  54380.,      0.,  10876.,  21752.,  32628.,  43504.,  54380.,  65256.,  76132.],\n",
       "       [     0.,      0.,  10876.,  21752.,  32628.,  43504.,      0.,  10876.,  21752.,  32628.,  43504.,  54380.,  65256.,  76132.,  87008.],\n",
       "       [     0.,      0.,  10876.,  21752.,  32628.,      0.,  10876.,  21752.,  32628.,  43504.,  54380.,  65256.,  76132.,  87008.,  97884.],\n",
       "       [     0.,      0.,  10876.,  21752.,      0.,  10876.,  21752.,  32628.,  43504.,  54380.,  65256.,  76132.,  87008.,  97884., 108760.],\n",
       "       [     0.,      0.,  10876.,      0.,  10876.,  21752.,  32628.,  43504.,  54380.,  65256.,  76132.,  87008.,  97884., 108760., 119636.],\n",
       "       [     0.,      0.,      0.,  10876.,  21752.,  32628.,  43504.,  54380.,  65256.,  76132.,  87008.,  97884., 108760., 119636., 130512.]])"
      ]
     },
     "execution_count": 219,
     "metadata": {},
     "output_type": "execute_result"
    }
   ],
   "source": [
    "#matrix showing what the odometer reading will be under each schedule\n",
    "vehicle_odometer = vehicle_mileage*vehicle_age\n",
    "vehicle_odometer"
   ]
  },
  {
   "cell_type": "markdown",
   "metadata": {},
   "source": [
    "### Find and filter out infeasible schedules\n",
    "- infeasible in the sense that they have a replacement happening in years where the vehicle is both under 6 years old and doesn't yet have 150k miles on it"
   ]
  },
  {
   "cell_type": "code",
   "execution_count": 220,
   "metadata": {},
   "outputs": [],
   "source": [
    "odometer_diff = np.diff(vehicle_odometer)\n",
    "odometer_check = (odometer_diff>-100000) & (odometer_diff<=0)"
   ]
  },
  {
   "cell_type": "code",
   "execution_count": 221,
   "metadata": {},
   "outputs": [
    {
     "data": {
      "text/plain": [
       "array([[ 10876.,  21752.,  32628.,  43504.,  54380.,  65256.,  76132.,  87008.,  97884., 108760., 119636., 130512., 141388., 152264.,      0.],\n",
       "       [ 10876.,  21752.,  32628.,  43504.,  54380.,  65256.,  76132.,  87008.,  97884., 108760., 119636., 130512., 141388.,      0.,  10876.],\n",
       "       [ 10876.,  21752.,  32628.,  43504.,  54380.,  65256.,  76132.,  87008.,  97884., 108760., 119636., 130512.,      0.,  10876.,  21752.],\n",
       "       [ 10876.,  21752.,  32628.,  43504.,  54380.,  65256.,  76132.,  87008.,  97884., 108760., 119636.,      0.,  10876.,  21752.,  32628.],\n",
       "       [ 10876.,  21752.,  32628.,  43504.,  54380.,  65256.,  76132.,  87008.,  97884., 108760.,      0.,  10876.,  21752.,  32628.,  43504.],\n",
       "       [ 10876.,  21752.,  32628.,  43504.,  54380.,  65256.,  76132.,  87008.,  97884.,      0.,  10876.,  21752.,  32628.,  43504.,  54380.],\n",
       "       [ 10876.,  21752.,  32628.,  43504.,  54380.,  65256.,  76132.,  87008.,      0.,  10876.,  21752.,  32628.,  43504.,  54380.,  65256.],\n",
       "       [ 10876.,  21752.,  32628.,  43504.,  54380.,  65256.,  76132.,      0.,  10876.,  21752.,  32628.,  43504.,  54380.,  65256.,  76132.],\n",
       "       [ 10876.,  21752.,  32628.,  43504.,  54380.,  65256.,      0.,  10876.,  21752.,  32628.,  43504.,  54380.,  65256.,  76132.,  87008.],\n",
       "       [ 10876.,  21752.,  32628.,  43504.,  54380.,      0.,  10876.,  21752.,  32628.,  43504.,  54380.,  65256.,  76132.,  87008.,  97884.]])"
      ]
     },
     "execution_count": 221,
     "metadata": {},
     "output_type": "execute_result"
    }
   ],
   "source": [
    "vehicle_odometer[:10]"
   ]
  },
  {
   "cell_type": "code",
   "execution_count": 222,
   "metadata": {},
   "outputs": [
    {
     "data": {
      "text/plain": [
       "array([[  10876.,   10876.,   10876.,   10876.,   10876.,   10876.,   10876.,   10876.,   10876.,   10876.,   10876.,   10876.,   10876., -152264.],\n",
       "       [  10876.,   10876.,   10876.,   10876.,   10876.,   10876.,   10876.,   10876.,   10876.,   10876.,   10876.,   10876., -141388.,   10876.],\n",
       "       [  10876.,   10876.,   10876.,   10876.,   10876.,   10876.,   10876.,   10876.,   10876.,   10876.,   10876., -130512.,   10876.,   10876.],\n",
       "       [  10876.,   10876.,   10876.,   10876.,   10876.,   10876.,   10876.,   10876.,   10876.,   10876., -119636.,   10876.,   10876.,   10876.],\n",
       "       [  10876.,   10876.,   10876.,   10876.,   10876.,   10876.,   10876.,   10876.,   10876., -108760.,   10876.,   10876.,   10876.,   10876.],\n",
       "       [  10876.,   10876.,   10876.,   10876.,   10876.,   10876.,   10876.,   10876.,  -97884.,   10876.,   10876.,   10876.,   10876.,   10876.],\n",
       "       [  10876.,   10876.,   10876.,   10876.,   10876.,   10876.,   10876.,  -87008.,   10876.,   10876.,   10876.,   10876.,   10876.,   10876.],\n",
       "       [  10876.,   10876.,   10876.,   10876.,   10876.,   10876.,  -76132.,   10876.,   10876.,   10876.,   10876.,   10876.,   10876.,   10876.],\n",
       "       [  10876.,   10876.,   10876.,   10876.,   10876.,  -65256.,   10876.,   10876.,   10876.,   10876.,   10876.,   10876.,   10876.,   10876.],\n",
       "       [  10876.,   10876.,   10876.,   10876.,  -54380.,   10876.,   10876.,   10876.,   10876.,   10876.,   10876.,   10876.,   10876.,   10876.],\n",
       "       [  10876.,   10876.,   10876.,  -43504.,   10876.,   10876.,   10876.,   10876.,   10876.,   10876.,   10876.,   10876.,   10876.,   10876.],\n",
       "       [  10876.,   10876.,  -32628.,   10876.,   10876.,   10876.,   10876.,   10876.,   10876.,   10876.,   10876.,   10876.,   10876.,   10876.],\n",
       "       [  10876.,  -21752.,   10876.,   10876.,   10876.,   10876.,   10876.,   10876.,   10876.,   10876.,   10876.,   10876.,   10876.,   10876.],\n",
       "       [ -10876.,   10876.,   10876.,   10876.,   10876.,   10876.,   10876.,   10876.,   10876.,   10876.,   10876.,   10876.,   10876.,   10876.],\n",
       "       [  10876.,   10876.,   10876.,   10876.,   10876.,   10876.,   10876.,   10876.,   10876.,   10876.,   10876.,   10876.,   10876.,   10876.],\n",
       "       ...,\n",
       "       [  10876.,  -10876.,   10876.,  -10876.,   10876.,   10876.,   10876.,   10876.,   10876.,   10876.,   10876.,   10876.,   10876.,   10876.],\n",
       "       [  10876.,  -10876.,       0.,   10876.,   10876.,   10876.,   10876.,   10876.,   10876.,   10876.,   10876.,   10876.,   10876.,   10876.],\n",
       "       [      0.,   10876.,   10876.,   10876.,   10876.,   10876.,   10876.,   10876.,   10876.,   10876.,   10876.,   10876.,   10876., -130512.],\n",
       "       [      0.,   10876.,   10876.,   10876.,   10876.,   10876.,   10876.,   10876.,   10876.,   10876.,   10876.,   10876., -119636.,   10876.],\n",
       "       [      0.,   10876.,   10876.,   10876.,   10876.,   10876.,   10876.,   10876.,   10876.,   10876.,   10876., -108760.,   10876.,   10876.],\n",
       "       [      0.,   10876.,   10876.,   10876.,   10876.,   10876.,   10876.,   10876.,   10876.,   10876.,  -97884.,   10876.,   10876.,   10876.],\n",
       "       [      0.,   10876.,   10876.,   10876.,   10876.,   10876.,   10876.,   10876.,   10876.,  -87008.,   10876.,   10876.,   10876.,   10876.],\n",
       "       [      0.,   10876.,   10876.,   10876.,   10876.,   10876.,   10876.,   10876.,  -76132.,   10876.,   10876.,   10876.,   10876.,   10876.],\n",
       "       [      0.,   10876.,   10876.,   10876.,   10876.,   10876.,   10876.,  -65256.,   10876.,   10876.,   10876.,   10876.,   10876.,   10876.],\n",
       "       [      0.,   10876.,   10876.,   10876.,   10876.,   10876.,  -54380.,   10876.,   10876.,   10876.,   10876.,   10876.,   10876.,   10876.],\n",
       "       [      0.,   10876.,   10876.,   10876.,   10876.,  -43504.,   10876.,   10876.,   10876.,   10876.,   10876.,   10876.,   10876.,   10876.],\n",
       "       [      0.,   10876.,   10876.,   10876.,  -32628.,   10876.,   10876.,   10876.,   10876.,   10876.,   10876.,   10876.,   10876.,   10876.],\n",
       "       [      0.,   10876.,   10876.,  -21752.,   10876.,   10876.,   10876.,   10876.,   10876.,   10876.,   10876.,   10876.,   10876.,   10876.],\n",
       "       [      0.,   10876.,  -10876.,   10876.,   10876.,   10876.,   10876.,   10876.,   10876.,   10876.,   10876.,   10876.,   10876.,   10876.],\n",
       "       [      0.,       0.,   10876.,   10876.,   10876.,   10876.,   10876.,   10876.,   10876.,   10876.,   10876.,   10876.,   10876.,   10876.]])"
      ]
     },
     "execution_count": 222,
     "metadata": {},
     "output_type": "execute_result"
    }
   ],
   "source": [
    "odometer_diff"
   ]
  },
  {
   "cell_type": "code",
   "execution_count": 223,
   "metadata": {},
   "outputs": [
    {
     "data": {
      "text/plain": [
       "array([[False, False, False, False, False, False, False, False, False, False, False, False, False, False],\n",
       "       [False, False, False, False, False, False, False, False, False, False, False, False, False, False],\n",
       "       [False, False, False, False, False, False, False, False, False, False, False, False, False, False],\n",
       "       [False, False, False, False, False, False, False, False, False, False, False, False, False, False],\n",
       "       [False, False, False, False, False, False, False, False, False, False, False, False, False, False],\n",
       "       [False, False, False, False, False, False, False, False,  True, False, False, False, False, False],\n",
       "       [False, False, False, False, False, False, False,  True, False, False, False, False, False, False],\n",
       "       [False, False, False, False, False, False,  True, False, False, False, False, False, False, False],\n",
       "       [False, False, False, False, False,  True, False, False, False, False, False, False, False, False],\n",
       "       [False, False, False, False,  True, False, False, False, False, False, False, False, False, False],\n",
       "       [False, False, False,  True, False, False, False, False, False, False, False, False, False, False],\n",
       "       [False, False,  True, False, False, False, False, False, False, False, False, False, False, False],\n",
       "       [False,  True, False, False, False, False, False, False, False, False, False, False, False, False],\n",
       "       [ True, False, False, False, False, False, False, False, False, False, False, False, False, False],\n",
       "       [False, False, False, False, False, False, False, False, False, False, False, False, False, False],\n",
       "       ...,\n",
       "       [False,  True, False,  True, False, False, False, False, False, False, False, False, False, False],\n",
       "       [False,  True,  True, False, False, False, False, False, False, False, False, False, False, False],\n",
       "       [ True, False, False, False, False, False, False, False, False, False, False, False, False, False],\n",
       "       [ True, False, False, False, False, False, False, False, False, False, False, False, False, False],\n",
       "       [ True, False, False, False, False, False, False, False, False, False, False, False, False, False],\n",
       "       [ True, False, False, False, False, False, False, False, False, False,  True, False, False, False],\n",
       "       [ True, False, False, False, False, False, False, False, False,  True, False, False, False, False],\n",
       "       [ True, False, False, False, False, False, False, False,  True, False, False, False, False, False],\n",
       "       [ True, False, False, False, False, False, False,  True, False, False, False, False, False, False],\n",
       "       [ True, False, False, False, False, False,  True, False, False, False, False, False, False, False],\n",
       "       [ True, False, False, False, False,  True, False, False, False, False, False, False, False, False],\n",
       "       [ True, False, False, False,  True, False, False, False, False, False, False, False, False, False],\n",
       "       [ True, False, False,  True, False, False, False, False, False, False, False, False, False, False],\n",
       "       [ True, False,  True, False, False, False, False, False, False, False, False, False, False, False],\n",
       "       [ True,  True, False, False, False, False, False, False, False, False, False, False, False, False]])"
      ]
     },
     "execution_count": 223,
     "metadata": {},
     "output_type": "execute_result"
    }
   ],
   "source": [
    "odometer_check"
   ]
  },
  {
   "cell_type": "code",
   "execution_count": 224,
   "metadata": {},
   "outputs": [],
   "source": [
    "age_diff = np.diff(vehicle_age)\n",
    "age_check = (age_diff>-6) & (age_diff<=0)#.any()\n"
   ]
  },
  {
   "cell_type": "code",
   "execution_count": 225,
   "metadata": {},
   "outputs": [
    {
     "data": {
      "text/plain": [
       "array([[ 1,  2,  3,  4,  5,  6,  7,  8,  9, 10, 11, 12, 13, 14,  0],\n",
       "       [ 1,  2,  3,  4,  5,  6,  7,  8,  9, 10, 11, 12, 13,  0,  1],\n",
       "       [ 1,  2,  3,  4,  5,  6,  7,  8,  9, 10, 11, 12,  0,  1,  2],\n",
       "       [ 1,  2,  3,  4,  5,  6,  7,  8,  9, 10, 11,  0,  1,  2,  3],\n",
       "       [ 1,  2,  3,  4,  5,  6,  7,  8,  9, 10,  0,  1,  2,  3,  4],\n",
       "       [ 1,  2,  3,  4,  5,  6,  7,  8,  9,  0,  1,  2,  3,  4,  5],\n",
       "       [ 1,  2,  3,  4,  5,  6,  7,  8,  0,  1,  2,  3,  4,  5,  6],\n",
       "       [ 1,  2,  3,  4,  5,  6,  7,  0,  1,  2,  3,  4,  5,  6,  7],\n",
       "       [ 1,  2,  3,  4,  5,  6,  0,  1,  2,  3,  4,  5,  6,  7,  8],\n",
       "       [ 1,  2,  3,  4,  5,  0,  1,  2,  3,  4,  5,  6,  7,  8,  9]])"
      ]
     },
     "execution_count": 225,
     "metadata": {},
     "output_type": "execute_result"
    }
   ],
   "source": [
    "vehicle_age[:10]"
   ]
  },
  {
   "cell_type": "code",
   "execution_count": 226,
   "metadata": {},
   "outputs": [
    {
     "data": {
      "text/plain": [
       "array([[  1,   1,   1,   1,   1,   1,   1,   1,   1,   1,   1,   1,   1, -14],\n",
       "       [  1,   1,   1,   1,   1,   1,   1,   1,   1,   1,   1,   1, -13,   1],\n",
       "       [  1,   1,   1,   1,   1,   1,   1,   1,   1,   1,   1, -12,   1,   1],\n",
       "       [  1,   1,   1,   1,   1,   1,   1,   1,   1,   1, -11,   1,   1,   1],\n",
       "       [  1,   1,   1,   1,   1,   1,   1,   1,   1, -10,   1,   1,   1,   1],\n",
       "       [  1,   1,   1,   1,   1,   1,   1,   1,  -9,   1,   1,   1,   1,   1],\n",
       "       [  1,   1,   1,   1,   1,   1,   1,  -8,   1,   1,   1,   1,   1,   1],\n",
       "       [  1,   1,   1,   1,   1,   1,  -7,   1,   1,   1,   1,   1,   1,   1],\n",
       "       [  1,   1,   1,   1,   1,  -6,   1,   1,   1,   1,   1,   1,   1,   1],\n",
       "       [  1,   1,   1,   1,  -5,   1,   1,   1,   1,   1,   1,   1,   1,   1],\n",
       "       [  1,   1,   1,  -4,   1,   1,   1,   1,   1,   1,   1,   1,   1,   1],\n",
       "       [  1,   1,  -3,   1,   1,   1,   1,   1,   1,   1,   1,   1,   1,   1],\n",
       "       [  1,  -2,   1,   1,   1,   1,   1,   1,   1,   1,   1,   1,   1,   1],\n",
       "       [ -1,   1,   1,   1,   1,   1,   1,   1,   1,   1,   1,   1,   1,   1],\n",
       "       [  1,   1,   1,   1,   1,   1,   1,   1,   1,   1,   1,   1,   1,   1],\n",
       "       ...,\n",
       "       [  1,  -1,   1,  -1,   1,   1,   1,   1,   1,   1,   1,   1,   1,   1],\n",
       "       [  1,  -1,   0,   1,   1,   1,   1,   1,   1,   1,   1,   1,   1,   1],\n",
       "       [  0,   1,   1,   1,   1,   1,   1,   1,   1,   1,   1,   1,   1, -12],\n",
       "       [  0,   1,   1,   1,   1,   1,   1,   1,   1,   1,   1,   1, -11,   1],\n",
       "       [  0,   1,   1,   1,   1,   1,   1,   1,   1,   1,   1, -10,   1,   1],\n",
       "       [  0,   1,   1,   1,   1,   1,   1,   1,   1,   1,  -9,   1,   1,   1],\n",
       "       [  0,   1,   1,   1,   1,   1,   1,   1,   1,  -8,   1,   1,   1,   1],\n",
       "       [  0,   1,   1,   1,   1,   1,   1,   1,  -7,   1,   1,   1,   1,   1],\n",
       "       [  0,   1,   1,   1,   1,   1,   1,  -6,   1,   1,   1,   1,   1,   1],\n",
       "       [  0,   1,   1,   1,   1,   1,  -5,   1,   1,   1,   1,   1,   1,   1],\n",
       "       [  0,   1,   1,   1,   1,  -4,   1,   1,   1,   1,   1,   1,   1,   1],\n",
       "       [  0,   1,   1,   1,  -3,   1,   1,   1,   1,   1,   1,   1,   1,   1],\n",
       "       [  0,   1,   1,  -2,   1,   1,   1,   1,   1,   1,   1,   1,   1,   1],\n",
       "       [  0,   1,  -1,   1,   1,   1,   1,   1,   1,   1,   1,   1,   1,   1],\n",
       "       [  0,   0,   1,   1,   1,   1,   1,   1,   1,   1,   1,   1,   1,   1]])"
      ]
     },
     "execution_count": 226,
     "metadata": {},
     "output_type": "execute_result"
    }
   ],
   "source": [
    "age_diff"
   ]
  },
  {
   "cell_type": "code",
   "execution_count": 227,
   "metadata": {},
   "outputs": [
    {
     "data": {
      "text/plain": [
       "array([[False, False, False, False, False, False, False, False, False, False, False, False, False, False],\n",
       "       [False, False, False, False, False, False, False, False, False, False, False, False, False, False],\n",
       "       [False, False, False, False, False, False, False, False, False, False, False, False, False, False],\n",
       "       [False, False, False, False, False, False, False, False, False, False, False, False, False, False],\n",
       "       [False, False, False, False, False, False, False, False, False, False, False, False, False, False],\n",
       "       [False, False, False, False, False, False, False, False, False, False, False, False, False, False],\n",
       "       [False, False, False, False, False, False, False, False, False, False, False, False, False, False],\n",
       "       [False, False, False, False, False, False, False, False, False, False, False, False, False, False],\n",
       "       [False, False, False, False, False, False, False, False, False, False, False, False, False, False],\n",
       "       [False, False, False, False,  True, False, False, False, False, False, False, False, False, False],\n",
       "       [False, False, False,  True, False, False, False, False, False, False, False, False, False, False],\n",
       "       [False, False,  True, False, False, False, False, False, False, False, False, False, False, False],\n",
       "       [False,  True, False, False, False, False, False, False, False, False, False, False, False, False],\n",
       "       [ True, False, False, False, False, False, False, False, False, False, False, False, False, False],\n",
       "       [False, False, False, False, False, False, False, False, False, False, False, False, False, False],\n",
       "       ...,\n",
       "       [False,  True, False,  True, False, False, False, False, False, False, False, False, False, False],\n",
       "       [False,  True,  True, False, False, False, False, False, False, False, False, False, False, False],\n",
       "       [ True, False, False, False, False, False, False, False, False, False, False, False, False, False],\n",
       "       [ True, False, False, False, False, False, False, False, False, False, False, False, False, False],\n",
       "       [ True, False, False, False, False, False, False, False, False, False, False, False, False, False],\n",
       "       [ True, False, False, False, False, False, False, False, False, False, False, False, False, False],\n",
       "       [ True, False, False, False, False, False, False, False, False, False, False, False, False, False],\n",
       "       [ True, False, False, False, False, False, False, False, False, False, False, False, False, False],\n",
       "       [ True, False, False, False, False, False, False, False, False, False, False, False, False, False],\n",
       "       [ True, False, False, False, False, False,  True, False, False, False, False, False, False, False],\n",
       "       [ True, False, False, False, False,  True, False, False, False, False, False, False, False, False],\n",
       "       [ True, False, False, False,  True, False, False, False, False, False, False, False, False, False],\n",
       "       [ True, False, False,  True, False, False, False, False, False, False, False, False, False, False],\n",
       "       [ True, False,  True, False, False, False, False, False, False, False, False, False, False, False],\n",
       "       [ True,  True, False, False, False, False, False, False, False, False, False, False, False, False]])"
      ]
     },
     "execution_count": 227,
     "metadata": {},
     "output_type": "execute_result"
    }
   ],
   "source": [
    "age_check"
   ]
  },
  {
   "cell_type": "code",
   "execution_count": 228,
   "metadata": {},
   "outputs": [],
   "source": [
    "both_check = odometer_check*age_check"
   ]
  },
  {
   "cell_type": "code",
   "execution_count": 229,
   "metadata": {},
   "outputs": [
    {
     "data": {
      "text/plain": [
       "array([[False, False, False, False, False, False, False, False, False, False, False, False, False, False],\n",
       "       [False, False, False, False, False, False, False, False, False, False, False, False, False, False],\n",
       "       [False, False, False, False, False, False, False, False, False, False, False, False, False, False],\n",
       "       [False, False, False, False, False, False, False, False, False, False, False, False, False, False],\n",
       "       [False, False, False, False, False, False, False, False, False, False, False, False, False, False],\n",
       "       [False, False, False, False, False, False, False, False, False, False, False, False, False, False],\n",
       "       [False, False, False, False, False, False, False, False, False, False, False, False, False, False],\n",
       "       [False, False, False, False, False, False, False, False, False, False, False, False, False, False],\n",
       "       [False, False, False, False, False, False, False, False, False, False, False, False, False, False],\n",
       "       [False, False, False, False,  True, False, False, False, False, False, False, False, False, False],\n",
       "       [False, False, False,  True, False, False, False, False, False, False, False, False, False, False],\n",
       "       [False, False,  True, False, False, False, False, False, False, False, False, False, False, False],\n",
       "       [False,  True, False, False, False, False, False, False, False, False, False, False, False, False],\n",
       "       [ True, False, False, False, False, False, False, False, False, False, False, False, False, False],\n",
       "       [False, False, False, False, False, False, False, False, False, False, False, False, False, False],\n",
       "       ...,\n",
       "       [False,  True, False,  True, False, False, False, False, False, False, False, False, False, False],\n",
       "       [False,  True,  True, False, False, False, False, False, False, False, False, False, False, False],\n",
       "       [ True, False, False, False, False, False, False, False, False, False, False, False, False, False],\n",
       "       [ True, False, False, False, False, False, False, False, False, False, False, False, False, False],\n",
       "       [ True, False, False, False, False, False, False, False, False, False, False, False, False, False],\n",
       "       [ True, False, False, False, False, False, False, False, False, False, False, False, False, False],\n",
       "       [ True, False, False, False, False, False, False, False, False, False, False, False, False, False],\n",
       "       [ True, False, False, False, False, False, False, False, False, False, False, False, False, False],\n",
       "       [ True, False, False, False, False, False, False, False, False, False, False, False, False, False],\n",
       "       [ True, False, False, False, False, False,  True, False, False, False, False, False, False, False],\n",
       "       [ True, False, False, False, False,  True, False, False, False, False, False, False, False, False],\n",
       "       [ True, False, False, False,  True, False, False, False, False, False, False, False, False, False],\n",
       "       [ True, False, False,  True, False, False, False, False, False, False, False, False, False, False],\n",
       "       [ True, False,  True, False, False, False, False, False, False, False, False, False, False, False],\n",
       "       [ True,  True, False, False, False, False, False, False, False, False, False, False, False, False]])"
      ]
     },
     "execution_count": 229,
     "metadata": {},
     "output_type": "execute_result"
    }
   ],
   "source": [
    "both_check"
   ]
  },
  {
   "cell_type": "code",
   "execution_count": 230,
   "metadata": {},
   "outputs": [],
   "source": [
    "infeasible_filter = both_check.any(axis=1)"
   ]
  },
  {
   "cell_type": "code",
   "execution_count": 231,
   "metadata": {},
   "outputs": [
    {
     "data": {
      "text/plain": [
       "array([[0, 0, 0, 0, 0, 0, 0, 0, 0, 0, 0, 0, 0, 0, 1],\n",
       "       [0, 0, 0, 0, 0, 0, 0, 0, 0, 0, 0, 0, 0, 1, 0],\n",
       "       [0, 0, 0, 0, 0, 0, 0, 0, 0, 0, 0, 0, 1, 0, 0],\n",
       "       [0, 0, 0, 0, 0, 0, 0, 0, 0, 0, 0, 1, 0, 0, 0],\n",
       "       [0, 0, 0, 0, 0, 0, 0, 0, 0, 0, 1, 0, 0, 0, 0],\n",
       "       [0, 0, 0, 0, 0, 0, 0, 0, 0, 1, 0, 0, 0, 0, 0],\n",
       "       [0, 0, 0, 0, 0, 0, 0, 0, 1, 0, 0, 0, 0, 0, 0],\n",
       "       [0, 0, 0, 0, 0, 0, 0, 1, 0, 0, 0, 0, 0, 0, 0],\n",
       "       [0, 0, 0, 0, 0, 0, 1, 0, 0, 0, 0, 0, 0, 0, 0],\n",
       "       [1, 0, 0, 0, 0, 0, 0, 0, 0, 0, 0, 0, 0, 0, 0],\n",
       "       [0, 0, 0, 0, 0, 0, 0, 1, 0, 0, 0, 0, 0, 0, 1],\n",
       "       [0, 0, 0, 0, 0, 0, 1, 0, 0, 0, 0, 0, 0, 0, 1],\n",
       "       [0, 0, 0, 0, 0, 0, 1, 0, 0, 0, 0, 0, 0, 1, 0],\n",
       "       [1, 0, 0, 0, 0, 0, 0, 0, 0, 0, 0, 0, 0, 0, 1],\n",
       "       [1, 0, 0, 0, 0, 0, 0, 0, 0, 0, 0, 0, 0, 1, 0],\n",
       "       [1, 0, 0, 0, 0, 0, 0, 0, 0, 0, 0, 0, 1, 0, 0],\n",
       "       [1, 0, 0, 0, 0, 0, 0, 0, 0, 0, 0, 1, 0, 0, 0],\n",
       "       [1, 0, 0, 0, 0, 0, 0, 0, 0, 0, 1, 0, 0, 0, 0],\n",
       "       [1, 0, 0, 0, 0, 0, 0, 0, 0, 1, 0, 0, 0, 0, 0],\n",
       "       [1, 0, 0, 0, 0, 0, 0, 0, 1, 0, 0, 0, 0, 0, 0],\n",
       "       [1, 0, 0, 0, 0, 0, 0, 1, 0, 0, 0, 0, 0, 0, 0],\n",
       "       [1, 0, 0, 0, 0, 0, 0, 1, 0, 0, 0, 0, 0, 0, 1]])"
      ]
     },
     "execution_count": 231,
     "metadata": {},
     "output_type": "execute_result"
    }
   ],
   "source": [
    "replacementSchedules[~infeasible_filter]"
   ]
  },
  {
   "cell_type": "code",
   "execution_count": 232,
   "metadata": {},
   "outputs": [],
   "source": [
    "def find_infeasible_schedules():\n",
    "    \n",
    "    return None"
   ]
  },
  {
   "cell_type": "markdown",
   "metadata": {},
   "source": [
    "### Fuel cost"
   ]
  },
  {
   "cell_type": "code",
   "execution_count": 233,
   "metadata": {},
   "outputs": [],
   "source": [
    "#ICE\n",
    "#fuel $ = mileage/mpg*cpg\n",
    "cpg = 2.25\n",
    "mpg = 22\n",
    "fuel_cost_ice = vehicle_mileage/mpg*cpg"
   ]
  },
  {
   "cell_type": "code",
   "execution_count": 234,
   "metadata": {},
   "outputs": [],
   "source": [
    "#EV\n",
    "#fuel $ = mileage/mpeg * cpeg\n",
    "cpeg = 1.2\n",
    "mpeg = 100\n",
    "fuel_cost_ev = vehicle_mileage/mpeg*cpeg"
   ]
  },
  {
   "cell_type": "markdown",
   "metadata": {},
   "source": [
    "#!having trouble getting the masking to work here. Need to do some more research on how to get this to work. "
   ]
  },
  {
   "cell_type": "code",
   "execution_count": 235,
   "metadata": {},
   "outputs": [],
   "source": [
    "firstReplacements = np.argmax(replacementSchedules==1,axis=1)"
   ]
  },
  {
   "cell_type": "code",
   "execution_count": 236,
   "metadata": {},
   "outputs": [
    {
     "data": {
      "text/plain": [
       "(575,)"
      ]
     },
     "execution_count": 236,
     "metadata": {},
     "output_type": "execute_result"
    }
   ],
   "source": [
    "firstReplacements.shape"
   ]
  },
  {
   "cell_type": "code",
   "execution_count": 237,
   "metadata": {},
   "outputs": [
    {
     "data": {
      "text/plain": [
       "array([14, 13, 12, 11, 10,  9,  8,  7,  6,  5,  4,  3,  2,  1,  0, 13, 12, 12, 11, 11, 11, 10, 10, 10, 10,  9,  9,  9,  9,  9,  8,  8,  8,  8,  8,  8,  7,  7,  7,  7,  7,  7,  7,  6,  6,  6,  6,  6,  6,  6,  6,  5,  5,  5,  5,  5,  5,  5,  5,  5,  4,  4,  4,  4,  4,  4,  4,  4,  4,  4,  3,  3,  3,  3,  3,  3,  3,  3,  3,  3,  3,  2,  2,  2,  2,  2,  2,  2,  2,  2,  2,  2,  2,  1,  1,  1,  1,  1,  1,  1,  1,  1,  1,  1,  1,  1,  0,  0,  0,  0,  0,  0,  0,  0,  0,  0,  0,  0,  0,  0, 12, 11, 11, 11, 10, 10, 10, 10, 10, 10,  9,  9,  9,  9,  9,  9,  9,  9,  9,  9,  8,  8,  8,  8,  8,  8,  8,  8,\n",
       "        8,  8,  8,  8,  8,  8,  8,  7,  7,  7,  7,  7,  7,  7,  7,  7,  7,  7,  7,  7,  7,  7,  7,  7,  7,  7,  7,  7,  6,  6,  6,  6,  6,  6,  6,  6,  6,  6,  6,  6,  6,  6,  6,  6,  6,  6,  6,  6,  6,  6,  6,  6,  6,  6,  6,  6,  5,  5,  5,  5,  5,  5,  5,  5,  5,  5,  5,  5,  5,  5,  5,  5,  5,  5,  5,  5,  5,  5,  5,  5,  5,  5,  5,  5,  5,  5,  5,  5,  5,  5,  5,  5,  4,  4,  4,  4,  4,  4,  4,  4,  4,  4,  4,  4,  4,  4,  4,  4,  4,  4,  4,  4,  4,  4,  4,  4,  4,  4,  4,  4,  4,  4,  4,  4,  4,  4,  4,  4,  4,  4,  4,  4,  4,  4,  4,  4,  4,  3,  3,  3,  3,  3,  3,  3,  3,  3,  3,  3,\n",
       "        3,  3,  3,  3,  3,  3,  3,  3,  3,  3,  3,  3,  3,  3,  3,  3,  3,  3,  3,  3,  3,  3,  3,  3,  3,  3,  3,  3,  3,  3,  3,  3,  3,  3,  3,  3,  3,  3,  3,  3,  3,  3,  3,  3,  2,  2,  2,  2,  2,  2,  2,  2,  2,  2,  2,  2,  2,  2,  2,  2,  2,  2,  2,  2,  2,  2,  2,  2,  2,  2,  2,  2,  2,  2,  2,  2,  2,  2,  2,  2,  2,  2,  2,  2,  2,  2,  2,  2,  2,  2,  2,  2,  2,  2,  2,  2,  2,  2,  2,  2,  2,  2,  2,  2,  2,  2,  2,  2,  2,  2,  1,  1,  1,  1,  1,  1,  1,  1,  1,  1,  1,  1,  1,  1,  1,  1,  1,  1,  1,  1,  1,  1,  1,  1,  1,  1,  1,  1,  1,  1,  1,  1,  1,  1,  1,  1,  1,  1,\n",
       "        1,  1,  1,  1,  1,  1,  1,  1,  1,  1,  1,  1,  1,  1,  1,  1,  1,  1,  1,  1,  1,  1,  1,  1,  1,  1,  1,  1,  1,  1,  1,  1,  1,  1,  1,  1,  1,  1,  1,  1,  0,  0,  0,  0,  0,  0,  0,  0,  0,  0,  0,  0,  0,  0,  0,  0,  0,  0,  0,  0,  0,  0,  0,  0,  0,  0,  0,  0,  0,  0,  0,  0,  0,  0,  0,  0,  0,  0,  0,  0,  0,  0,  0,  0,  0,  0,  0,  0,  0,  0,  0,  0,  0,  0,  0,  0,  0,  0,  0,  0,  0,  0,  0,  0,  0,  0,  0,  0,  0,  0,  0,  0,  0,  0,  0,  0,  0,  0,  0,  0,  0,  0,  0,  0,  0,  0,  0,  0,  0,  0,  0], dtype=int64)"
      ]
     },
     "execution_count": 237,
     "metadata": {},
     "output_type": "execute_result"
    }
   ],
   "source": [
    "firstReplacements"
   ]
  },
  {
   "cell_type": "code",
   "execution_count": 246,
   "metadata": {},
   "outputs": [],
   "source": [
    "end = np.repeat(np.array(14),575)"
   ]
  },
  {
   "cell_type": "code",
   "execution_count": 247,
   "metadata": {},
   "outputs": [],
   "source": [
    "schedule = np.indices((575,1))"
   ]
  },
  {
   "cell_type": "code",
   "execution_count": 249,
   "metadata": {},
   "outputs": [
    {
     "ename": "TypeError",
     "evalue": "only integer scalar arrays can be converted to a scalar index",
     "output_type": "error",
     "traceback": [
      "\u001b[1;31m---------------------------------------------------------------------------\u001b[0m",
      "\u001b[1;31mTypeError\u001b[0m                                 Traceback (most recent call last)",
      "\u001b[1;32m<ipython-input-249-f3115b8ecb96>\u001b[0m in \u001b[0;36m<module>\u001b[1;34m\u001b[0m\n\u001b[1;32m----> 1\u001b[1;33m \u001b[0mreplacementSchedules\u001b[0m\u001b[1;33m[\u001b[0m\u001b[0mschedule\u001b[0m\u001b[1;33m,\u001b[0m\u001b[0mfirstReplacements\u001b[0m\u001b[1;33m:\u001b[0m\u001b[0mend\u001b[0m\u001b[1;33m]\u001b[0m \u001b[1;33m=\u001b[0m \u001b[1;36m1\u001b[0m\u001b[1;33m\u001b[0m\u001b[1;33m\u001b[0m\u001b[0m\n\u001b[0m",
      "\u001b[1;31mTypeError\u001b[0m: only integer scalar arrays can be converted to a scalar index"
     ]
    }
   ],
   "source": [
    "replacementSchedules[schedule,firstReplacements:end] = 1"
   ]
  },
  {
   "cell_type": "code",
   "execution_count": null,
   "metadata": {},
   "outputs": [],
   "source": [
    "import numpy as np\n",
    ">>> a = np.zeros((4,5))\n",
    ">>> vals = 1\n",
    ">>> pos = [(0,4),(1,2),(2,4),(3,4)]\n",
    ">>> rows, cols = zip(*pos)\n",
    ">>> a[2, 2:4] = vals\n",
    "# >>> a\n",
    "a"
   ]
  },
  {
   "cell_type": "code",
   "execution_count": null,
   "metadata": {},
   "outputs": [],
   "source": [
    "rows"
   ]
  },
  {
   "cell_type": "code",
   "execution_count": null,
   "metadata": {},
   "outputs": [],
   "source": [
    "replacementSchedules[:,:14]# = 1"
   ]
  },
  {
   "cell_type": "code",
   "execution_count": null,
   "metadata": {},
   "outputs": [],
   "source": [
    "aa.shape"
   ]
  },
  {
   "cell_type": "code",
   "execution_count": null,
   "metadata": {},
   "outputs": [],
   "source": [
    "replacementSchedules"
   ]
  },
  {
   "cell_type": "markdown",
   "metadata": {},
   "source": [
    "### Old stuff from vehicle age recursion "
   ]
  },
  {
   "cell_type": "raw",
   "metadata": {},
   "source": [
    "u = np.diff(x)\n",
    "x[np.append(np.ones(shape=(1,)),u,axis=0)>1]=1"
   ]
  },
  {
   "cell_type": "raw",
   "metadata": {},
   "source": [
    "startingAge = 0\n",
    "x = startingAge+np.cumsum(keepSchedules,axis=1)*keepSchedules\n",
    "x[x==startingAge] = 0 #fixes the fact that replaced vehicles start at 0 (if this wasn't here they would start at the starting age)\n",
    "x"
   ]
  },
  {
   "cell_type": "code",
   "execution_count": null,
   "metadata": {
    "scrolled": true
   },
   "outputs": [],
   "source": []
  },
  {
   "cell_type": "code",
   "execution_count": null,
   "metadata": {},
   "outputs": [],
   "source": [
    "#vehicle_age matrix tracks the age of the vehicle throughout each schedule\n",
    "# vehicle_age = \n",
    "\n",
    "x = 3+np.cumsum(keepSchedules,axis=1)*keepSchedules #3+ would be the age of the vehicle currently\n",
    "x[x==3] = 0\n",
    "u = np.diff(x,axis=1)\n",
    "x[np.append(np.ones(shape=(575,1)),u,axis=1)>1]=1\n"
   ]
  },
  {
   "cell_type": "code",
   "execution_count": null,
   "metadata": {},
   "outputs": [],
   "source": [
    "x"
   ]
  },
  {
   "cell_type": "code",
   "execution_count": null,
   "metadata": {},
   "outputs": [],
   "source": [
    "u = np.diff(x,axis=1)\n",
    "x[np.append(np.ones(shape=(575,1)),u,axis=1)>1]=2"
   ]
  },
  {
   "cell_type": "code",
   "execution_count": null,
   "metadata": {},
   "outputs": [],
   "source": [
    "u = np.diff(x,axis=1)\n",
    "x[np.append(np.ones(shape=(575,1)),u,axis=1)>1]=3"
   ]
  },
  {
   "cell_type": "code",
   "execution_count": null,
   "metadata": {},
   "outputs": [],
   "source": [
    "u = np.diff(x,axis=1)\n",
    "x[np.append(np.ones(shape=(575,1)),u,axis=1)>1] = 4"
   ]
  },
  {
   "cell_type": "code",
   "execution_count": null,
   "metadata": {},
   "outputs": [],
   "source": [
    "u = np.diff(x,axis=1)\n",
    "x[np.append(np.ones(shape=(575,1)),u,axis=1)>1] = 5"
   ]
  },
  {
   "cell_type": "code",
   "execution_count": null,
   "metadata": {},
   "outputs": [],
   "source": [
    "u = np.diff(x,axis=1)\n",
    "x[np.append(np.ones(shape=(575,1)),u,axis=1)>1] = 6"
   ]
  },
  {
   "cell_type": "code",
   "execution_count": null,
   "metadata": {},
   "outputs": [],
   "source": [
    "u = np.diff(x,axis=1)\n",
    "x[np.append(np.ones(shape=(575,1)),u,axis=1)>1] = 7"
   ]
  },
  {
   "cell_type": "code",
   "execution_count": null,
   "metadata": {},
   "outputs": [],
   "source": [
    "u = np.diff(x,axis=1)\n",
    "x[np.append(np.ones(shape=(575,1)),u,axis=1)>1] = 8"
   ]
  },
  {
   "cell_type": "code",
   "execution_count": null,
   "metadata": {},
   "outputs": [],
   "source": [
    "u = np.diff(x,axis=1)\n",
    "x[np.append(np.ones(shape=(575,1)),u,axis=1)>1] = 9"
   ]
  },
  {
   "cell_type": "code",
   "execution_count": null,
   "metadata": {},
   "outputs": [],
   "source": [
    "u = np.diff(x,axis=1)\n",
    "x[np.append(np.ones(shape=(575,1)),u,axis=1)>1] = 10"
   ]
  },
  {
   "cell_type": "code",
   "execution_count": null,
   "metadata": {},
   "outputs": [],
   "source": [
    "u = np.diff(x,axis=1)\n",
    "x[np.append(np.ones(shape=(575,1)),u,axis=1)>1] = 11"
   ]
  },
  {
   "cell_type": "code",
   "execution_count": null,
   "metadata": {},
   "outputs": [],
   "source": [
    "u = np.diff(x,axis=1)\n",
    "x[np.append(np.ones(shape=(575,1)),u,axis=1)>1] = 12"
   ]
  },
  {
   "cell_type": "code",
   "execution_count": null,
   "metadata": {},
   "outputs": [],
   "source": [
    "u = np.diff(x,axis=1)\n",
    "x[np.append(np.ones(shape=(575,1)),u,axis=1)>1] = 13"
   ]
  },
  {
   "cell_type": "code",
   "execution_count": null,
   "metadata": {},
   "outputs": [],
   "source": [
    "u = np.diff(x,axis=1)\n",
    "x[np.append(np.ones(shape=(575,1)),u,axis=1)>1] = 14"
   ]
  },
  {
   "cell_type": "code",
   "execution_count": null,
   "metadata": {},
   "outputs": [],
   "source": [
    "u = np.diff(x,axis=1)\n",
    "x[np.append(np.ones(shape=(575,1)),u,axis=1)>1]"
   ]
  },
  {
   "cell_type": "code",
   "execution_count": null,
   "metadata": {},
   "outputs": [],
   "source": [
    "x"
   ]
  },
  {
   "cell_type": "code",
   "execution_count": null,
   "metadata": {},
   "outputs": [],
   "source": [
    "u = np.diff(x)\n",
    "x[np.append(np.ones(shape=(1,)),u,axis=0)>1] = 2"
   ]
  },
  {
   "cell_type": "code",
   "execution_count": null,
   "metadata": {},
   "outputs": [],
   "source": [
    "x"
   ]
  },
  {
   "cell_type": "code",
   "execution_count": null,
   "metadata": {},
   "outputs": [],
   "source": [
    "u = np.diff(x)\n",
    "x[np.append(np.ones(shape=(1,)),u,axis=0)>1] = 3"
   ]
  },
  {
   "cell_type": "code",
   "execution_count": null,
   "metadata": {},
   "outputs": [],
   "source": [
    "x"
   ]
  },
  {
   "cell_type": "code",
   "execution_count": null,
   "metadata": {},
   "outputs": [],
   "source": [
    "u = np.diff(x)\n",
    "x[np.append(np.ones(shape=(1,)),u,axis=0)>1] = 4"
   ]
  },
  {
   "cell_type": "code",
   "execution_count": null,
   "metadata": {},
   "outputs": [],
   "source": [
    "x"
   ]
  },
  {
   "cell_type": "code",
   "execution_count": null,
   "metadata": {},
   "outputs": [],
   "source": [
    "u = np.diff(x)\n",
    "x[np.append(np.ones(shape=(1,)),u,axis=0)>1] = 5"
   ]
  },
  {
   "cell_type": "code",
   "execution_count": null,
   "metadata": {},
   "outputs": [],
   "source": [
    "x"
   ]
  },
  {
   "cell_type": "code",
   "execution_count": null,
   "metadata": {},
   "outputs": [],
   "source": [
    "u = np.diff(x)\n",
    "x[np.append(np.ones(shape=(1,)),u,axis=0)>1] = 6"
   ]
  },
  {
   "cell_type": "code",
   "execution_count": null,
   "metadata": {},
   "outputs": [],
   "source": [
    "x"
   ]
  },
  {
   "cell_type": "code",
   "execution_count": null,
   "metadata": {},
   "outputs": [],
   "source": [
    "#acquisition cost timeline\n",
    "acquisition_cost = 30000*replacementSchedules\n",
    "acquisition_cost"
   ]
  },
  {
   "cell_type": "code",
   "execution_count": null,
   "metadata": {},
   "outputs": [],
   "source": [
    "acquisition_cost[45,:]"
   ]
  },
  {
   "cell_type": "code",
   "execution_count": null,
   "metadata": {
    "scrolled": true
   },
   "outputs": [],
   "source": [
    "allVehiclesReplacementSchedules = np.repeat(replacementSchedules[np.newaxis,:, :], 1440, axis=0)\n",
    "print(allVehiclesReplacementSchedules.shape)\n",
    "allVehiclesReplacementSchedules"
   ]
  },
  {
   "cell_type": "code",
   "execution_count": 239,
   "metadata": {},
   "outputs": [
    {
     "ename": "NameError",
     "evalue": "name 'allVehiclesReplacementSchedules' is not defined",
     "output_type": "error",
     "traceback": [
      "\u001b[1;31m---------------------------------------------------------------------------\u001b[0m",
      "\u001b[1;31mNameError\u001b[0m                                 Traceback (most recent call last)",
      "\u001b[1;32m<ipython-input-239-be88f34154df>\u001b[0m in \u001b[0;36m<module>\u001b[1;34m\u001b[0m\n\u001b[1;32m----> 1\u001b[1;33m \u001b[0mv\u001b[0m\u001b[1;33m,\u001b[0m\u001b[0ms\u001b[0m\u001b[1;33m,\u001b[0m\u001b[0my\u001b[0m \u001b[1;33m=\u001b[0m \u001b[0mallVehiclesReplacementSchedules\u001b[0m\u001b[1;33m.\u001b[0m\u001b[0mshape\u001b[0m\u001b[1;33m\u001b[0m\u001b[1;33m\u001b[0m\u001b[0m\n\u001b[0m\u001b[0;32m      2\u001b[0m \u001b[0mv\u001b[0m\u001b[1;33m*\u001b[0m\u001b[0ms\u001b[0m\u001b[1;33m\u001b[0m\u001b[1;33m\u001b[0m\u001b[0m\n",
      "\u001b[1;31mNameError\u001b[0m: name 'allVehiclesReplacementSchedules' is not defined"
     ]
    }
   ],
   "source": [
    "v,s,y = allVehiclesReplacementSchedules.shape\n",
    "v*s"
   ]
  },
  {
   "cell_type": "code",
   "execution_count": null,
   "metadata": {},
   "outputs": [],
   "source": []
  }
 ],
 "metadata": {
  "kernelspec": {
   "display_name": "Python 3",
   "language": "python",
   "name": "python3"
  },
  "language_info": {
   "codemirror_mode": {
    "name": "ipython",
    "version": 3
   },
   "file_extension": ".py",
   "mimetype": "text/x-python",
   "name": "python",
   "nbconvert_exporter": "python",
   "pygments_lexer": "ipython3",
   "version": "3.7.9"
  }
 },
 "nbformat": 4,
 "nbformat_minor": 4
}
