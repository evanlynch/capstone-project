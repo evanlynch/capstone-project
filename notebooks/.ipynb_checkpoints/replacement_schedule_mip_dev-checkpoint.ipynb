{
 "cells": [
  {
   "cell_type": "code",
   "execution_count": 1,
   "metadata": {},
   "outputs": [],
   "source": [
    "import numpy as np\n",
    "from sympy.utilities.iterables import multiset_permutations\n",
    "import time\n",
    "import pandas as pd\n",
    "import gurobipy as grb\n",
    "import datetime\n",
    "np.set_printoptions(edgeitems=15,linewidth=600)\n",
    "\n",
    "%load_ext autoreload\n",
    "%autoreload 2\n",
    "import sys\n",
    "import os\n",
    "sys.path.append(os.path.join(os.getcwd(), '..'))\n",
    "from src.optimization.mip_model import *"
   ]
  },
  {
   "cell_type": "code",
   "execution_count": 2,
   "metadata": {},
   "outputs": [],
   "source": [
    "start = time.time()"
   ]
  },
  {
   "cell_type": "code",
   "execution_count": 39,
   "metadata": {},
   "outputs": [],
   "source": [
    "data = pd.read_excel('../data/data_template_blank.xlsx').head(2)\n",
    "data['current_age'] = datetime.datetime.now().year - pd.to_datetime(data.purchasedate).dt.year\n",
    "data = data.reset_index().rename({\"index\":\"vehicle_idx\"},axis=1)"
   ]
  },
  {
   "cell_type": "code",
   "execution_count": 40,
   "metadata": {},
   "outputs": [
    {
     "data": {
      "text/html": [
       "<div>\n",
       "<style scoped>\n",
       "    .dataframe tbody tr th:only-of-type {\n",
       "        vertical-align: middle;\n",
       "    }\n",
       "\n",
       "    .dataframe tbody tr th {\n",
       "        vertical-align: top;\n",
       "    }\n",
       "\n",
       "    .dataframe thead th {\n",
       "        text-align: right;\n",
       "    }\n",
       "</style>\n",
       "<table border=\"1\" class=\"dataframe\">\n",
       "  <thead>\n",
       "    <tr style=\"text-align: right;\">\n",
       "      <th></th>\n",
       "      <th>vehicle_idx</th>\n",
       "      <th>equipmentid</th>\n",
       "      <th>vehicledescription</th>\n",
       "      <th>vehicle_type</th>\n",
       "      <th>dept_name</th>\n",
       "      <th>deptid</th>\n",
       "      <th>purchasedate</th>\n",
       "      <th>purchaseprice</th>\n",
       "      <th>depreceated value</th>\n",
       "      <th>miles2020</th>\n",
       "      <th>...</th>\n",
       "      <th>maintenance2020</th>\n",
       "      <th>cumulative_maintenance</th>\n",
       "      <th>mpg2020</th>\n",
       "      <th>emissions2020</th>\n",
       "      <th>replacementvehicle_id</th>\n",
       "      <th>replacement_vehicle_desc</th>\n",
       "      <th>replacement_vehicle_purchaseprice</th>\n",
       "      <th>replacement_vehicle_mpge</th>\n",
       "      <th>replacement_vehicle_type</th>\n",
       "      <th>current_age</th>\n",
       "    </tr>\n",
       "  </thead>\n",
       "  <tbody>\n",
       "    <tr>\n",
       "      <th>0</th>\n",
       "      <td>0</td>\n",
       "      <td>24399</td>\n",
       "      <td>1999 GMC 3/4 TON PU'</td>\n",
       "      <td>ICE</td>\n",
       "      <td>DPW: Solid Waste Management (Refuse Disposal)</td>\n",
       "      <td>10707603</td>\n",
       "      <td>1999-03-01</td>\n",
       "      <td>23886.0</td>\n",
       "      <td>3000.0</td>\n",
       "      <td>4714</td>\n",
       "      <td>...</td>\n",
       "      <td>3512.53</td>\n",
       "      <td>23036.5</td>\n",
       "      <td>13.0</td>\n",
       "      <td>877.891846</td>\n",
       "      <td>NaN</td>\n",
       "      <td>Ford F 150 XLT Super Crew</td>\n",
       "      <td>39000.0</td>\n",
       "      <td>30.6</td>\n",
       "      <td>HEV</td>\n",
       "      <td>22</td>\n",
       "    </tr>\n",
       "    <tr>\n",
       "      <th>1</th>\n",
       "      <td>1</td>\n",
       "      <td>26142</td>\n",
       "      <td>2002 FORD VAN CARGO'</td>\n",
       "      <td>ICE</td>\n",
       "      <td>Baltimore County Department of Library</td>\n",
       "      <td>BS001-2180</td>\n",
       "      <td>2002-04-09</td>\n",
       "      <td>21913.0</td>\n",
       "      <td>7000.0</td>\n",
       "      <td>3641</td>\n",
       "      <td>...</td>\n",
       "      <td>46.82</td>\n",
       "      <td>6064.33</td>\n",
       "      <td>0.0</td>\n",
       "      <td>NaN</td>\n",
       "      <td>NaN</td>\n",
       "      <td>Ford Transit 350HD Cargo Van</td>\n",
       "      <td>46000.0</td>\n",
       "      <td>66.0</td>\n",
       "      <td>EV</td>\n",
       "      <td>19</td>\n",
       "    </tr>\n",
       "  </tbody>\n",
       "</table>\n",
       "<p>2 rows × 21 columns</p>\n",
       "</div>"
      ],
      "text/plain": [
       "   vehicle_idx  equipmentid    vehicledescription vehicle_type  \\\n",
       "0            0        24399  1999 GMC 3/4 TON PU'          ICE   \n",
       "1            1        26142  2002 FORD VAN CARGO'          ICE   \n",
       "\n",
       "                                       dept_name      deptid purchasedate  \\\n",
       "0  DPW: Solid Waste Management (Refuse Disposal)    10707603   1999-03-01   \n",
       "1         Baltimore County Department of Library  BS001-2180   2002-04-09   \n",
       "\n",
       "   purchaseprice  depreceated value  miles2020  ... maintenance2020  \\\n",
       "0        23886.0             3000.0       4714  ...         3512.53   \n",
       "1        21913.0             7000.0       3641  ...           46.82   \n",
       "\n",
       "  cumulative_maintenance mpg2020  emissions2020  replacementvehicle_id  \\\n",
       "0                23036.5    13.0     877.891846                    NaN   \n",
       "1                6064.33     0.0            NaN                    NaN   \n",
       "\n",
       "       replacement_vehicle_desc replacement_vehicle_purchaseprice  \\\n",
       "0     Ford F 150 XLT Super Crew                           39000.0   \n",
       "1  Ford Transit 350HD Cargo Van                           46000.0   \n",
       "\n",
       "   replacement_vehicle_mpge  replacement_vehicle_type current_age  \n",
       "0                      30.6                       HEV          22  \n",
       "1                      66.0                        EV          19  \n",
       "\n",
       "[2 rows x 21 columns]"
      ]
     },
     "execution_count": 40,
     "metadata": {},
     "output_type": "execute_result"
    }
   ],
   "source": [
    "data"
   ]
  },
  {
   "cell_type": "code",
   "execution_count": 41,
   "metadata": {},
   "outputs": [],
   "source": [
    "mip = MIP(data)"
   ]
  },
  {
   "cell_type": "code",
   "execution_count": 42,
   "metadata": {
    "scrolled": true
   },
   "outputs": [],
   "source": [
    "keepSchedules = mip.make_keep_schedules()"
   ]
  },
  {
   "cell_type": "code",
   "execution_count": 43,
   "metadata": {},
   "outputs": [],
   "source": [
    "age = mip.get_vehicle_age(keepSchedules)#[50:80]"
   ]
  },
  {
   "cell_type": "code",
   "execution_count": 44,
   "metadata": {},
   "outputs": [],
   "source": [
    "annual_mileage = mip.make_mileage()"
   ]
  },
  {
   "cell_type": "code",
   "execution_count": 45,
   "metadata": {},
   "outputs": [],
   "source": [
    "odometer = mip.make_odometer(annual_mileage,age)"
   ]
  },
  {
   "cell_type": "code",
   "execution_count": 46,
   "metadata": {},
   "outputs": [],
   "source": [
    "acquisition = mip.get_acquisition_cost()"
   ]
  },
  {
   "cell_type": "code",
   "execution_count": 47,
   "metadata": {},
   "outputs": [],
   "source": [
    "is_ice,is_ev = mip.get_vehicle_type_trackers()"
   ]
  },
  {
   "cell_type": "code",
   "execution_count": 51,
   "metadata": {},
   "outputs": [
    {
     "ename": "SyntaxError",
     "evalue": "invalid syntax (<ipython-input-51-2373e5fb8a88>, line 1)",
     "output_type": "error",
     "traceback": [
      "\u001b[1;36m  File \u001b[1;32m\"<ipython-input-51-2373e5fb8a88>\"\u001b[1;36m, line \u001b[1;32m1\u001b[0m\n\u001b[1;33m    next vv\u001b[0m\n\u001b[1;37m          ^\u001b[0m\n\u001b[1;31mSyntaxError\u001b[0m\u001b[1;31m:\u001b[0m invalid syntax\n"
     ]
    }
   ],
   "source": [
    "next vv"
   ]
  },
  {
   "cell_type": "code",
   "execution_count": 48,
   "metadata": {},
   "outputs": [],
   "source": [
    "consumables = mip.get_consumables(annual_mileage,is_ice,is_ev)"
   ]
  },
  {
   "cell_type": "code",
   "execution_count": 49,
   "metadata": {},
   "outputs": [],
   "source": [
    "maintenance = mip.get_maintenance_cost(age,annual_mileage,odometer)"
   ]
  },
  {
   "cell_type": "code",
   "execution_count": 50,
   "metadata": {},
   "outputs": [],
   "source": [
    "emissions = mip.get_emissions(annual_mileage,is_ice,is_ev)"
   ]
  },
  {
   "cell_type": "code",
   "execution_count": 38,
   "metadata": {},
   "outputs": [
    {
     "data": {
      "text/plain": [
       "array([[0, 0, 0, 0, 0, 0, 0, 0, 0, 0, 0, 0, 0, 0, 1],\n",
       "       [0, 0, 0, 0, 0, 0, 0, 0, 0, 0, 0, 0, 0, 1, 0],\n",
       "       [0, 0, 0, 0, 0, 0, 0, 0, 0, 0, 0, 0, 1, 0, 0],\n",
       "       [0, 0, 0, 0, 0, 0, 0, 0, 0, 0, 0, 1, 0, 0, 0],\n",
       "       [0, 0, 0, 0, 0, 0, 0, 0, 0, 0, 1, 0, 0, 0, 0],\n",
       "       [0, 0, 0, 0, 0, 0, 0, 0, 0, 1, 0, 0, 0, 0, 0],\n",
       "       [0, 0, 0, 0, 0, 0, 0, 0, 1, 0, 0, 0, 0, 0, 0],\n",
       "       [0, 0, 0, 0, 0, 0, 0, 1, 0, 0, 0, 0, 0, 0, 0],\n",
       "       [0, 0, 0, 0, 0, 0, 1, 0, 0, 0, 0, 0, 0, 0, 0],\n",
       "       [0, 0, 0, 0, 0, 1, 0, 0, 0, 0, 0, 0, 0, 0, 0],\n",
       "       [0, 0, 0, 0, 1, 0, 0, 0, 0, 0, 0, 0, 0, 0, 0],\n",
       "       [1, 0, 0, 0, 0, 0, 0, 0, 0, 0, 0, 0, 0, 0, 0],\n",
       "       [0, 0, 0, 0, 0, 0, 0, 1, 0, 0, 0, 0, 0, 0, 1],\n",
       "       [0, 0, 0, 0, 0, 0, 1, 0, 0, 0, 0, 0, 0, 0, 1],\n",
       "       [0, 0, 0, 0, 0, 0, 1, 0, 0, 0, 0, 0, 0, 1, 0],\n",
       "       ...,\n",
       "       [0, 0, 1, 0, 0, 0, 0, 0, 0, 0, 0, 0, 0, 0, 1],\n",
       "       [0, 0, 1, 0, 0, 0, 0, 0, 0, 0, 0, 0, 0, 1, 0],\n",
       "       [0, 0, 1, 0, 0, 0, 0, 0, 0, 0, 0, 0, 1, 0, 0],\n",
       "       [0, 0, 1, 0, 0, 0, 0, 0, 0, 0, 0, 1, 0, 0, 0],\n",
       "       [0, 0, 1, 0, 0, 0, 0, 0, 0, 0, 1, 0, 0, 0, 0],\n",
       "       [0, 0, 1, 0, 0, 0, 0, 0, 0, 1, 0, 0, 0, 0, 0],\n",
       "       [1, 0, 0, 0, 0, 0, 0, 0, 0, 0, 0, 0, 0, 0, 1],\n",
       "       [1, 0, 0, 0, 0, 0, 0, 0, 0, 0, 0, 0, 0, 1, 0],\n",
       "       [1, 0, 0, 0, 0, 0, 0, 0, 0, 0, 0, 0, 1, 0, 0],\n",
       "       [1, 0, 0, 0, 0, 0, 0, 0, 0, 0, 0, 1, 0, 0, 0],\n",
       "       [1, 0, 0, 0, 0, 0, 0, 0, 0, 0, 1, 0, 0, 0, 0],\n",
       "       [1, 0, 0, 0, 0, 0, 0, 0, 0, 1, 0, 0, 0, 0, 0],\n",
       "       [1, 0, 0, 0, 0, 0, 0, 0, 1, 0, 0, 0, 0, 0, 0],\n",
       "       [1, 0, 0, 0, 0, 0, 0, 1, 0, 0, 0, 0, 0, 0, 0],\n",
       "       [1, 0, 0, 0, 0, 0, 0, 1, 0, 0, 0, 0, 0, 0, 1]])"
      ]
     },
     "execution_count": 38,
     "metadata": {},
     "output_type": "execute_result"
    }
   ],
   "source": [
    "infeasible_filter = mip.find_infeasible_schedules(odometer,age)\n",
    "# mip.replacement_schedules[~infeasible_filter]"
   ]
  },
  {
   "cell_type": "code",
   "execution_count": null,
   "metadata": {},
   "outputs": [],
   "source": []
  },
  {
   "cell_type": "code",
   "execution_count": null,
   "metadata": {},
   "outputs": [],
   "source": [
    "vehicles = [v for v in range(0,num_vehicles)]\n",
    "schedules = [s for s in range(0,num_schedules)]\n",
    "years = [t for t in range(0,num_years)]\n",
    "finalYear = max(years)"
   ]
  },
  {
   "cell_type": "code",
   "execution_count": null,
   "metadata": {
    "scrolled": true
   },
   "outputs": [],
   "source": [
    "c = {}\n",
    "a = {}\n",
    "m = {}\n",
    "e = {}\n",
    "for v in vehicles:\n",
    "    for s in schedules:\n",
    "        if not infeasible_filter[v,s]:\n",
    "            c[v,s] = consumables[v,s]\n",
    "            a[v,s] = acquisition[v,s]\n",
    "            m[v,s] = maintenance[v,s]\n",
    "            e[v,s] = emissions[v,s]"
   ]
  },
  {
   "cell_type": "code",
   "execution_count": null,
   "metadata": {},
   "outputs": [],
   "source": [
    "consumables = c.copy()\n",
    "acquisition = a.copy()\n",
    "maintenance = m.copy()\n",
    "emissions = e.copy()"
   ]
  },
  {
   "cell_type": "code",
   "execution_count": null,
   "metadata": {},
   "outputs": [],
   "source": [
    "#! I think I can pull the code I used in modelinputsgen\n",
    "budget_acquisition = 1300000*np.ones(shape=(15)) \n",
    "budget_operations = 1000000*np.ones(shape=(15))\n",
    "\n",
    "emissions_goal = 40000\n",
    "\n",
    "numDesiredSolutions = 3"
   ]
  },
  {
   "cell_type": "code",
   "execution_count": null,
   "metadata": {},
   "outputs": [],
   "source": [
    "try: \n",
    "    m.reset()\n",
    "    del m    \n",
    "except:\n",
    "    None\n",
    "    \n",
    "m = grb.Model('carnet')"
   ]
  },
  {
   "cell_type": "code",
   "execution_count": null,
   "metadata": {},
   "outputs": [],
   "source": [
    "m.setParam('PoolSearchMode',2) #tell gurobi I want multiple solutions\n",
    "m.setParam('PoolSolutions',numDesiredSolutions) #number of solutions I want\n",
    "m.setParam('TimeLimit',30)"
   ]
  },
  {
   "cell_type": "code",
   "execution_count": null,
   "metadata": {},
   "outputs": [],
   "source": [
    "x = m.addVars(vehicles,schedules,vtype=grb.GRB.BINARY,name='x')\n",
    "penalty_budget = m.addVar(vtype=grb.GRB.CONTINUOUS,name='penalty_budget')\n",
    "penalty_emissions = m.addVar(vtype=grb.GRB.CONTINUOUS,name='penalty_emissions')\n",
    "# y = m.addVars(years,)"
   ]
  },
  {
   "cell_type": "raw",
   "metadata": {},
   "source": [
    "x = m.addMVar((numVehicles,numSchedules),vtype=grb.GRB.BINARY)"
   ]
  },
  {
   "cell_type": "code",
   "execution_count": null,
   "metadata": {},
   "outputs": [],
   "source": [
    "w = {'cost':0.70,'emissions':0.30}"
   ]
  },
  {
   "cell_type": "code",
   "execution_count": null,
   "metadata": {},
   "outputs": [],
   "source": [
    "# total_cost = np.sum(consumables+acquisition+maintenance,axis=2)\n",
    "# total_acquisition_cost = np.sum(acquisition,axis=2)\n",
    "# total_operations_cost = np.sum(consumables+maintenance,axis=2)"
   ]
  },
  {
   "cell_type": "raw",
   "metadata": {},
   "source": [
    "x = np.array(list(x.items()))"
   ]
  },
  {
   "cell_type": "code",
   "execution_count": null,
   "metadata": {},
   "outputs": [],
   "source": [
    "validSchedules = list(consumables.keys())"
   ]
  },
  {
   "cell_type": "code",
   "execution_count": null,
   "metadata": {},
   "outputs": [],
   "source": [
    "obj = m.setObjective(grb.quicksum(w['cost']*consumables[v,s][t]*x[v,s] for v,s in validSchedules for t in years) + \n",
    "                     grb.quicksum(w['emissions']*emissions[v,s][finalYear]*x[v,s] for v,s in validSchedules) +\n",
    "                     1000000*(penalty_budget+penalty_emissions),grb.GRB.MINIMIZE)\n",
    "# obj = m.setObjective(grb.quicksum(w['cost']*(consumables[v,s,t]+acquisition[v,s,t]+maintenance[v,s,t])*x[v,s] + \n",
    "#                                   w['emissions']*emissions[v,s,finalYear]*x[v,s] for v in vehicles for s in schedules for t in years),grb.GRB.MINIMIZE)"
   ]
  },
  {
   "cell_type": "raw",
   "metadata": {},
   "source": [
    "obj = m.setObjective(grb.quicksum(w['cost']*total_cost[v,s]*x[v,s] for v in vehicles for s in schedules) + \n",
    "                     grb.quicksum(w['emissions']*emissions[v,s,finalYear]*x[v,s] for v in vehicles for s in schedules) +\n",
    "                     1000000*(penalty_budget+penalty_emissions),grb.GRB.MINIMIZE)\n",
    "# obj = m.setObjective(grb.quicksum(w['cost']*(consumables[v,s,t]+acquisition[v,s,t]+maintenance[v,s,t])*x[v,s] + \n",
    "#                                   w['emissions']*emissions[v,s,finalYear]*x[v,s] for v in vehicles for s in schedules for t in years),grb.GRB.MINIMIZE)"
   ]
  },
  {
   "cell_type": "code",
   "execution_count": null,
   "metadata": {},
   "outputs": [],
   "source": [
    "import pandas as pd\n",
    "validSchedulesPerVehicle = pd.DataFrame(validSchedules).groupby(0)[1].unique().to_dict()"
   ]
  },
  {
   "cell_type": "code",
   "execution_count": null,
   "metadata": {},
   "outputs": [],
   "source": [
    "c1 = m.addConstrs((grb.quicksum(x[v,s] for s in validSchedulesPerVehicle[v])==1 for v in vehicles),'one_schedule_per_vehicle')"
   ]
  },
  {
   "cell_type": "code",
   "execution_count": null,
   "metadata": {},
   "outputs": [],
   "source": [
    "c2 = m.addConstrs((grb.quicksum((consumables[v,s][t]+maintenance[v,s][t])*x[v,s] for v,s in validSchedules) <= budget_operations[t]+penalty_budget for t in years),'operations_budget')\n",
    "c3 = m.addConstrs((grb.quicksum(acquisition[v,s][t]*x[v,s] for v,s in validSchedules) <= budget_operations[t]+penalty_budget for t in years),'acquisition_budget')"
   ]
  },
  {
   "cell_type": "code",
   "execution_count": null,
   "metadata": {},
   "outputs": [],
   "source": [
    "c4 = m.addConstr((grb.quicksum(emissions[v,s][finalYear]*x[v,s] for v,s in validSchedules) <= emissions_goal+penalty_emissions),'emissions_goal')"
   ]
  },
  {
   "cell_type": "code",
   "execution_count": null,
   "metadata": {},
   "outputs": [],
   "source": [
    "# c5 = m.addConstrs((infeasible_filter[v,s]*x[v,s] <= 0 for v in vehicles for s in schedules),'infeasible_schedules')"
   ]
  },
  {
   "cell_type": "raw",
   "metadata": {},
   "source": [
    "c1 = m.addConstrs((grb.quicksum(x[v,s] for s in schedules)==1 for v in vehicles),'one_schedule_per_vehicle')\n",
    "\n",
    "c2 = m.addConstrs((grb.quicksum((consumables[v,s,t]+maintenance[v,s,t])*x[v,s] for v in vehicles \n",
    "                                for s in schedules) <= budget_operations[t]+penalty_budget for t in years),'operations_budget')\n",
    "c3 = m.addConstrs((grb.quicksum(acquisition[v,s,t]*x[v,s] for v in vehicles for s in schedules) <= budget_operations[t]+penalty_budget for t in years),'acquisition_budget')\n",
    "\n",
    "c4 = m.addConstr((grb.quicksum(emissions[v,s,finalYear]*x[v,s] for v in vehicles for s in schedules) <= emissions_goal+penalty_emissions),'emissions_goal')\n",
    "\n",
    "# c5 = m.addConstrs((infeasible_filter[v,s]*x[v,s] <= 0 for v in vehicles for s in schedules),'infeasible_schedules')"
   ]
  },
  {
   "cell_type": "code",
   "execution_count": null,
   "metadata": {},
   "outputs": [],
   "source": [
    "m.optimize()"
   ]
  },
  {
   "cell_type": "raw",
   "metadata": {},
   "source": [
    "m.computeIIS()\n",
    "m.write(\"model.ilp\")"
   ]
  },
  {
   "cell_type": "code",
   "execution_count": null,
   "metadata": {},
   "outputs": [],
   "source": [
    "end = time.time()\n",
    "print(\"--- %s seconds ---\" % (time.time() - start))\n"
   ]
  },
  {
   "cell_type": "code",
   "execution_count": null,
   "metadata": {
    "scrolled": true
   },
   "outputs": [],
   "source": [
    "#multiple solutions\n",
    "solution = []\n",
    "options = ['A','B','C']\n",
    "for solution in range(0,299):\n",
    "    print()\n",
    "    print(solution)\n",
    "#     print(f'Option: {options[solution]}')\n",
    "    m.setParam('SolutionNumber',solution)\n",
    "    for v in vehicles:\n",
    "        for s in schedules:\n",
    "            if x[v,s].xn==1:\n",
    "                print(f'   Vehicle: {v+1} Schedule: {s} {replacementSchedules[v,s]}')     "
   ]
  },
  {
   "cell_type": "code",
   "execution_count": null,
   "metadata": {},
   "outputs": [],
   "source": [
    "print(f'age: {age[0,29]}')\n",
    "print()\n",
    "print(f'annual_mileage: {annual_mileage[0,29]}')\n",
    "print()\n",
    "print(f'odometer: {odometer[0,29]}')\n",
    "print()\n",
    "print(f'acquisition cost: {acquisition[0,29]}')\n",
    "print()\n",
    "print(f'maintenance cost: {maintenance[0,29]}')\n",
    "print()\n",
    "print(f'consumables cost: {consumables[0,29]}')\n",
    "print()\n",
    "print(f'emissions: {emissions[0,29]}')"
   ]
  }
 ],
 "metadata": {
  "kernelspec": {
   "display_name": "Python 3",
   "language": "python",
   "name": "python3"
  },
  "language_info": {
   "codemirror_mode": {
    "name": "ipython",
    "version": 3
   },
   "file_extension": ".py",
   "mimetype": "text/x-python",
   "name": "python",
   "nbconvert_exporter": "python",
   "pygments_lexer": "ipython3",
   "version": "3.7.9"
  }
 },
 "nbformat": 4,
 "nbformat_minor": 4
}
