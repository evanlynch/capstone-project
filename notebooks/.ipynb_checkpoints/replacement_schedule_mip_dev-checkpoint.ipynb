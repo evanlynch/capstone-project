{
 "cells": [
  {
   "cell_type": "code",
   "execution_count": 1,
   "metadata": {},
   "outputs": [],
   "source": [
    "import numpy as np\n",
    "from sympy.utilities.iterables import multiset_permutations\n",
    "import time\n",
    "import pandas as pd\n",
    "import gurobipy as grb\n",
    "import datetime\n",
    "import random\n",
    "np.set_printoptions(edgeitems=15,linewidth=600)\n",
    "\n",
    "%load_ext autoreload\n",
    "%autoreload 2\n",
    "import sys\n",
    "import os\n",
    "sys.path.append(os.path.join(os.getcwd(), '..'))\n",
    "from src.optimization.mip_model import *"
   ]
  },
  {
   "cell_type": "code",
   "execution_count": 2,
   "metadata": {},
   "outputs": [],
   "source": [
    "start = time.time()"
   ]
  },
  {
   "cell_type": "code",
   "execution_count": 3,
   "metadata": {},
   "outputs": [],
   "source": [
    "data = pd.read_excel('../data/data_template_blank.xlsx').sample(3)\n",
    "data['current_age'] = datetime.datetime.now().year - pd.to_datetime(data.purchasedate).dt.year\n",
    "data = data.reset_index().rename({\"index\":\"vehicle_idx\"},axis=1)"
   ]
  },
  {
   "cell_type": "code",
   "execution_count": 4,
   "metadata": {},
   "outputs": [],
   "source": [
    "mip = MIP(data,UI_params)"
   ]
  },
  {
   "cell_type": "code",
   "execution_count": 5,
   "metadata": {
    "scrolled": true
   },
   "outputs": [],
   "source": [
    "keepSchedules = mip.make_keep_schedules()"
   ]
  },
  {
   "cell_type": "code",
   "execution_count": 6,
   "metadata": {},
   "outputs": [],
   "source": [
    "age = mip.get_vehicle_age(keepSchedules)#[50:80]"
   ]
  },
  {
   "cell_type": "code",
   "execution_count": 7,
   "metadata": {},
   "outputs": [],
   "source": [
    "annual_mileage = mip.make_mileage()"
   ]
  },
  {
   "cell_type": "code",
   "execution_count": 8,
   "metadata": {},
   "outputs": [],
   "source": [
    "odometer = mip.make_odometer(annual_mileage,age)"
   ]
  },
  {
   "cell_type": "code",
   "execution_count": 9,
   "metadata": {},
   "outputs": [],
   "source": [
    "acquisition = mip.get_acquisition_cost()"
   ]
  },
  {
   "cell_type": "code",
   "execution_count": 10,
   "metadata": {},
   "outputs": [],
   "source": [
    "is_ice,is_ev = mip.get_vehicle_type_trackers()"
   ]
  },
  {
   "cell_type": "code",
   "execution_count": 11,
   "metadata": {},
   "outputs": [],
   "source": [
    "consumables = mip.get_consumables(annual_mileage,is_ice,is_ev)"
   ]
  },
  {
   "cell_type": "code",
   "execution_count": 12,
   "metadata": {},
   "outputs": [],
   "source": [
    "emissions = mip.get_emissions(annual_mileage,is_ice,is_ev)"
   ]
  },
  {
   "cell_type": "code",
   "execution_count": 13,
   "metadata": {},
   "outputs": [],
   "source": [
    "maintenance = mip.get_maintenance_cost(odometer)"
   ]
  },
  {
   "cell_type": "code",
   "execution_count": 14,
   "metadata": {},
   "outputs": [],
   "source": [
    "infeasible_filter = mip.find_infeasible_schedules(odometer,age)\n",
    "# mip.replacement_schedules[~infeasible_filter]"
   ]
  },
  {
   "cell_type": "code",
   "execution_count": 15,
   "metadata": {},
   "outputs": [
    {
     "name": "stdout",
     "output_type": "stream",
     "text": [
      "Using license file C:\\Users\\elynch\\gurobi.lic\n",
      "Academic license - for non-commercial use only\n",
      "Changed value of parameter PoolSearchMode to 2\n",
      "   Prev: 0  Min: 0  Max: 2  Default: 0\n",
      "Changed value of parameter PoolSolutions to 3\n",
      "   Prev: 10  Min: 1  Max: 2000000000  Default: 10\n",
      "Changed value of parameter TimeLimit to 30.0\n",
      "   Prev: inf  Min: 0.0  Max: inf  Default: inf\n",
      "Gurobi Optimizer version 9.0.3 build v9.0.3rc0 (win64)\n",
      "Optimize a model with 34 rows, 203 columns and 3642 nonzeros\n",
      "Model fingerprint: 0xdf57328d\n",
      "Variable types: 2 continuous, 201 integer (201 binary)\n",
      "Coefficient statistics:\n",
      "  Matrix range     [1e+00, 5e+04]\n",
      "  Objective range  [2e+03, 1e+06]\n",
      "  Bounds range     [1e+00, 1e+00]\n",
      "  RHS range        [1e+00, 1e+06]\n",
      "Found heuristic solution: objective 52028.200000\n",
      "Presolve removed 31 rows and 0 columns\n",
      "Presolve time: 0.00s\n",
      "Presolved: 3 rows, 203 columns, 201 nonzeros\n",
      "Variable types: 2 continuous, 201 integer (201 binary)\n",
      "Found heuristic solution: objective 48139.000000\n",
      "\n",
      "Root relaxation: objective 4.813900e+04, 3 iterations, 0.00 seconds\n",
      "\n",
      "    Nodes    |    Current Node    |     Objective Bounds      |     Work\n",
      " Expl Unexpl |  Obj  Depth IntInf | Incumbent    BestBd   Gap | It/Node Time\n",
      "\n",
      "     0     0          -    0      48139.0000 48139.0000  0.00%     -    0s\n",
      "\n",
      "Optimal solution found at node 0 - now completing solution pool...\n",
      "\n",
      "    Nodes    |    Current Node    |      Pool Obj. Bounds     |     Work\n",
      "             |                    |   Worst                   |\n",
      " Expl Unexpl |  Obj  Depth IntInf | Incumbent    BestBd   Gap | It/Node Time\n",
      "\n",
      "     0     0          -    0      52028.2000 48139.0000  7.48%     -    0s\n",
      "     0     0          -    0      52028.2000 48139.0000  7.48%     -    0s\n",
      "     0     2          -    0      52028.2000 48139.0000  7.48%     -    0s\n",
      "\n",
      "Explored 35 nodes (4 simplex iterations) in 0.02 seconds\n",
      "Thread count was 12 (of 12 available processors)\n",
      "\n",
      "Solution count 3: 48139 48139 48139 \n",
      "\n",
      "Optimal solution found (tolerance 1.00e-04)\n",
      "Best objective 4.813900000000e+04, best bound 4.813900000000e+04, gap 0.0000%\n"
     ]
    }
   ],
   "source": [
    "m,x,vehicles,validSchedulesPerVehicle = mip.make_model(consumables,acquisition,maintenance,emissions,infeasible_filter)"
   ]
  },
  {
   "cell_type": "code",
   "execution_count": 16,
   "metadata": {},
   "outputs": [
    {
     "name": "stdout",
     "output_type": "stream",
     "text": [
      "--- 2.273496627807617 seconds ---\n"
     ]
    }
   ],
   "source": [
    "end = time.time()\n",
    "print(\"--- %s seconds ---\" % (time.time() - start))\n"
   ]
  },
  {
   "cell_type": "code",
   "execution_count": 23,
   "metadata": {},
   "outputs": [
    {
     "name": "stdout",
     "output_type": "stream",
     "text": [
      "\n",
      "Option: 0\n",
      "obj:48139.0\n",
      "   Vehicle: 1 Schedule: 505 [1 0 0 0 0 0 0 1 0 0 0 0 0 0 1]\n",
      "   Vehicle: 2 Schedule: 524 [1 0 0 0 0 1 0 0 0 0 1 0 0 0 0]\n",
      "   Vehicle: 3 Schedule: 505 [1 0 0 0 0 0 0 1 0 0 0 0 0 0 1]\n",
      "\n",
      "Option: 1\n",
      "obj:48139.0\n",
      "   Vehicle: 1 Schedule: 14 [1 0 0 0 0 0 0 0 0 0 0 0 0 0 0]\n",
      "   Vehicle: 2 Schedule: 14 [1 0 0 0 0 0 0 0 0 0 0 0 0 0 0]\n",
      "   Vehicle: 3 Schedule: 14 [1 0 0 0 0 0 0 0 0 0 0 0 0 0 0]\n",
      "\n",
      "Option: 2\n",
      "obj:48139.0\n",
      "   Vehicle: 1 Schedule: 106 [1 0 0 0 0 0 0 0 0 0 0 0 0 0 1]\n",
      "   Vehicle: 2 Schedule: 14 [1 0 0 0 0 0 0 0 0 0 0 0 0 0 0]\n",
      "   Vehicle: 3 Schedule: 14 [1 0 0 0 0 0 0 0 0 0 0 0 0 0 0]\n"
     ]
    }
   ],
   "source": [
    "#multiple solutions\n",
    "options = {}\n",
    "# options = ['A','B','C']\n",
    "for sol in range(0,mip.numDesiredSolutions):\n",
    "    solution = []\n",
    "    print()\n",
    "    print(f'Option: {sol}')\n",
    "    m.setParam('SolutionNumber',sol)\n",
    "    print(f'obj:{m.getObjective().getValue()}')\n",
    "    \n",
    "    for v in vehicles:\n",
    "        for s in validSchedulesPerVehicle[v]:\n",
    "            if x[v,s].xn==1:\n",
    "                print(f'   Vehicle: {v+1} Schedule: {s} {mip.replacement_schedules[v,s]}')  \n",
    "                solution.append([v]+[s]+list(mip.replacement_schedules[v,s]))\n",
    "    "
   ]
  },
  {
   "cell_type": "code",
   "execution_count": 26,
   "metadata": {},
   "outputs": [
    {
     "ename": "NameError",
     "evalue": "name 'years' is not defined",
     "output_type": "error",
     "traceback": [
      "\u001b[1;31m---------------------------------------------------------------------------\u001b[0m",
      "\u001b[1;31mNameError\u001b[0m                                 Traceback (most recent call last)",
      "\u001b[1;32m<ipython-input-26-e1775723e48f>\u001b[0m in \u001b[0;36m<module>\u001b[1;34m\u001b[0m\n\u001b[1;32m----> 1\u001b[1;33m \u001b[0myears\u001b[0m\u001b[1;33m\u001b[0m\u001b[1;33m\u001b[0m\u001b[0m\n\u001b[0m",
      "\u001b[1;31mNameError\u001b[0m: name 'years' is not defined"
     ]
    }
   ],
   "source": [
    "years = []"
   ]
  },
  {
   "cell_type": "code",
   "execution_count": 25,
   "metadata": {},
   "outputs": [
    {
     "data": {
      "text/html": [
       "<div>\n",
       "<style scoped>\n",
       "    .dataframe tbody tr th:only-of-type {\n",
       "        vertical-align: middle;\n",
       "    }\n",
       "\n",
       "    .dataframe tbody tr th {\n",
       "        vertical-align: top;\n",
       "    }\n",
       "\n",
       "    .dataframe thead th {\n",
       "        text-align: right;\n",
       "    }\n",
       "</style>\n",
       "<table border=\"1\" class=\"dataframe\">\n",
       "  <thead>\n",
       "    <tr style=\"text-align: right;\">\n",
       "      <th></th>\n",
       "      <th>0</th>\n",
       "      <th>1</th>\n",
       "      <th>2</th>\n",
       "      <th>3</th>\n",
       "      <th>4</th>\n",
       "      <th>5</th>\n",
       "      <th>6</th>\n",
       "      <th>7</th>\n",
       "      <th>8</th>\n",
       "      <th>9</th>\n",
       "      <th>10</th>\n",
       "      <th>11</th>\n",
       "      <th>12</th>\n",
       "      <th>13</th>\n",
       "      <th>14</th>\n",
       "      <th>15</th>\n",
       "      <th>16</th>\n",
       "    </tr>\n",
       "  </thead>\n",
       "  <tbody>\n",
       "    <tr>\n",
       "      <th>0</th>\n",
       "      <td>0</td>\n",
       "      <td>106</td>\n",
       "      <td>1</td>\n",
       "      <td>0</td>\n",
       "      <td>0</td>\n",
       "      <td>0</td>\n",
       "      <td>0</td>\n",
       "      <td>0</td>\n",
       "      <td>0</td>\n",
       "      <td>0</td>\n",
       "      <td>0</td>\n",
       "      <td>0</td>\n",
       "      <td>0</td>\n",
       "      <td>0</td>\n",
       "      <td>0</td>\n",
       "      <td>0</td>\n",
       "      <td>1</td>\n",
       "    </tr>\n",
       "    <tr>\n",
       "      <th>1</th>\n",
       "      <td>1</td>\n",
       "      <td>14</td>\n",
       "      <td>1</td>\n",
       "      <td>0</td>\n",
       "      <td>0</td>\n",
       "      <td>0</td>\n",
       "      <td>0</td>\n",
       "      <td>0</td>\n",
       "      <td>0</td>\n",
       "      <td>0</td>\n",
       "      <td>0</td>\n",
       "      <td>0</td>\n",
       "      <td>0</td>\n",
       "      <td>0</td>\n",
       "      <td>0</td>\n",
       "      <td>0</td>\n",
       "      <td>0</td>\n",
       "    </tr>\n",
       "    <tr>\n",
       "      <th>2</th>\n",
       "      <td>2</td>\n",
       "      <td>14</td>\n",
       "      <td>1</td>\n",
       "      <td>0</td>\n",
       "      <td>0</td>\n",
       "      <td>0</td>\n",
       "      <td>0</td>\n",
       "      <td>0</td>\n",
       "      <td>0</td>\n",
       "      <td>0</td>\n",
       "      <td>0</td>\n",
       "      <td>0</td>\n",
       "      <td>0</td>\n",
       "      <td>0</td>\n",
       "      <td>0</td>\n",
       "      <td>0</td>\n",
       "      <td>0</td>\n",
       "    </tr>\n",
       "  </tbody>\n",
       "</table>\n",
       "</div>"
      ],
      "text/plain": [
       "   0    1   2   3   4   5   6   7   8   9   10  11  12  13  14  15  16\n",
       "0   0  106   1   0   0   0   0   0   0   0   0   0   0   0   0   0   1\n",
       "1   1   14   1   0   0   0   0   0   0   0   0   0   0   0   0   0   0\n",
       "2   2   14   1   0   0   0   0   0   0   0   0   0   0   0   0   0   0"
      ]
     },
     "execution_count": 25,
     "metadata": {},
     "output_type": "execute_result"
    }
   ],
   "source": [
    "pd.DataFrame(solution,columns=['vehicle_idx','solution_idx'])"
   ]
  },
  {
   "cell_type": "code",
   "execution_count": 22,
   "metadata": {},
   "outputs": [
    {
     "data": {
      "text/plain": [
       "array([1, 0, 0, 0, 0, 0, 0, 1, 0, 0, 0, 0, 0, 0, 1])"
      ]
     },
     "execution_count": 22,
     "metadata": {},
     "output_type": "execute_result"
    }
   ],
   "source": [
    "mip.replacement_schedules[v,s]"
   ]
  },
  {
   "cell_type": "code",
   "execution_count": 18,
   "metadata": {},
   "outputs": [
    {
     "name": "stdout",
     "output_type": "stream",
     "text": [
      "age: [ 5  6  7  8  9 10 11 12 13  0  0  1  2  3  4]\n",
      "\n",
      "annual_mileage: [ 9377.  9571. 10284.  9035.  8208.  9728.  8410.  9132.  7300.  8035. 10828.  8205.  8641.  8677.  9342.]\n",
      "\n",
      "odometer: [ 46885.  57426.  71988.  72280.  73872.  97280.  92510. 109584.  94900.      0.      0.   8205.  17282.  26031.  37368.]\n",
      "\n",
      "acquisition cost: [    0.     0.     0.     0.     0.     0.     0.     0.     0. 36000. 36000.     0.     0.     0.     0.]\n",
      "\n",
      "maintenance cost: [1200. 1200. 1200. 1200. 1200. 1200. 1200. 1200. 1200. 1000. 1000. 1000. 1200. 1200. 1200.]\n",
      "\n",
      "consumables cost: [1160. 1184. 1272. 1117. 1015. 1203. 1040. 1129.  903.  183.  247.  187.  197.  198.  213.]\n",
      "\n",
      "emissions: [1195. 1220. 1310. 1151. 1046. 1240. 1072. 1164.  930.    0.    0.    0.    0.    0.    0.]\n"
     ]
    }
   ],
   "source": [
    "print(f'age: {age[0,29]}')\n",
    "print()\n",
    "print(f'annual_mileage: {annual_mileage[0,29]}')\n",
    "print()\n",
    "print(f'odometer: {odometer[0,29]}')\n",
    "print()\n",
    "print(f'acquisition cost: {acquisition[0,29]}')\n",
    "print()\n",
    "print(f'maintenance cost: {maintenance[0,29]}')\n",
    "print()\n",
    "print(f'consumables cost: {consumables[0,29]}')\n",
    "print()\n",
    "print(f'emissions: {emissions[0,29]}')"
   ]
  }
 ],
 "metadata": {
  "kernelspec": {
   "display_name": "Python 3",
   "language": "python",
   "name": "python3"
  },
  "language_info": {
   "codemirror_mode": {
    "name": "ipython",
    "version": 3
   },
   "file_extension": ".py",
   "mimetype": "text/x-python",
   "name": "python",
   "nbconvert_exporter": "python",
   "pygments_lexer": "ipython3",
   "version": "3.7.9"
  }
 },
 "nbformat": 4,
 "nbformat_minor": 4
}
