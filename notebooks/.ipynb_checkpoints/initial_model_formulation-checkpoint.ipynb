{
 "cells": [
  {
   "cell_type": "markdown",
   "metadata": {},
   "source": [
    "# Data"
   ]
  },
  {
   "cell_type": "markdown",
   "metadata": {},
   "source": [
    "$V: $ Set of all vehicles (make/model)"
   ]
  },
  {
   "cell_type": "markdown",
   "metadata": {},
   "source": [
    "$V': $ Set of all ICE vehicles (make/model)"
   ]
  },
  {
   "cell_type": "markdown",
   "metadata": {},
   "source": [
    "$V'': $ Set of all EVs (make/model)"
   ]
  },
  {
   "cell_type": "markdown",
   "metadata": {},
   "source": [
    "$D: $ Set of all departments"
   ]
  },
  {
   "cell_type": "markdown",
   "metadata": {},
   "source": [
    "$T: $ Set of all years in the planning horizon"
   ]
  },
  {
   "cell_type": "markdown",
   "metadata": {},
   "source": [
    "$I: $ starting inventory of all vehicles in each dpt  $\\it (v,d)$"
   ]
  },
  {
   "cell_type": "markdown",
   "metadata": {},
   "source": [
    "$C: $ Annualized consumables cost for each vehicle type in each dpt in each year  $\\it (v,d,t)$"
   ]
  },
  {
   "cell_type": "markdown",
   "metadata": {},
   "source": [
    "$M: $ Annualized maintenance cost for each vehicle type in each dpt in each year  $\\it (v,d,t)$"
   ]
  },
  {
   "cell_type": "markdown",
   "metadata": {},
   "source": [
    "$P: $ Procurement cost for each vehicle type in each year  $\\it (v,t)$"
   ]
  },
  {
   "cell_type": "markdown",
   "metadata": {},
   "source": [
    "$M^s: $ Maintenance cost for a charging station in each year  $\\it (t)$"
   ]
  },
  {
   "cell_type": "markdown",
   "metadata": {},
   "source": [
    "$P^s: $ Procurement cost for a charging station in each year  $\\it (t)$"
   ]
  },
  {
   "cell_type": "markdown",
   "metadata": {},
   "source": [
    "$VMT: $ Vehicle Miles Traveled for each vehicle type in each dpt in each year $\\it (v,d,t)$"
   ]
  },
  {
   "cell_type": "markdown",
   "metadata": {},
   "source": [
    "$MPG: $ MPG for each vehicle type $\\it (v)$"
   ]
  },
  {
   "cell_type": "markdown",
   "metadata": {},
   "source": [
    "$E: $ Emissions output of each vehicle type in each dpt in each year $\\it (v,d,t)$"
   ]
  },
  {
   "cell_type": "markdown",
   "metadata": {},
   "source": [
    "$N: $ Number of vehicles that must remain on hand in each dpt in each year (because they do not yet ave enough mileage on them to be replaced. $\\it (v,d,t)$"
   ]
  },
  {
   "cell_type": "markdown",
   "metadata": {},
   "source": [
    "$Q: $ Target emissions number in final year (based on % of baseline) "
   ]
  },
  {
   "cell_type": "markdown",
   "metadata": {},
   "source": [
    "$B: $ Total budget in each year $ \\it (t) $"
   ]
  },
  {
   "cell_type": "markdown",
   "metadata": {},
   "source": [
    "$G: $  Maximum number of vehicles that a single charging station can support"
   ]
  },
  {
   "cell_type": "markdown",
   "metadata": {},
   "source": [
    "$R: $  Whether or not a given EV is a suitable replacement for a given EV $ \\it (v',v'') $"
   ]
  },
  {
   "cell_type": "markdown",
   "metadata": {},
   "source": [
    "$w_c: $ Weight to apply to the min cost objective "
   ]
  },
  {
   "cell_type": "markdown",
   "metadata": {},
   "source": [
    "$w_e: $ Weight to apply to the min emissions objective "
   ]
  },
  {
   "cell_type": "markdown",
   "metadata": {},
   "source": [
    "# Decision Variables"
   ]
  },
  {
   "cell_type": "markdown",
   "metadata": {},
   "source": [
    "$ x_{vdt} :$ (Integer) number of vehicles of type v to have on hand in dpt d in year t (both ICE and EV)"
   ]
  },
  {
   "cell_type": "markdown",
   "metadata": {},
   "source": [
    "$ y_{vdt} :$ (Integer) number of vehicles of type v to purchase in dpt d in year t (both ICE and EV)"
   ]
  },
  {
   "cell_type": "markdown",
   "metadata": {},
   "source": [
    "$ z_{t} :$ (Integer) number of charging stations to have in operation in year t "
   ]
  },
  {
   "cell_type": "markdown",
   "metadata": {},
   "source": [
    "$s_{t} :$ (Integer) number of charging stations to build in year t "
   ]
  },
  {
   "cell_type": "markdown",
   "metadata": {},
   "source": [
    "$P^b :$ Penalty for going over budget in any year $ \\it (t) $"
   ]
  },
  {
   "cell_type": "markdown",
   "metadata": {},
   "source": [
    "$P^e :$ Penalty for not meeting the emissions target in the final year  $ \\it (t) $"
   ]
  },
  {
   "cell_type": "markdown",
   "metadata": {},
   "source": [
    "# Objective "
   ]
  },
  {
   "cell_type": "markdown",
   "metadata": {},
   "source": [
    "##### Minimize both total cost and emissions \n",
    "$ \\,Minimize: \\,w^c(\\displaystyle\\sum_{v \\in V} \\displaystyle\\sum_{d \\in D} \\displaystyle\\sum_{t \\in T} (C_{vdt}+M_{vdt})x_{vdt} + P_{vdt}y_{vdt} + \\displaystyle\\sum_{t \\in T} M^s_tz_t + P^s_ts_t) + w^e\\displaystyle\\sum_{v \\in V} \\displaystyle\\sum_{d \\in D} \\displaystyle\\sum_{t \\in T} E_{vdt}x_{vdt} + 10000\\displaystyle\\sum_{t \\in T} (P^b_{t}+P^e_{vdt})x_{vdt}$ "
   ]
  },
  {
   "cell_type": "markdown",
   "metadata": {},
   "source": [
    "#### Subject to Constraints"
   ]
  },
  {
   "cell_type": "markdown",
   "metadata": {},
   "source": [
    "$ \\displaystyle\\sum_{i \\in I} V_jX_{ij} \\geq Z_j\\delta-\\alpha_j \\,\\,\\,\\,\\, \\forall j \\in A$"
   ]
  },
  {
   "cell_type": "markdown",
   "metadata": {},
   "source": [
    "<i>For any associate in the set of associates that are calculated as needed in that area and hour, the sum of volume going to the doors that associate is assigned must be greater than or equal to the goal productivity, minus the underachievement.</i>"
   ]
  },
  {
   "cell_type": "markdown",
   "metadata": {},
   "source": [
    "$ \\displaystyle\\sum_{i \\in I} X_{ij} = 1 \\,\\,\\,\\,\\, \\forall i \\in I$"
   ]
  },
  {
   "cell_type": "markdown",
   "metadata": {},
   "source": [
    "<i>Ensure that a door is assigned to one associate and only one. </i>"
   ]
  },
  {
   "cell_type": "markdown",
   "metadata": {},
   "source": [
    "$  X_{i2j} \\geq X_{i1j}+X_{i3j}-1 \\,\\,\\,\\,\\, \\forall j \\in A; i1,i2,i3 \\in I:i1<i2<i3$"
   ]
  },
  {
   "cell_type": "markdown",
   "metadata": {},
   "source": [
    "<i>Ensure that associates are only assigned to doors that are adjacent to each other. If a door has a volume of zero, it will skip the consideration of assigning an associate to that door, and thus the next adjacent door can be assigned. </i>"
   ]
  },
  {
   "cell_type": "markdown",
   "metadata": {},
   "source": [
    "$  X_{ij} \\leq Z_j \\,\\,\\,\\,\\, \\forall j \\in A , i \\in I$"
   ]
  },
  {
   "cell_type": "markdown",
   "metadata": {},
   "source": [
    "<i>If a door is assigned an associate, that associate must be considered as used. </i>"
   ]
  },
  {
   "cell_type": "markdown",
   "metadata": {},
   "source": [
    "$ \\displaystyle\\sum_{i \\in I} X_{ij} \\geq Z_j \\,\\,\\,\\,\\, \\forall j \\in A$"
   ]
  },
  {
   "cell_type": "markdown",
   "metadata": {},
   "source": [
    "<i>If an associate is to be used, they must be assigned to at least one door. </i>"
   ]
  },
  {
   "cell_type": "markdown",
   "metadata": {},
   "source": [
    "$ \\displaystyle\\sum_{j \\in A} Z_{j} \\geq A-1 $"
   ]
  },
  {
   "cell_type": "markdown",
   "metadata": {},
   "source": [
    "<i>The number of associates that are calculated as needed in the area and hour must be used, minus one associate if it is feasible. </i>"
   ]
  },
  {
   "cell_type": "markdown",
   "metadata": {},
   "source": [
    "$ \\displaystyle\\sum_{i \\in I} V_jX_{ij} \\leq \\lambda  \\,\\,\\,\\,\\, \\forall j \\in A$"
   ]
  },
  {
   "cell_type": "markdown",
   "metadata": {},
   "source": [
    "<i>Ensure that the volume assigned to an associate across doors to not exceed a certain number of cartons.</i>"
   ]
  },
  {
   "cell_type": "markdown",
   "metadata": {},
   "source": [
    "$ \\displaystyle\\sum_{i \\in I} X_{ij} \\leq \\beta  \\,\\,\\,\\,\\, \\forall j \\in A$"
   ]
  },
  {
   "cell_type": "markdown",
   "metadata": {},
   "source": [
    "<i>Ensure that the number of doors an associate is assigned never exceeds a certain limit.</i>"
   ]
  },
  {
   "cell_type": "markdown",
   "metadata": {},
   "source": [
    "## Inputs"
   ]
  },
  {
   "cell_type": "code",
   "execution_count": 21,
   "metadata": {},
   "outputs": [],
   "source": [
    "#set the number of hours to solve for\n",
    "numhours = 1\n",
    "\n",
    "#set the number of loading docks in the facility\n",
    "numdoors = 100\n",
    "\n",
    "#create ranges for hours and doors\n",
    "hours = range(1,numhours+1)\n",
    "doors = range(1,numdoors+1)\n",
    "\n",
    "#set how many areas in the facility \n",
    "numareas = 4\n",
    "\n",
    "#set goal load per associate for each area\n",
    "areas, goal = multidict({\n",
    "    1: 200,\n",
    "    2: 200, \n",
    "    3: 150,\n",
    "    4: 150\n",
    "    })\n",
    "\n",
    "#set the last door in each area\n",
    "areas, lastDoorInArea = multidict({\n",
    "    1: 25,\n",
    "    2: 50,\n",
    "    3: 75,\n",
    "    4: 100\n",
    "    }) \n",
    "\n",
    "#create the sets of doors that make up each area\n",
    "areaDoors = {}\n",
    "for area in areas:\n",
    "    if area == 1:\n",
    "        areaDoors[area] = range(1,lastDoorInArea[area]+1)\n",
    "    else: \n",
    "        areaDoors[area] = range(lastDoorInArea[area-1]+1,lastDoorInArea[area]+1)\n",
    "\n",
    "#set the limit of load size for any given associate\n",
    "loadLimit = 300\n",
    "\n",
    "#set the limit on the number of lines any given associate can be assigned\n",
    "lineLimit = 8\n",
    "\n",
    "#initialize sets for solutions, assignments and numassociates\n",
    "solutions = {}\n",
    "assignments = {}\n",
    "numassociates = {}\n",
    "\n",
    "\n",
    "#pull in volume matrix\n",
    "volData = pd.read_csv('Distribute/volData8.csv',header=None)\n",
    "Vol = pd.DataFrame(volData,index=doors,columns=hours)\n",
    "#create subsets of volume by area of the facility, such that you have a volume for any given area,door,hour combination\n",
    "areaAreaDoorHour, Vol2 = multidict({'':0}) \n",
    "for a in areas:\n",
    "    for i in areaDoors[a]:\n",
    "        for h in hours:\n",
    "            Vol2[a,i,h] = int(Vol.loc[i,h])\n",
    "            \n",
    "del Vol2['']\n",
    "\n",
    "used = {}\n",
    "volNotLoaded = 0"
   ]
  },
  {
   "cell_type": "markdown",
   "metadata": {},
   "source": [
    "## Allocation"
   ]
  },
  {
   "cell_type": "code",
   "execution_count": 25,
   "metadata": {
    "scrolled": true
   },
   "outputs": [
    {
     "data": {
      "application/vnd.jupyter.widget-view+json": {
       "model_id": "52547b44699c4d959c2d3120315838c4",
       "version_major": 2,
       "version_minor": 0
      },
      "text/plain": [
       "interactive(children=(Button(description='Run Allocation', style=ButtonStyle()), Output()), _dom_classes=('wid…"
      ]
     },
     "metadata": {},
     "output_type": "display_data"
    }
   ],
   "source": [
    "runAllocation=interact.options(manual=True, manual_name=\"Run Allocation\")\n",
    "\n",
    "@runAllocation()\n",
    "def solve():\n",
    "    m = Model('DynamicResourceAllocation')\n",
    "    dc_areas = [1,2,3,4]\n",
    "    for hour in hours:\n",
    "        associateID = 1\n",
    "        for area in dc_areas: \n",
    "            #determine the number of associates required by volume for the hour\n",
    "            numassociates[area,hour] = ceil(sum(Vol2[area,door,hour] for door in areaDoors[area] if Vol2[area,door,hour] > 0)/goal[area])\n",
    "            #set the range of associates\n",
    "            associates = range(1,numassociates[area,hour]+1)\n",
    "\n",
    "            ''' ----- DECISION VARIABLES -----  '''\n",
    "\n",
    "            #Assignment of doors to associates\n",
    "            X = m.addVars(areaDoors[area],associates,vtype=GRB.BINARY,name='X')\n",
    "            #Whether associate is used or not\n",
    "            Z = m.addVars(associates,vtype=GRB.BINARY,name='Z')\n",
    "            #Deviation under goal\n",
    "            alpha = m.addVars(associates,lb=0.0, vtype=GRB.CONTINUOUS,name='alpha')\n",
    "\n",
    "            # ----- OBJECTIVE FUNCTION ----- #\n",
    "\n",
    "            m.setObjective(quicksum(alpha[j] for j in associates),GRB.MINIMIZE)\n",
    "\n",
    "            ''' ----- CONSTRAINTS ----- '''\n",
    "\n",
    "            '''For any associate in the set of associates that are calculated as needed in that area and hour, \n",
    "            the sum of volume going to the doors that associate is assigned must be greater than or equal to \n",
    "            the goal, minus the underachievement.'''\n",
    "            m.addConstrs((sum(Vol2[area,i, hour] * X[i,j] for i in areaDoors[area] if Vol2[area, i, hour] > 0) \n",
    "                >=  Z[j]*goal[area] - alpha[j] for j in associates),\"devFromGoal\")\n",
    "\n",
    "            '''Ensure that associates are only assigned to doors that are adjacent to each other. \n",
    "            If a door has a volume of zero, it will skip the consideration of assigning an associate \n",
    "            to that door, and thus the next adjacent door can be assigned.'''\n",
    "            m.addConstrs((X[i2,j] >= X[i1,j] + X[i3,j] - 1 \n",
    "                for j in associates for i1 in areaDoors[area] if Vol2[area,i1,hour]>0 \n",
    "                for i2 in areaDoors[area] if Vol2[area,i2,hour]>0 for i3 in areaDoors[area] if Vol2[area,i3,hour]>0 \n",
    "                if i1<i2<i3),\"doorAdjacency\")\n",
    "\n",
    "            '''Ensure that a door is assigned to one associate and only one.'''\n",
    "            m.addConstrs((sum(X[i,j] for j in associates) == 1 for i in areaDoors[area] if Vol2[area, i, hour] > 0),\"assignOnly1\")\n",
    "\n",
    "            '''Ensure that if a door has no volume in a given hour, it must not be assigned.'''\n",
    "            m.addConstrs((sum(X[i,j] for j in associates) == 0 for i in areaDoors[area] if Vol2[area, i, hour] == 0),\"doNotAssignZeroVolDoor\")\n",
    "\n",
    "            '''Binary switching constraints. If a door is assigned an associate, that associate must be considered as used.'''\n",
    "            m.addConstrs((X[i,j] <= Z[j] for j in associates for i in areaDoors[area] if Vol2[area, i, hour] > 0),\"usedBinarySwitch\")\n",
    "\n",
    "            '''If an associate is to be used, they must be assigned to at least one door.'''\n",
    "            m.addConstrs((quicksum(X[i,j] for i in areaDoors[area]) >= Z[j] for j in associates),\"assignedBinarySwitch\")\n",
    "\n",
    "            '''Ensure that the deviation for an associate does not exceed the goal for that associate (don't completely understand this) '''\n",
    "            m.addConstrs((alpha[j] <= goal[area]*Z[j] for j in associates),\"IDK\")\n",
    "\n",
    "            '''The model has to use the number of associates that are calculated as needed in the area and hour,\n",
    "            minus one associate if it can find a way to feasibly do so.'''\n",
    "            m.addConstr((quicksum(Z[j] for j in associates) >= numassociates[area,hour]-1),\"minusOneIfPossible\")\n",
    "\n",
    "            '''Ensure that the volume assigned to an associate across doors to not exceed a certain number of cartons.'''\n",
    "            m.addConstrs((quicksum(Vol2[area,i,hour] * X[i,j] for i in areaDoors[area]) <= loadLimit for j in associates),\"loadLimit\")\n",
    "\n",
    "            '''Ensure that the number of doors an associate is assigned never exceeds a certain number.'''\n",
    "            m.addConstrs((quicksum(X[i,j] for i in areaDoors[area]) <= lineLimit for j in associates),\"lineLimit\")\n",
    "\n",
    "            ''' ----- BEGIN OPTIMIZATION ----- '''\n",
    "            m.setParam( 'OutputFlag', False )\n",
    "            m.optimize()\n",
    "            \n",
    "            ''' ----- POST-SOLUTION PROCESSING ----- '''\n",
    "\n",
    "            #obj = m.getObjective()\n",
    "            #solutions[area,hour] = obj.getValue()\n",
    "            \n",
    "            #calculate the load per used associate and whether associate was used\n",
    "            load = {}\n",
    "            totalUsed = 0\n",
    "            for j in associates: \n",
    "                load[area,hour,j] = sum(Vol2[area,i,hour]*X[i,j].x for i in areaDoors[area] if Vol2[area,i,hour]>0)\n",
    "                if load[area,hour,j] > 0:\n",
    "                    used[area,hour,j] = 1\n",
    "                else: \n",
    "                    used[area,hour,j] = 0\n",
    "                totalUsed += used[area,hour,j]\n",
    "\n",
    "            #create a dataFrame for the hour, which will contain the associate to door assignments\n",
    "            assignments[area,hour] = pd.DataFrame(data=None,index=areaDoors[area],columns=associates)\n",
    "            \n",
    "            for j in associates:\n",
    "                if Z[j].x==1:\n",
    "                    for i in areaDoors[area]:\n",
    "                        if X[i,j].x == 1:\n",
    "                            assignments[area,hour].loc[i,j] = associateID\n",
    "                        else:\n",
    "                            assignments[area,hour].loc[i,j] = 0\n",
    "                    associateID += 1\n",
    "\n",
    "        assignmentsFull = pd.DataFrame()\n",
    "        for a in assignments:\n",
    "            assignmentsFull = assignmentsFull.append(assignments[a])\n",
    "            numAssociates = len(assignmentsFull.columns)\n",
    "        assignmentsFull = assignmentsFull.loc[:, 1:numAssociates].replace(1, pd.Series(assignmentsFull.columns, assignmentsFull.columns))\n",
    "        assignmentsFull['Assignment'] = assignmentsFull.max(axis=1)\n",
    "        assignmentsFull['Hour'] = hour\n",
    "        assignmentsFull = assignmentsFull.reset_index().rename({'index':'Door'},axis=1)\n",
    "        assignmentsFull = assignmentsFull[['Hour','Door','Assignment']]\n",
    "        assignmentsFull.to_csv('Hour{}.csv'.format(hour),index=False)"
   ]
  },
  {
   "cell_type": "markdown",
   "metadata": {},
   "source": [
    "# Output"
   ]
  },
  {
   "cell_type": "code",
   "execution_count": 10,
   "metadata": {},
   "outputs": [
    {
     "data": {
      "text/html": [
       "\n",
       "\n",
       "\n",
       "\n",
       "\n",
       "\n",
       "  <div class=\"bk-root\" id=\"7d7eef0a-3124-45e1-bbd6-7d3010fd11b1\" data-root-id=\"1095\"></div>\n"
      ]
     },
     "metadata": {},
     "output_type": "display_data"
    },
    {
     "data": {
      "application/javascript": [
       "(function(root) {\n",
       "  function embed_document(root) {\n",
       "    \n",
       "  var docs_json = {\"5587888a-bfda-4720-9df2-c73ebaaf9b2c\":{\"roots\":{\"references\":[{\"attributes\":{\"above\":[{\"id\":\"1121\",\"type\":\"Title\"}],\"background_fill_color\":{\"value\":\"white\"},\"below\":[{\"id\":\"1104\",\"type\":\"LinearAxis\"},{\"id\":\"1120\",\"type\":\"Label\"}],\"border_fill_color\":{\"value\":\"white\"},\"left\":[{\"id\":\"1109\",\"type\":\"LinearAxis\"}],\"min_border_bottom\":60,\"min_border_left\":60,\"min_border_right\":60,\"min_border_top\":40,\"outline_line_color\":{\"value\":\"white\"},\"plot_height\":540,\"plot_width\":960,\"renderers\":[{\"id\":\"1104\",\"type\":\"LinearAxis\"},{\"id\":\"1108\",\"type\":\"Grid\"},{\"id\":\"1109\",\"type\":\"LinearAxis\"},{\"id\":\"1113\",\"type\":\"Grid\"},{\"id\":\"1120\",\"type\":\"Label\"},{\"id\":\"1121\",\"type\":\"Title\"},{\"id\":\"1133\",\"type\":\"GlyphRenderer\"},{\"id\":\"1141\",\"type\":\"GlyphRenderer\"},{\"id\":\"1149\",\"type\":\"GlyphRenderer\"}],\"title\":{\"id\":\"1117\",\"type\":\"Title\"},\"toolbar\":{\"id\":\"1115\",\"type\":\"Toolbar\"},\"x_range\":{\"id\":\"1096\",\"type\":\"DataRange1d\"},\"x_scale\":{\"id\":\"1100\",\"type\":\"LinearScale\"},\"y_range\":{\"id\":\"1098\",\"type\":\"DataRange1d\"},\"y_scale\":{\"id\":\"1102\",\"type\":\"LinearScale\"}},\"id\":\"1095\",\"subtype\":\"Figure\",\"type\":\"Plot\"},{\"attributes\":{\"callback\":null,\"data\":{\"Hour\":[1,2,3,4,5,6,7,8,9,10,11,12,13,14,15,16,17,18,19,20,21,22,23,24,25,26,27,28,29,30,31,32,33,34,35,36,37,38,39,40,41,42,43,44,45,46,47,48,49,50,51,52,53,54,55,56,57,58,59,60,61,62,63,64,65,66,67,68,69,70,71,72,73,74,75,76,77,78,79,80,81,82,83,84,85,86,87,88,89,90,91,92,93,94,95,96,97,98,99,100,101,102,103,104,105,106,107,108,109,110,111,112],\"Model\":[301,293,273,311,273,302,307,300,289,323,317,291,291,318,307,306,282,308,311,313,310,312,315,299,286,301,298,295,292,291,291,277,284,287,282,277,274,269,295,270,281,283,284,273,274,288,266,302,286,298,296,292,285,315,321,304,318,289,292,290,287,320,274,294,270,257,296,289,288,276,320,281,276,292,260,288,276,282,263,299,291,280,314,301,294,285,368,314,287,294,299,305,304,278,274,282,297,297,304,308,320,307,286,314,290,312,290,292,323,306,299,280],\"index\":[0,1,2,3,4,5,6,7,8,9,10,11,12,13,14,15,16,17,18,19,20,21,22,23,24,25,26,27,28,29,30,31,32,33,34,35,36,37,38,39,40,41,42,43,44,45,46,47,48,49,50,51,52,53,54,55,56,57,58,59,60,61,62,63,64,65,66,67,68,69,70,71,72,73,74,75,76,77,78,79,80,81,82,83,84,85,86,87,88,89,90,91,92,93,94,95,96,97,98,99,100,101,102,103,104,105,106,107,108,109,110,111]},\"name\":\"Series:\",\"selected\":{\"id\":\"1166\",\"type\":\"Selection\"},\"selection_policy\":{\"id\":\"1167\",\"type\":\"UnionRenderers\"}},\"id\":\"1145\",\"type\":\"ColumnDataSource\"},{\"attributes\":{},\"id\":\"1105\",\"type\":\"BasicTicker\"},{\"attributes\":{\"callback\":null,\"data\":{\"Goal\":[266,266,266,266,266,266,266,266,266,266,266,266,266,266,266,266,266,266,266,266,266,266,266,266,266,266,266,266,266,266,266,266,266,266,266,266,266,266,266,266,266,266,266,266,266,266,266,266,266,266,266,266,266,266,266,266,266,266,266,266,266,266,266,266,266,266,266,266,266,266,266,266,266,266,266,266,266,266,266,266,266,266,266,266,266,266,266,266,266,266,266,266,266,266,266,266,266,266,266,266,266,266,266,266,266,266,266,266,266,266,266,266],\"Hour\":[1,2,3,4,5,6,7,8,9,10,11,12,13,14,15,16,17,18,19,20,21,22,23,24,25,26,27,28,29,30,31,32,33,34,35,36,37,38,39,40,41,42,43,44,45,46,47,48,49,50,51,52,53,54,55,56,57,58,59,60,61,62,63,64,65,66,67,68,69,70,71,72,73,74,75,76,77,78,79,80,81,82,83,84,85,86,87,88,89,90,91,92,93,94,95,96,97,98,99,100,101,102,103,104,105,106,107,108,109,110,111,112],\"index\":[0,1,2,3,4,5,6,7,8,9,10,11,12,13,14,15,16,17,18,19,20,21,22,23,24,25,26,27,28,29,30,31,32,33,34,35,36,37,38,39,40,41,42,43,44,45,46,47,48,49,50,51,52,53,54,55,56,57,58,59,60,61,62,63,64,65,66,67,68,69,70,71,72,73,74,75,76,77,78,79,80,81,82,83,84,85,86,87,88,89,90,91,92,93,94,95,96,97,98,99,100,101,102,103,104,105,106,107,108,109,110,111]},\"name\":\"Series:\",\"selected\":{\"id\":\"1162\",\"type\":\"Selection\"},\"selection_policy\":{\"id\":\"1163\",\"type\":\"UnionRenderers\"}},\"id\":\"1129\",\"type\":\"ColumnDataSource\"},{\"attributes\":{\"format\":\"0,0.[000]\"},\"id\":\"1144\",\"type\":\"NumeralTickFormatter\"},{\"attributes\":{\"line_alpha\":0.1,\"line_cap\":\"round\",\"line_color\":\"#1f77b4\",\"line_join\":\"round\",\"line_width\":4,\"x\":{\"field\":\"Hour\"},\"y\":{\"field\":\"Model\"}},\"id\":\"1148\",\"type\":\"Line\"},{\"attributes\":{},\"id\":\"1110\",\"type\":\"BasicTicker\"},{\"attributes\":{\"data_source\":{\"id\":\"1129\",\"type\":\"ColumnDataSource\"},\"glyph\":{\"id\":\"1131\",\"type\":\"Line\"},\"hover_glyph\":null,\"muted_glyph\":null,\"nonselection_glyph\":{\"id\":\"1132\",\"type\":\"Line\"},\"selection_glyph\":null,\"view\":{\"id\":\"1134\",\"type\":\"CDSView\"}},\"id\":\"1133\",\"type\":\"GlyphRenderer\"},{\"attributes\":{\"dimension\":1,\"grid_line_color\":{\"value\":null},\"plot\":{\"id\":\"1095\",\"subtype\":\"Figure\",\"type\":\"Plot\"},\"ticker\":{\"id\":\"1110\",\"type\":\"BasicTicker\"}},\"id\":\"1113\",\"type\":\"Grid\"},{\"attributes\":{\"line_cap\":\"round\",\"line_color\":\"#2ca02c\",\"line_join\":\"round\",\"line_width\":4,\"x\":{\"field\":\"Hour\"},\"y\":{\"field\":\"Model\"}},\"id\":\"1147\",\"type\":\"Line\"},{\"attributes\":{\"active_drag\":null,\"active_inspect\":\"auto\",\"active_multi\":null,\"active_scroll\":\"auto\",\"active_tap\":\"auto\",\"logo\":null,\"tools\":[{\"id\":\"1114\",\"type\":\"SaveTool\"}]},\"id\":\"1115\",\"type\":\"Toolbar\"},{\"attributes\":{},\"id\":\"1114\",\"type\":\"SaveTool\"},{\"attributes\":{\"line_cap\":\"round\",\"line_color\":\"#d62728\",\"line_dash\":[6],\"line_join\":\"round\",\"line_width\":4,\"x\":{\"field\":\"Hour\"},\"y\":{\"field\":\"Goal\"}},\"id\":\"1131\",\"type\":\"Line\"},{\"attributes\":{\"data_source\":{\"id\":\"1145\",\"type\":\"ColumnDataSource\"},\"glyph\":{\"id\":\"1147\",\"type\":\"Line\"},\"hover_glyph\":null,\"muted_glyph\":null,\"nonselection_glyph\":{\"id\":\"1148\",\"type\":\"Line\"},\"selection_glyph\":null,\"view\":{\"id\":\"1150\",\"type\":\"CDSView\"}},\"id\":\"1149\",\"type\":\"GlyphRenderer\"},{\"attributes\":{\"source\":{\"id\":\"1137\",\"type\":\"ColumnDataSource\"}},\"id\":\"1142\",\"type\":\"CDSView\"},{\"attributes\":{\"line_alpha\":0.1,\"line_cap\":\"round\",\"line_color\":\"#1f77b4\",\"line_dash\":[6],\"line_join\":\"round\",\"line_width\":4,\"x\":{\"field\":\"Hour\"},\"y\":{\"field\":\"Goal\"}},\"id\":\"1132\",\"type\":\"Line\"},{\"attributes\":{\"source\":{\"id\":\"1145\",\"type\":\"ColumnDataSource\"}},\"id\":\"1150\",\"type\":\"CDSView\"},{\"attributes\":{},\"id\":\"1165\",\"type\":\"UnionRenderers\"},{\"attributes\":{\"level\":\"overlay\",\"name\":\"subtitle\",\"plot\":{\"id\":\"1095\",\"subtype\":\"Figure\",\"type\":\"Plot\"},\"text\":\"\",\"text_align\":\"right\",\"text_color\":{\"value\":\"#898989\"},\"text_font_size\":{\"value\":\"10px\"},\"x\":864.0,\"x_units\":\"screen\",\"y\":0,\"y_units\":\"screen\"},\"id\":\"1120\",\"type\":\"Label\"},{\"attributes\":{\"axis_label_text_color\":{\"value\":\"#666666\"},\"axis_label_text_font_size\":{\"value\":\"11pt\"},\"axis_label_text_font_style\":\"bold\",\"axis_line_color\":{\"value\":\"#C0C0C0\"},\"formatter\":{\"id\":\"1143\",\"type\":\"NumeralTickFormatter\"},\"major_label_text_color\":{\"value\":\"#898989\"},\"major_label_text_font_size\":{\"value\":\"10pt\"},\"major_tick_in\":0,\"major_tick_line_color\":{\"value\":\"#C0C0C0\"},\"major_tick_out\":4,\"minor_tick_line_color\":{\"value\":\"#C0C0C0\"},\"minor_tick_out\":1,\"plot\":{\"id\":\"1095\",\"subtype\":\"Figure\",\"type\":\"Plot\"},\"ticker\":{\"id\":\"1105\",\"type\":\"BasicTicker\"}},\"id\":\"1104\",\"type\":\"LinearAxis\"},{\"attributes\":{},\"id\":\"1166\",\"type\":\"Selection\"},{\"attributes\":{\"plot\":null,\"text\":\"Average Hourly Productivity Modeled vs Actual for 1 Month\",\"text_color\":{\"value\":\"#333333\"},\"text_font_size\":{\"value\":\"18pt\"}},\"id\":\"1117\",\"type\":\"Title\"},{\"attributes\":{\"line_cap\":\"round\",\"line_color\":\"#1f77b4\",\"line_join\":\"round\",\"line_width\":4,\"x\":{\"field\":\"Hour\"},\"y\":{\"field\":\"Actual\"}},\"id\":\"1139\",\"type\":\"Line\"},{\"attributes\":{},\"id\":\"1164\",\"type\":\"Selection\"},{\"attributes\":{},\"id\":\"1167\",\"type\":\"UnionRenderers\"},{\"attributes\":{\"plot\":{\"id\":\"1095\",\"subtype\":\"Figure\",\"type\":\"Plot\"},\"text\":\"Red:Goal | Blue:Actual | Green:Modeled\",\"text_color\":{\"value\":\"#666666\"},\"text_font_size\":{\"value\":\"12pt\"}},\"id\":\"1121\",\"type\":\"Title\"},{\"attributes\":{\"source\":{\"id\":\"1129\",\"type\":\"ColumnDataSource\"}},\"id\":\"1134\",\"type\":\"CDSView\"},{\"attributes\":{\"callback\":null},\"id\":\"1098\",\"type\":\"DataRange1d\"},{\"attributes\":{\"format\":\"0,0.[000]\"},\"id\":\"1143\",\"type\":\"NumeralTickFormatter\"},{\"attributes\":{\"axis_label_text_color\":{\"value\":\"#666666\"},\"axis_label_text_font_size\":{\"value\":\"11pt\"},\"axis_label_text_font_style\":\"bold\",\"axis_line_color\":{\"value\":\"#C0C0C0\"},\"formatter\":{\"id\":\"1144\",\"type\":\"NumeralTickFormatter\"},\"major_label_text_color\":{\"value\":\"#898989\"},\"major_label_text_font_size\":{\"value\":\"10pt\"},\"major_tick_in\":0,\"major_tick_line_color\":{\"value\":\"#C0C0C0\"},\"major_tick_out\":4,\"minor_tick_line_color\":{\"value\":\"#C0C0C0\"},\"minor_tick_out\":1,\"plot\":{\"id\":\"1095\",\"subtype\":\"Figure\",\"type\":\"Plot\"},\"ticker\":{\"id\":\"1110\",\"type\":\"BasicTicker\"}},\"id\":\"1109\",\"type\":\"LinearAxis\"},{\"attributes\":{},\"id\":\"1163\",\"type\":\"UnionRenderers\"},{\"attributes\":{},\"id\":\"1100\",\"type\":\"LinearScale\"},{\"attributes\":{\"callback\":null},\"id\":\"1096\",\"type\":\"DataRange1d\"},{\"attributes\":{\"callback\":null,\"data\":{\"Actual\":[178,270,293,239,252,209,284,254,165,215,190,233,232,170,246,102,226,185,215,217,215,245,315,253,264,254,159,216,292,249,249,277,275,261,249,310,290,237,243,254,248,283,243,253,255,247,245,279,296,242,269,267,311,229,234,274,286,289,260,322,255,284,244,229,210,154,203,289,250,313,213,206,276,234,87,312,161,257,335,217,370,308,251,268,265,313,294,269,235,206,228,194,238,347,274,259,272,162,203,247,288,307,229,189,290,312,258,309,216,306,299,117],\"Hour\":[1,2,3,4,5,6,7,8,9,10,11,12,13,14,15,16,17,18,19,20,21,22,23,24,25,26,27,28,29,30,31,32,33,34,35,36,37,38,39,40,41,42,43,44,45,46,47,48,49,50,51,52,53,54,55,56,57,58,59,60,61,62,63,64,65,66,67,68,69,70,71,72,73,74,75,76,77,78,79,80,81,82,83,84,85,86,87,88,89,90,91,92,93,94,95,96,97,98,99,100,101,102,103,104,105,106,107,108,109,110,111,112],\"index\":[0,1,2,3,4,5,6,7,8,9,10,11,12,13,14,15,16,17,18,19,20,21,22,23,24,25,26,27,28,29,30,31,32,33,34,35,36,37,38,39,40,41,42,43,44,45,46,47,48,49,50,51,52,53,54,55,56,57,58,59,60,61,62,63,64,65,66,67,68,69,70,71,72,73,74,75,76,77,78,79,80,81,82,83,84,85,86,87,88,89,90,91,92,93,94,95,96,97,98,99,100,101,102,103,104,105,106,107,108,109,110,111]},\"name\":\"Series:\",\"selected\":{\"id\":\"1164\",\"type\":\"Selection\"},\"selection_policy\":{\"id\":\"1165\",\"type\":\"UnionRenderers\"}},\"id\":\"1137\",\"type\":\"ColumnDataSource\"},{\"attributes\":{},\"id\":\"1102\",\"type\":\"LinearScale\"},{\"attributes\":{},\"id\":\"1162\",\"type\":\"Selection\"},{\"attributes\":{\"data_source\":{\"id\":\"1137\",\"type\":\"ColumnDataSource\"},\"glyph\":{\"id\":\"1139\",\"type\":\"Line\"},\"hover_glyph\":null,\"muted_glyph\":null,\"nonselection_glyph\":{\"id\":\"1140\",\"type\":\"Line\"},\"selection_glyph\":null,\"view\":{\"id\":\"1142\",\"type\":\"CDSView\"}},\"id\":\"1141\",\"type\":\"GlyphRenderer\"},{\"attributes\":{\"grid_line_color\":{\"value\":null},\"plot\":{\"id\":\"1095\",\"subtype\":\"Figure\",\"type\":\"Plot\"},\"ticker\":{\"id\":\"1105\",\"type\":\"BasicTicker\"}},\"id\":\"1108\",\"type\":\"Grid\"},{\"attributes\":{\"line_alpha\":0.1,\"line_cap\":\"round\",\"line_color\":\"#1f77b4\",\"line_join\":\"round\",\"line_width\":4,\"x\":{\"field\":\"Hour\"},\"y\":{\"field\":\"Actual\"}},\"id\":\"1140\",\"type\":\"Line\"}],\"root_ids\":[\"1095\"]},\"title\":\"Bokeh Application\",\"version\":\"1.0.4\"}};\n",
       "  var render_items = [{\"docid\":\"5587888a-bfda-4720-9df2-c73ebaaf9b2c\",\"roots\":{\"1095\":\"7d7eef0a-3124-45e1-bbd6-7d3010fd11b1\"}}];\n",
       "  root.Bokeh.embed.embed_items_notebook(docs_json, render_items);\n",
       "\n",
       "  }\n",
       "  if (root.Bokeh !== undefined) {\n",
       "    embed_document(root);\n",
       "  } else {\n",
       "    var attempts = 0;\n",
       "    var timer = setInterval(function(root) {\n",
       "      if (root.Bokeh !== undefined) {\n",
       "        embed_document(root);\n",
       "        clearInterval(timer);\n",
       "      }\n",
       "      attempts++;\n",
       "      if (attempts > 100) {\n",
       "        console.log(\"Bokeh: ERROR: Unable to run BokehJS code because BokehJS library is missing\");\n",
       "        clearInterval(timer);\n",
       "      }\n",
       "    }, 10, root)\n",
       "  }\n",
       "})(window);"
      ],
      "application/vnd.bokehjs_exec.v0+json": ""
     },
     "metadata": {
      "application/vnd.bokehjs_exec.v0+json": {
       "id": "1095"
      }
     },
     "output_type": "display_data"
    }
   ],
   "source": [
    "fullResults = pd.read_csv('Distribute/chartResults.csv')\n",
    "cfy.color_palettes.create_palette(colors=['#d62728','#1f77b4','#2ca02c'],palette_type='categorical',name='custom palette')\n",
    "ch = cfy.Chart(blank_labels=True)#, x_axis_type='datetime')\n",
    "ch.set_title(\"Average Hourly Productivity Modeled vs Actual for 1 Month\")\n",
    "ch.set_subtitle(\"Red:Goal | Blue:Actual | Green:Modeled\")\n",
    "ch.style.set_color_palette('categorical', 'custom palette')\n",
    "ch.plot.line(\n",
    "    data_frame=fullResults,\n",
    "    x_column='Hour',\n",
    "    y_column='Goal',\n",
    "    line_dash='dashed')\n",
    "ch.plot.line(\n",
    "    data_frame=fullResults,\n",
    "    x_column='Hour',\n",
    "    y_column='Actual')\n",
    "ch.plot.line(\n",
    "    data_frame=fullResults,\n",
    "    x_column='Hour',\n",
    "    y_column='Model')\n",
    "ch.show('html')"
   ]
  },
  {
   "cell_type": "code",
   "execution_count": 12,
   "metadata": {},
   "outputs": [
    {
     "data": {
      "text/html": [
       "\n",
       "\n",
       "\n",
       "\n",
       "\n",
       "\n",
       "  <div class=\"bk-root\" id=\"e14b5636-b2d2-495f-a96d-63ada5b00d54\" data-root-id=\"1339\"></div>\n"
      ]
     },
     "metadata": {},
     "output_type": "display_data"
    },
    {
     "data": {
      "application/javascript": [
       "(function(root) {\n",
       "  function embed_document(root) {\n",
       "    \n",
       "  var docs_json = {\"ed33251a-7bce-46e4-8f02-a4a0ea4a719b\":{\"roots\":{\"references\":[{\"attributes\":{\"above\":[{\"id\":\"1364\",\"type\":\"Title\"}],\"background_fill_color\":{\"value\":\"white\"},\"below\":[{\"id\":\"1348\",\"type\":\"CategoricalAxis\"},{\"id\":\"1363\",\"type\":\"Label\"}],\"border_fill_color\":{\"value\":\"white\"},\"left\":[{\"id\":\"1352\",\"type\":\"LinearAxis\"}],\"min_border_bottom\":60,\"min_border_left\":60,\"min_border_right\":60,\"min_border_top\":40,\"outline_line_color\":{\"value\":\"white\"},\"plot_height\":540,\"plot_width\":960,\"renderers\":[{\"id\":\"1348\",\"type\":\"CategoricalAxis\"},{\"id\":\"1351\",\"type\":\"Grid\"},{\"id\":\"1352\",\"type\":\"LinearAxis\"},{\"id\":\"1356\",\"type\":\"Grid\"},{\"id\":\"1363\",\"type\":\"Label\"},{\"id\":\"1364\",\"type\":\"Title\"},{\"id\":\"1382\",\"type\":\"Legend\"},{\"id\":\"1375\",\"type\":\"GlyphRenderer\"}],\"title\":{\"id\":\"1360\",\"type\":\"Title\"},\"toolbar\":{\"id\":\"1358\",\"type\":\"Toolbar\"},\"x_range\":{\"id\":\"1340\",\"type\":\"FactorRange\"},\"x_scale\":{\"id\":\"1344\",\"type\":\"CategoricalScale\"},\"y_range\":{\"id\":\"1342\",\"type\":\"DataRange1d\"},\"y_scale\":{\"id\":\"1346\",\"type\":\"LinearScale\"}},\"id\":\"1339\",\"subtype\":\"Figure\",\"type\":\"Plot\"},{\"attributes\":{\"dimension\":1,\"grid_line_color\":{\"value\":null},\"plot\":{\"id\":\"1339\",\"subtype\":\"Figure\",\"type\":\"Plot\"},\"ticker\":{\"id\":\"1353\",\"type\":\"BasicTicker\"}},\"id\":\"1356\",\"type\":\"Grid\"},{\"attributes\":{\"callback\":null,\"end\":null,\"start\":0},\"id\":\"1342\",\"type\":\"DataRange1d\"},{\"attributes\":{\"label\":{\"field\":\"color_column\"},\"renderers\":[{\"id\":\"1375\",\"type\":\"GlyphRenderer\"}]},\"id\":\"1383\",\"type\":\"LegendItem\"},{\"attributes\":{\"active_drag\":null,\"active_inspect\":\"auto\",\"active_multi\":null,\"active_scroll\":\"auto\",\"active_tap\":\"auto\",\"logo\":null,\"tools\":[{\"id\":\"1357\",\"type\":\"SaveTool\"}]},\"id\":\"1358\",\"type\":\"Toolbar\"},{\"attributes\":{\"level\":\"overlay\",\"name\":\"subtitle\",\"plot\":{\"id\":\"1339\",\"subtype\":\"Figure\",\"type\":\"Plot\"},\"text\":\"\",\"text_align\":\"right\",\"text_color\":{\"value\":\"#898989\"},\"text_font_size\":{\"value\":\"10px\"},\"x\":864.0,\"x_units\":\"screen\",\"y\":0,\"y_units\":\"screen\"},\"id\":\"1363\",\"type\":\"Label\"},{\"attributes\":{\"items\":[{\"id\":\"1383\",\"type\":\"LegendItem\"}],\"location\":\"top_left\",\"orientation\":\"horizontal\",\"plot\":{\"id\":\"1339\",\"subtype\":\"Figure\",\"type\":\"Plot\"}},\"id\":\"1382\",\"type\":\"Legend\"},{\"attributes\":{\"plot\":null,\"text\":\"4PM Volume by Door\",\"text_color\":{\"value\":\"#333333\"},\"text_font_size\":{\"value\":\"18pt\"}},\"id\":\"1360\",\"type\":\"Title\"},{\"attributes\":{\"fill_color\":{\"field\":\"color_column\",\"transform\":{\"id\":\"1369\",\"type\":\"CategoricalColorMapper\"}},\"line_color\":{\"value\":\"white\"},\"top\":{\"field\":\"Hour8\"},\"width\":{\"value\":0.9},\"x\":{\"field\":\"factors\"}},\"id\":\"1373\",\"type\":\"VBar\"},{\"attributes\":{\"format\":\"0,0.[000]\"},\"id\":\"1370\",\"type\":\"NumeralTickFormatter\"},{\"attributes\":{},\"id\":\"1414\",\"type\":\"UnionRenderers\"},{\"attributes\":{},\"id\":\"1357\",\"type\":\"SaveTool\"},{\"attributes\":{\"plot\":{\"id\":\"1339\",\"subtype\":\"Figure\",\"type\":\"Plot\"},\"text\":\"\",\"text_color\":{\"value\":\"#666666\"},\"text_font_size\":{\"value\":\"12pt\"}},\"id\":\"1364\",\"type\":\"Title\"},{\"attributes\":{\"fill_alpha\":{\"value\":0.1},\"fill_color\":{\"value\":\"#1f77b4\"},\"line_alpha\":{\"value\":0.1},\"line_color\":{\"value\":\"#1f77b4\"},\"top\":{\"field\":\"Hour8\"},\"width\":{\"value\":0.9},\"x\":{\"field\":\"factors\"}},\"id\":\"1374\",\"type\":\"VBar\"},{\"attributes\":{\"end\":1,\"factors\":[\"1\",\"2\",\"3\",\"4\"],\"palette\":[\"#1f77b4\",\"#ff7f0e\",\"#2ca02c\",\"#d62728\"]},\"id\":\"1369\",\"type\":\"CategoricalColorMapper\"},{\"attributes\":{\"data_source\":{\"id\":\"1368\",\"type\":\"ColumnDataSource\"},\"glyph\":{\"id\":\"1373\",\"type\":\"VBar\"},\"hover_glyph\":null,\"muted_glyph\":null,\"nonselection_glyph\":{\"id\":\"1374\",\"type\":\"VBar\"},\"selection_glyph\":null,\"view\":{\"id\":\"1376\",\"type\":\"CDSView\"}},\"id\":\"1375\",\"type\":\"GlyphRenderer\"},{\"attributes\":{\"callback\":null,\"factor_padding\":0.25,\"factors\":[\"1\",\"2\",\"3\",\"4\",\"5\",\"6\",\"7\",\"8\",\"9\",\"10\",\"11\",\"12\",\"13\",\"14\",\"15\",\"16\",\"17\",\"18\",\"19\",\"20\",\"21\",\"22\",\"23\",\"24\",\"25\",\"26\",\"27\",\"28\",\"29\",\"30\",\"31\",\"32\",\"33\",\"34\",\"35\",\"36\",\"37\",\"38\",\"39\",\"40\",\"41\",\"42\",\"43\",\"44\",\"45\",\"46\",\"47\",\"48\",\"49\",\"50\",\"51\",\"52\",\"53\",\"54\",\"55\",\"56\",\"57\",\"58\",\"59\",\"60\",\"61\",\"62\",\"63\",\"64\",\"65\",\"66\",\"67\",\"68\",\"69\",\"70\",\"71\",\"72\",\"73\",\"74\",\"75\",\"76\",\"77\",\"78\",\"79\",\"80\",\"81\",\"82\",\"83\",\"84\",\"85\",\"86\",\"87\",\"88\",\"89\",\"90\",\"91\",\"92\",\"93\",\"94\",\"95\",\"96\",\"97\",\"98\",\"99\",\"100\"]},\"id\":\"1340\",\"type\":\"FactorRange\"},{\"attributes\":{},\"id\":\"1413\",\"type\":\"Selection\"},{\"attributes\":{\"callback\":null,\"data\":{\"Hour8\":[91,61,91,72,0,27,84,22,64,14,88,56,11,0,47,98,3,22,72,100,35,46,64,3,72,0,0,0,52,0,79,62,0,0,0,8,74,42,44,2,0,31,52,53,36,98,66,99,13,0,6,0,23,0,28,0,17,45,39,7,73,17,59,32,1,10,61,40,13,22,75,84,73,56,3,0,90,0,18,49,42,93,45,86,84,0,0,0,56,99,78,4,37,36,77,4,2,33,18,20],\"color_column\":[\"1\",\"1\",\"1\",\"1\",\"1\",\"1\",\"1\",\"1\",\"1\",\"1\",\"1\",\"1\",\"1\",\"1\",\"1\",\"1\",\"1\",\"1\",\"1\",\"1\",\"1\",\"1\",\"1\",\"1\",\"1\",\"2\",\"2\",\"2\",\"2\",\"2\",\"2\",\"2\",\"2\",\"2\",\"2\",\"2\",\"2\",\"2\",\"2\",\"2\",\"2\",\"2\",\"2\",\"2\",\"2\",\"2\",\"2\",\"2\",\"2\",\"2\",\"3\",\"3\",\"3\",\"3\",\"3\",\"3\",\"3\",\"3\",\"3\",\"3\",\"3\",\"3\",\"3\",\"3\",\"3\",\"3\",\"3\",\"3\",\"3\",\"3\",\"3\",\"3\",\"3\",\"3\",\"3\",\"4\",\"4\",\"4\",\"4\",\"4\",\"4\",\"4\",\"4\",\"4\",\"4\",\"4\",\"4\",\"4\",\"4\",\"4\",\"4\",\"4\",\"4\",\"4\",\"4\",\"4\",\"4\",\"4\",\"4\",\"4\"],\"factors\":[\"1\",\"2\",\"3\",\"4\",\"5\",\"6\",\"7\",\"8\",\"9\",\"10\",\"11\",\"12\",\"13\",\"14\",\"15\",\"16\",\"17\",\"18\",\"19\",\"20\",\"21\",\"22\",\"23\",\"24\",\"25\",\"26\",\"27\",\"28\",\"29\",\"30\",\"31\",\"32\",\"33\",\"34\",\"35\",\"36\",\"37\",\"38\",\"39\",\"40\",\"41\",\"42\",\"43\",\"44\",\"45\",\"46\",\"47\",\"48\",\"49\",\"50\",\"51\",\"52\",\"53\",\"54\",\"55\",\"56\",\"57\",\"58\",\"59\",\"60\",\"61\",\"62\",\"63\",\"64\",\"65\",\"66\",\"67\",\"68\",\"69\",\"70\",\"71\",\"72\",\"73\",\"74\",\"75\",\"76\",\"77\",\"78\",\"79\",\"80\",\"81\",\"82\",\"83\",\"84\",\"85\",\"86\",\"87\",\"88\",\"89\",\"90\",\"91\",\"92\",\"93\",\"94\",\"95\",\"96\",\"97\",\"98\",\"99\",\"100\"],\"index\":[0,1,2,3,4,5,6,7,8,9,10,11,12,13,14,15,16,17,18,19,20,21,22,23,24,25,26,27,28,29,30,31,32,33,34,35,36,37,38,39,40,41,42,43,44,45,46,47,48,49,50,51,52,53,54,55,56,57,58,59,60,61,62,63,64,65,66,67,68,69,70,71,72,73,74,75,76,77,78,79,80,81,82,83,84,85,86,87,88,89,90,91,92,93,94,95,96,97,98,99]},\"name\":\"Series:\",\"selected\":{\"id\":\"1413\",\"type\":\"Selection\"},\"selection_policy\":{\"id\":\"1414\",\"type\":\"UnionRenderers\"}},\"id\":\"1368\",\"type\":\"ColumnDataSource\"},{\"attributes\":{\"source\":{\"id\":\"1368\",\"type\":\"ColumnDataSource\"}},\"id\":\"1376\",\"type\":\"CDSView\"},{\"attributes\":{},\"id\":\"1344\",\"type\":\"CategoricalScale\"},{\"attributes\":{},\"id\":\"1346\",\"type\":\"LinearScale\"},{\"attributes\":{},\"id\":\"1380\",\"type\":\"CategoricalTickFormatter\"},{\"attributes\":{\"axis_label_text_color\":{\"value\":\"#666666\"},\"axis_label_text_font_size\":{\"value\":\"11pt\"},\"axis_label_text_font_style\":\"bold\",\"axis_line_alpha\":{\"value\":0},\"axis_line_color\":{\"value\":\"#C0C0C0\"},\"formatter\":{\"id\":\"1380\",\"type\":\"CategoricalTickFormatter\"},\"group_text_font_size\":{\"value\":\"11pt\"},\"major_label_text_color\":{\"value\":null},\"major_label_text_font_size\":{\"value\":\"10pt\"},\"major_tick_in\":0,\"major_tick_line_color\":{\"value\":null},\"major_tick_out\":4,\"minor_tick_line_color\":{\"value\":null},\"minor_tick_out\":1,\"plot\":{\"id\":\"1339\",\"subtype\":\"Figure\",\"type\":\"Plot\"},\"separator_line_alpha\":{\"value\":0},\"subgroup_text_font_size\":{\"value\":\"11pt\"},\"ticker\":{\"id\":\"1349\",\"type\":\"CategoricalTicker\"}},\"id\":\"1348\",\"type\":\"CategoricalAxis\"},{\"attributes\":{},\"id\":\"1349\",\"type\":\"CategoricalTicker\"},{\"attributes\":{\"grid_line_color\":{\"value\":null},\"plot\":{\"id\":\"1339\",\"subtype\":\"Figure\",\"type\":\"Plot\"},\"ticker\":{\"id\":\"1349\",\"type\":\"CategoricalTicker\"}},\"id\":\"1351\",\"type\":\"Grid\"},{\"attributes\":{\"axis_label_text_color\":{\"value\":\"#666666\"},\"axis_label_text_font_size\":{\"value\":\"11pt\"},\"axis_label_text_font_style\":\"bold\",\"axis_line_color\":{\"value\":\"#C0C0C0\"},\"formatter\":{\"id\":\"1370\",\"type\":\"NumeralTickFormatter\"},\"major_label_text_color\":{\"value\":\"#898989\"},\"major_label_text_font_size\":{\"value\":\"10pt\"},\"major_tick_in\":0,\"major_tick_line_color\":{\"value\":\"#C0C0C0\"},\"major_tick_out\":4,\"minor_tick_line_color\":{\"value\":\"#C0C0C0\"},\"minor_tick_out\":1,\"plot\":{\"id\":\"1339\",\"subtype\":\"Figure\",\"type\":\"Plot\"},\"ticker\":{\"id\":\"1353\",\"type\":\"BasicTicker\"}},\"id\":\"1352\",\"type\":\"LinearAxis\"},{\"attributes\":{},\"id\":\"1353\",\"type\":\"BasicTicker\"}],\"root_ids\":[\"1339\"]},\"title\":\"Bokeh Application\",\"version\":\"1.0.4\"}};\n",
       "  var render_items = [{\"docid\":\"ed33251a-7bce-46e4-8f02-a4a0ea4a719b\",\"roots\":{\"1339\":\"e14b5636-b2d2-495f-a96d-63ada5b00d54\"}}];\n",
       "  root.Bokeh.embed.embed_items_notebook(docs_json, render_items);\n",
       "\n",
       "  }\n",
       "  if (root.Bokeh !== undefined) {\n",
       "    embed_document(root);\n",
       "  } else {\n",
       "    var attempts = 0;\n",
       "    var timer = setInterval(function(root) {\n",
       "      if (root.Bokeh !== undefined) {\n",
       "        embed_document(root);\n",
       "        clearInterval(timer);\n",
       "      }\n",
       "      attempts++;\n",
       "      if (attempts > 100) {\n",
       "        console.log(\"Bokeh: ERROR: Unable to run BokehJS code because BokehJS library is missing\");\n",
       "        clearInterval(timer);\n",
       "      }\n",
       "    }, 10, root)\n",
       "  }\n",
       "})(window);"
      ],
      "application/vnd.bokehjs_exec.v0+json": ""
     },
     "metadata": {
      "application/vnd.bokehjs_exec.v0+json": {
       "id": "1339"
      }
     },
     "output_type": "display_data"
    }
   ],
   "source": [
    "volData = pd.read_csv('Distribute/volData8A.csv')\n",
    "ch = cfy.Chart(blank_labels=True, x_axis_type='categorical')\n",
    "ch.set_title(\"4PM Volume by Door\")\n",
    "ch.plot.bar(\n",
    "    data_frame=volData,\n",
    "    categorical_columns='Door',\n",
    "    numeric_column='Hour8',\n",
    "    categorical_order_by='labels',\n",
    "    categorical_order_ascending=True,\n",
    "    color_column='Area',\n",
    "    color_order=[1,2,3,4])\n",
    "ch.axes.hide_xaxis()\n",
    "ch.show('html')"
   ]
  },
  {
   "cell_type": "code",
   "execution_count": 13,
   "metadata": {},
   "outputs": [],
   "source": [
    "#making the chart for each hour\n",
    "charts = {}\n",
    "hours = range(1,8)\n",
    "def makeChart(hour):\n",
    "    #resultsData = pd.read_csv('Hour7.csv')\n",
    "    #resultsData = resultsData[resultsData.Hour==hour]\n",
    "    #ax = sns.barplot(x=\"Door\", y=\"Volume\",hue='Assignment', data=resultsData)\n",
    "    \n",
    "    ch = chartify.Chart(blank_labels=True, x_axis_type='categorical')\n",
    "    ch.set_title(\"Associate to Door Assignment\")\n",
    "    ch.plot.bar(\n",
    "        data_frame=resultsData,\n",
    "        categorical_columns='Door',\n",
    "        numeric_column='Volume',\n",
    "        categorical_order_by='labels',\n",
    "        categorical_order_ascending=True,\n",
    "        color_column='Assignment')\n",
    "        #color_order=[i for i in range(1,int(resultsData.Assignment.max())+1)])\n",
    "    ch.axes.hide_xaxis()\n",
    "    ch.set_legend_location(None)\n",
    "    ch.style.color_palette.reset_palette_order()\n",
    "    return ax"
   ]
  },
  {
   "cell_type": "code",
   "execution_count": 16,
   "metadata": {},
   "outputs": [
    {
     "data": {
      "text/html": [
       "\n",
       "\n",
       "\n",
       "\n",
       "\n",
       "\n",
       "  <div class=\"bk-root\" id=\"d6145807-fca6-4434-9396-892391134913\" data-root-id=\"1457\"></div>\n"
      ]
     },
     "metadata": {},
     "output_type": "display_data"
    },
    {
     "data": {
      "application/javascript": [
       "(function(root) {\n",
       "  function embed_document(root) {\n",
       "    \n",
       "  var docs_json = {\"43573760-b340-4753-9079-d81a32160bd2\":{\"roots\":{\"references\":[{\"attributes\":{\"above\":[{\"id\":\"1482\",\"type\":\"Title\"}],\"background_fill_color\":{\"value\":\"white\"},\"below\":[{\"id\":\"1466\",\"type\":\"CategoricalAxis\"},{\"id\":\"1481\",\"type\":\"Label\"}],\"border_fill_color\":{\"value\":\"white\"},\"left\":[{\"id\":\"1470\",\"type\":\"LinearAxis\"}],\"min_border_bottom\":60,\"min_border_left\":60,\"min_border_right\":60,\"min_border_top\":40,\"outline_line_color\":{\"value\":\"white\"},\"plot_height\":540,\"plot_width\":960,\"renderers\":[{\"id\":\"1466\",\"type\":\"CategoricalAxis\"},{\"id\":\"1469\",\"type\":\"Grid\"},{\"id\":\"1470\",\"type\":\"LinearAxis\"},{\"id\":\"1474\",\"type\":\"Grid\"},{\"id\":\"1481\",\"type\":\"Label\"},{\"id\":\"1482\",\"type\":\"Title\"},{\"id\":\"1500\",\"type\":\"Legend\"},{\"id\":\"1493\",\"type\":\"GlyphRenderer\"}],\"title\":{\"id\":\"1478\",\"type\":\"Title\"},\"toolbar\":{\"id\":\"1476\",\"type\":\"Toolbar\"},\"x_range\":{\"id\":\"1458\",\"type\":\"FactorRange\"},\"x_scale\":{\"id\":\"1462\",\"type\":\"CategoricalScale\"},\"y_range\":{\"id\":\"1460\",\"type\":\"DataRange1d\"},\"y_scale\":{\"id\":\"1464\",\"type\":\"LinearScale\"}},\"id\":\"1457\",\"subtype\":\"Figure\",\"type\":\"Plot\"},{\"attributes\":{\"format\":\"0,0.[000]\"},\"id\":\"1488\",\"type\":\"NumeralTickFormatter\"},{\"attributes\":{},\"id\":\"1467\",\"type\":\"CategoricalTicker\"},{\"attributes\":{\"axis_label_text_color\":{\"value\":\"#666666\"},\"axis_label_text_font_size\":{\"value\":\"11pt\"},\"axis_label_text_font_style\":\"bold\",\"axis_line_alpha\":{\"value\":0},\"axis_line_color\":{\"value\":\"#C0C0C0\"},\"formatter\":{\"id\":\"1498\",\"type\":\"CategoricalTickFormatter\"},\"group_text_font_size\":{\"value\":\"11pt\"},\"major_label_text_color\":{\"value\":null},\"major_label_text_font_size\":{\"value\":\"10pt\"},\"major_tick_in\":0,\"major_tick_line_color\":{\"value\":null},\"major_tick_out\":4,\"minor_tick_line_color\":{\"value\":null},\"minor_tick_out\":1,\"plot\":{\"id\":\"1457\",\"subtype\":\"Figure\",\"type\":\"Plot\"},\"separator_line_alpha\":{\"value\":0},\"subgroup_text_font_size\":{\"value\":\"11pt\"},\"ticker\":{\"id\":\"1467\",\"type\":\"CategoricalTicker\"}},\"id\":\"1466\",\"type\":\"CategoricalAxis\"},{\"attributes\":{\"plot\":{\"id\":\"1457\",\"subtype\":\"Figure\",\"type\":\"Plot\"},\"text\":\"Associate to Door Assignment\",\"text_color\":{\"value\":\"#666666\"},\"text_font_size\":{\"value\":\"12pt\"}},\"id\":\"1482\",\"type\":\"Title\"},{\"attributes\":{\"grid_line_color\":{\"value\":null},\"plot\":{\"id\":\"1457\",\"subtype\":\"Figure\",\"type\":\"Plot\"},\"ticker\":{\"id\":\"1467\",\"type\":\"CategoricalTicker\"}},\"id\":\"1469\",\"type\":\"Grid\"},{\"attributes\":{\"axis_label_text_color\":{\"value\":\"#666666\"},\"axis_label_text_font_size\":{\"value\":\"11pt\"},\"axis_label_text_font_style\":\"bold\",\"axis_line_color\":{\"value\":\"#C0C0C0\"},\"formatter\":{\"id\":\"1488\",\"type\":\"NumeralTickFormatter\"},\"major_label_text_color\":{\"value\":\"#898989\"},\"major_label_text_font_size\":{\"value\":\"10pt\"},\"major_tick_in\":0,\"major_tick_line_color\":{\"value\":\"#C0C0C0\"},\"major_tick_out\":4,\"minor_tick_line_color\":{\"value\":\"#C0C0C0\"},\"minor_tick_out\":1,\"plot\":{\"id\":\"1457\",\"subtype\":\"Figure\",\"type\":\"Plot\"},\"ticker\":{\"id\":\"1471\",\"type\":\"BasicTicker\"}},\"id\":\"1470\",\"type\":\"LinearAxis\"},{\"attributes\":{\"end\":1,\"factors\":[\"0\",\"1\",\"2\",\"3\",\"4\",\"5\",\"6\",\"7\",\"8\",\"9\",\"10\",\"11\",\"12\",\"13\",\"14\",\"15\",\"16\",\"17\",\"18\",\"19\",\"20\"],\"palette\":[\"#1f77b4\",\"#ff7f0e\",\"#2ca02c\",\"#d62728\",\"#9467bd\",\"#8c564b\",\"#e377c2\",\"#7f7f7f\",\"#bcbd22\",\"#17becf\",\"#aec7e8\",\"#ffbb78\",\"#98df8a\",\"#ff9896\",\"#c5b0d5\",\"#c49c94\",\"#f7b6d2\",\"#c7c7c7\",\"#dbdb8d\",\"#9edae5\",\"#1f77b4\"]},\"id\":\"1487\",\"type\":\"CategoricalColorMapper\"},{\"attributes\":{\"callback\":null,\"factor_padding\":0.25,\"factors\":[\"1\",\"2\",\"3\",\"4\",\"5\",\"6\",\"7\",\"8\",\"9\",\"10\",\"11\",\"12\",\"13\",\"14\",\"15\",\"16\",\"17\",\"18\",\"19\",\"20\",\"21\",\"22\",\"23\",\"24\",\"25\",\"26\",\"27\",\"28\",\"29\",\"30\",\"31\",\"32\",\"33\",\"34\",\"35\",\"36\",\"37\",\"38\",\"39\",\"40\",\"41\",\"42\",\"43\",\"44\",\"45\",\"46\",\"47\",\"48\",\"49\",\"50\",\"51\",\"52\",\"53\",\"54\",\"55\",\"56\",\"57\",\"58\",\"59\",\"60\",\"61\",\"62\",\"63\",\"64\",\"65\",\"66\",\"67\",\"68\",\"69\",\"70\",\"71\",\"72\",\"73\",\"74\",\"75\",\"76\",\"77\",\"78\",\"79\",\"80\",\"81\",\"82\",\"83\",\"84\",\"85\",\"86\",\"87\",\"88\",\"89\",\"90\",\"91\",\"92\",\"93\",\"94\",\"95\",\"96\",\"97\",\"98\",\"99\",\"100\"]},\"id\":\"1458\",\"type\":\"FactorRange\"},{\"attributes\":{},\"id\":\"1471\",\"type\":\"BasicTicker\"},{\"attributes\":{\"dimension\":1,\"grid_line_color\":{\"value\":null},\"plot\":{\"id\":\"1457\",\"subtype\":\"Figure\",\"type\":\"Plot\"},\"ticker\":{\"id\":\"1471\",\"type\":\"BasicTicker\"}},\"id\":\"1474\",\"type\":\"Grid\"},{\"attributes\":{\"callback\":null,\"data\":{\"Volume\":[82,41,74,0,89,0,0,76,14,95,29,72,7,0,29,74,12,47,70,22,0,0,56,13,4,12,2,68,69,0,18,1,44,62,66,0,53,67,42,48,26,44,0,0,94,67,76,81,89,72,0,100,76,11,96,46,0,47,83,38,25,58,0,40,44,70,0,0,57,0,59,78,9,26,23,0,0,0,58,40,0,87,0,36,63,59,0,23,0,77,32,31,35,40,0,24,52,8,53,39],\"color_column\":[\"4\",\"4\",\"4\",\"0\",\"1\",\"0\",\"0\",\"1\",\"1\",\"1\",\"2\",\"2\",\"2\",\"0\",\"2\",\"2\",\"2\",\"3\",\"3\",\"3\",\"0\",\"0\",\"3\",\"3\",\"3\",\"8\",\"8\",\"8\",\"8\",\"0\",\"8\",\"8\",\"8\",\"6\",\"6\",\"0\",\"6\",\"9\",\"9\",\"9\",\"9\",\"9\",\"0\",\"0\",\"5\",\"5\",\"5\",\"7\",\"7\",\"7\",\"0\",\"10\",\"10\",\"15\",\"15\",\"15\",\"0\",\"11\",\"11\",\"11\",\"12\",\"12\",\"0\",\"12\",\"12\",\"14\",\"0\",\"0\",\"14\",\"0\",\"14\",\"13\",\"13\",\"13\",\"13\",\"0\",\"0\",\"0\",\"18\",\"18\",\"0\",\"18\",\"0\",\"19\",\"19\",\"19\",\"0\",\"16\",\"0\",\"16\",\"16\",\"20\",\"20\",\"20\",\"0\",\"20\",\"17\",\"17\",\"17\",\"17\"],\"factors\":[\"1\",\"2\",\"3\",\"4\",\"5\",\"6\",\"7\",\"8\",\"9\",\"10\",\"11\",\"12\",\"13\",\"14\",\"15\",\"16\",\"17\",\"18\",\"19\",\"20\",\"21\",\"22\",\"23\",\"24\",\"25\",\"26\",\"27\",\"28\",\"29\",\"30\",\"31\",\"32\",\"33\",\"34\",\"35\",\"36\",\"37\",\"38\",\"39\",\"40\",\"41\",\"42\",\"43\",\"44\",\"45\",\"46\",\"47\",\"48\",\"49\",\"50\",\"51\",\"52\",\"53\",\"54\",\"55\",\"56\",\"57\",\"58\",\"59\",\"60\",\"61\",\"62\",\"63\",\"64\",\"65\",\"66\",\"67\",\"68\",\"69\",\"70\",\"71\",\"72\",\"73\",\"74\",\"75\",\"76\",\"77\",\"78\",\"79\",\"80\",\"81\",\"82\",\"83\",\"84\",\"85\",\"86\",\"87\",\"88\",\"89\",\"90\",\"91\",\"92\",\"93\",\"94\",\"95\",\"96\",\"97\",\"98\",\"99\",\"100\"],\"index\":[0,1,2,3,4,5,6,7,8,9,10,11,12,13,14,15,16,17,18,19,20,21,22,23,24,25,26,27,28,29,30,31,32,33,34,35,36,37,38,39,40,41,42,43,44,45,46,47,48,49,50,51,52,53,54,55,56,57,58,59,60,61,62,63,64,65,66,67,68,69,70,71,72,73,74,75,76,77,78,79,80,81,82,83,84,85,86,87,88,89,90,91,92,93,94,95,96,97,98,99]},\"name\":\"Series:\",\"selected\":{\"id\":\"1538\",\"type\":\"Selection\"},\"selection_policy\":{\"id\":\"1539\",\"type\":\"UnionRenderers\"}},\"id\":\"1486\",\"type\":\"ColumnDataSource\"},{\"attributes\":{\"plot\":null,\"text\":\"Hour 5\",\"text_color\":{\"value\":\"#333333\"},\"text_font_size\":{\"value\":\"18pt\"}},\"id\":\"1478\",\"type\":\"Title\"},{\"attributes\":{\"fill_color\":{\"field\":\"color_column\",\"transform\":{\"id\":\"1487\",\"type\":\"CategoricalColorMapper\"}},\"line_color\":{\"value\":\"white\"},\"top\":{\"field\":\"Volume\"},\"width\":{\"value\":0.9},\"x\":{\"field\":\"factors\"}},\"id\":\"1491\",\"type\":\"VBar\"},{\"attributes\":{\"fill_alpha\":{\"value\":0.1},\"fill_color\":{\"value\":\"#1f77b4\"},\"line_alpha\":{\"value\":0.1},\"line_color\":{\"value\":\"#1f77b4\"},\"top\":{\"field\":\"Volume\"},\"width\":{\"value\":0.9},\"x\":{\"field\":\"factors\"}},\"id\":\"1492\",\"type\":\"VBar\"},{\"attributes\":{\"data_source\":{\"id\":\"1486\",\"type\":\"ColumnDataSource\"},\"glyph\":{\"id\":\"1491\",\"type\":\"VBar\"},\"hover_glyph\":null,\"muted_glyph\":null,\"nonselection_glyph\":{\"id\":\"1492\",\"type\":\"VBar\"},\"selection_glyph\":null,\"view\":{\"id\":\"1494\",\"type\":\"CDSView\"}},\"id\":\"1493\",\"type\":\"GlyphRenderer\"},{\"attributes\":{},\"id\":\"1475\",\"type\":\"SaveTool\"},{\"attributes\":{\"level\":\"overlay\",\"name\":\"subtitle\",\"plot\":{\"id\":\"1457\",\"subtype\":\"Figure\",\"type\":\"Plot\"},\"text\":\"\",\"text_align\":\"right\",\"text_color\":{\"value\":\"#898989\"},\"text_font_size\":{\"value\":\"10px\"},\"x\":864.0,\"x_units\":\"screen\",\"y\":0,\"y_units\":\"screen\"},\"id\":\"1481\",\"type\":\"Label\"},{\"attributes\":{\"source\":{\"id\":\"1486\",\"type\":\"ColumnDataSource\"}},\"id\":\"1494\",\"type\":\"CDSView\"},{\"attributes\":{},\"id\":\"1498\",\"type\":\"CategoricalTickFormatter\"},{\"attributes\":{\"items\":[{\"id\":\"1501\",\"type\":\"LegendItem\"}],\"location\":\"top_left\",\"orientation\":\"horizontal\",\"plot\":{\"id\":\"1457\",\"subtype\":\"Figure\",\"type\":\"Plot\"},\"visible\":false},\"id\":\"1500\",\"type\":\"Legend\"},{\"attributes\":{\"active_drag\":null,\"active_inspect\":\"auto\",\"active_multi\":null,\"active_scroll\":\"auto\",\"active_tap\":\"auto\",\"logo\":null,\"tools\":[{\"id\":\"1475\",\"type\":\"SaveTool\"}]},\"id\":\"1476\",\"type\":\"Toolbar\"},{\"attributes\":{\"label\":{\"field\":\"color_column\"},\"renderers\":[{\"id\":\"1493\",\"type\":\"GlyphRenderer\"}]},\"id\":\"1501\",\"type\":\"LegendItem\"},{\"attributes\":{\"callback\":null,\"end\":null,\"start\":0},\"id\":\"1460\",\"type\":\"DataRange1d\"},{\"attributes\":{},\"id\":\"1538\",\"type\":\"Selection\"},{\"attributes\":{},\"id\":\"1462\",\"type\":\"CategoricalScale\"},{\"attributes\":{},\"id\":\"1464\",\"type\":\"LinearScale\"},{\"attributes\":{},\"id\":\"1539\",\"type\":\"UnionRenderers\"}],\"root_ids\":[\"1457\"]},\"title\":\"Bokeh Application\",\"version\":\"1.0.4\"}};\n",
       "  var render_items = [{\"docid\":\"43573760-b340-4753-9079-d81a32160bd2\",\"roots\":{\"1457\":\"d6145807-fca6-4434-9396-892391134913\"}}];\n",
       "  root.Bokeh.embed.embed_items_notebook(docs_json, render_items);\n",
       "\n",
       "  }\n",
       "  if (root.Bokeh !== undefined) {\n",
       "    embed_document(root);\n",
       "  } else {\n",
       "    var attempts = 0;\n",
       "    var timer = setInterval(function(root) {\n",
       "      if (root.Bokeh !== undefined) {\n",
       "        embed_document(root);\n",
       "        clearInterval(timer);\n",
       "      }\n",
       "      attempts++;\n",
       "      if (attempts > 100) {\n",
       "        console.log(\"Bokeh: ERROR: Unable to run BokehJS code because BokehJS library is missing\");\n",
       "        clearInterval(timer);\n",
       "      }\n",
       "    }, 10, root)\n",
       "  }\n",
       "})(window);"
      ],
      "application/vnd.bokehjs_exec.v0+json": ""
     },
     "metadata": {
      "application/vnd.bokehjs_exec.v0+json": {
       "id": "1457"
      }
     },
     "output_type": "display_data"
    }
   ],
   "source": [
    "#@showDoorLevelResults()\n",
    "def showDoorLevelResults(hour):\n",
    "    resultsData = pd.read_csv('Hour7.csv')\n",
    "    resultsData = resultsData[resultsData.Hour==hour]\n",
    "    ch = cfy.Chart(blank_labels=True, x_axis_type='categorical')\n",
    "    ch.set_title(\"Hour {}\".format(hour))\n",
    "    ch.set_subtitle(\"Associate to Door Assignment\".format(hour))\n",
    "    ch.plot.bar(\n",
    "        data_frame=resultsData,\n",
    "        categorical_columns='Door',\n",
    "        numeric_column='Volume',\n",
    "        categorical_order_by='labels',\n",
    "        categorical_order_ascending=True,\n",
    "        color_column='Assignment')\n",
    "    ch.axes.hide_xaxis()\n",
    "    ch.set_legend_location(None)\n",
    "    ch.style.color_palette.reset_palette_order()\n",
    "    return ch.show('html')\n",
    "showDoorLevelResults(5)"
   ]
  }
 ],
 "metadata": {
  "kernelspec": {
   "display_name": "Python 3",
   "language": "python",
   "name": "python3"
  },
  "language_info": {
   "codemirror_mode": {
    "name": "ipython",
    "version": 3
   },
   "file_extension": ".py",
   "mimetype": "text/x-python",
   "name": "python",
   "nbconvert_exporter": "python",
   "pygments_lexer": "ipython3",
   "version": "3.7.9"
  }
 },
 "nbformat": 4,
 "nbformat_minor": 4
}
